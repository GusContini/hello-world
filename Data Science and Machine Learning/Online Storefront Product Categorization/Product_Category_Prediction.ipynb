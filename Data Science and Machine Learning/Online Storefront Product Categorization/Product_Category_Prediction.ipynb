{
  "cells": [
    {
      "cell_type": "markdown",
      "source": [
        "This notebook's objective is to predict product categories (on a one-vs-all approach) based on its description and evaluate the performance of several Machine Learning (ML) algorithms.\n",
        "\n",
        "All the information used was scraped from Amazon's Brazilian e-commerce. Descriptions are originally in portuguese and have been treated through two distinct pipelines. The 1st one takes portuguese descriptions and creates corpus based on an 'portuguese NLP treatment pipeline'. The 2nd uses translated descriptions (from portuguese to english) and then uses the 'english NLP treatment pipeline'.\n",
        "\n",
        "After creating these two corpus, two vectorization methods are applied: word embeddings modeling and It-idf. These are the 'X' variables. The 'y' (target) is the product category. Then the following ML algorithms are used to predict product category: linear SVM, non-linear SVM, Random Forest and XGBoost. All models have their hyperparameters optimized using Grid Search. Training is done using a Repeated Stratified K-Fold sampling method."
      ],
      "metadata": {
        "id": "FTMSkWBhZO-D"
      }
    },
    {
      "cell_type": "markdown",
      "source": [
        "## Load datasets"
      ],
      "metadata": {
        "id": "EVxdmVWBhRdL"
      }
    },
    {
      "cell_type": "code",
      "execution_count": null,
      "metadata": {
        "id": "YPeSxScbY3Oh",
        "outputId": "ffafe405-0479-467c-e926-2cab550754eb"
      },
      "outputs": [
        {
          "data": {
            "text/html": [
              "<div>\n",
              "<style scoped>\n",
              "    .dataframe tbody tr th:only-of-type {\n",
              "        vertical-align: middle;\n",
              "    }\n",
              "\n",
              "    .dataframe tbody tr th {\n",
              "        vertical-align: top;\n",
              "    }\n",
              "\n",
              "    .dataframe thead th {\n",
              "        text-align: right;\n",
              "    }\n",
              "</style>\n",
              "<table border=\"1\" class=\"dataframe\">\n",
              "  <thead>\n",
              "    <tr style=\"text-align: right;\">\n",
              "      <th></th>\n",
              "      <th>produto</th>\n",
              "      <th>language</th>\n",
              "      <th>text_lem_en</th>\n",
              "      <th>vec_pt_en</th>\n",
              "      <th>word_count_text_lem_en</th>\n",
              "      <th>char_count_text_lem_en</th>\n",
              "      <th>avg_word_length_text_lem_en</th>\n",
              "      <th>Departamento</th>\n",
              "      <th>preco_inteiro</th>\n",
              "      <th>preco_decimal</th>\n",
              "      <th>...</th>\n",
              "      <th>qtd_reviews</th>\n",
              "      <th>rating</th>\n",
              "      <th>tag</th>\n",
              "      <th>url_produto</th>\n",
              "      <th>preco</th>\n",
              "      <th>rating_ajustado</th>\n",
              "      <th>frete_gratis</th>\n",
              "      <th>prazo_ajustado</th>\n",
              "      <th>frete_preco</th>\n",
              "      <th>frete_gratis_binario</th>\n",
              "    </tr>\n",
              "  </thead>\n",
              "  <tbody>\n",
              "    <tr>\n",
              "      <th>0</th>\n",
              "      <td>Notebook Lenovo Ultrafino ideapad S145 i5-1035...</td>\n",
              "      <td>bg</td>\n",
              "      <td>notebook lenovo ultrafino ideapad windows dolb...</td>\n",
              "      <td>[ 3.20744514e-02 -6.18032664e-02  1.48132816e-...</td>\n",
              "      <td>11</td>\n",
              "      <td>70</td>\n",
              "      <td>6.363636</td>\n",
              "      <td>Computadores e Informática</td>\n",
              "      <td>3.699,</td>\n",
              "      <td>0.0</td>\n",
              "      <td>...</td>\n",
              "      <td>NaN</td>\n",
              "      <td>4,4 de 5 estrelas</td>\n",
              "      <td>[&lt;span class=\"a-badge-text\" data-a-badge-color...</td>\n",
              "      <td>NaN</td>\n",
              "      <td>3699.0</td>\n",
              "      <td>4.4</td>\n",
              "      <td>NaN</td>\n",
              "      <td>NaN</td>\n",
              "      <td>NaN</td>\n",
              "      <td>0</td>\n",
              "    </tr>\n",
              "    <tr>\n",
              "      <th>1</th>\n",
              "      <td>Impressora multifuncional HP DeskJet Ink Advan...</td>\n",
              "      <td>pt</td>\n",
              "      <td>impressora multifuncional hp deskjet ink advan...</td>\n",
              "      <td>[-1.21643379e-01  2.40051225e-01  1.67172253e-...</td>\n",
              "      <td>8</td>\n",
              "      <td>49</td>\n",
              "      <td>6.125000</td>\n",
              "      <td>Computadores e Informática</td>\n",
              "      <td>378,</td>\n",
              "      <td>0.0</td>\n",
              "      <td>...</td>\n",
              "      <td>NaN</td>\n",
              "      <td>4,6 de 5 estrelas</td>\n",
              "      <td>[]</td>\n",
              "      <td>NaN</td>\n",
              "      <td>378.0</td>\n",
              "      <td>4.6</td>\n",
              "      <td>NaN</td>\n",
              "      <td>NaN</td>\n",
              "      <td>NaN</td>\n",
              "      <td>0</td>\n",
              "    </tr>\n",
              "  </tbody>\n",
              "</table>\n",
              "<p>2 rows × 22 columns</p>\n",
              "</div>"
            ],
            "text/plain": [
              "                                             produto language  \\\n",
              "0  Notebook Lenovo Ultrafino ideapad S145 i5-1035...       bg   \n",
              "1  Impressora multifuncional HP DeskJet Ink Advan...       pt   \n",
              "\n",
              "                                         text_lem_en  \\\n",
              "0  notebook lenovo ultrafino ideapad windows dolb...   \n",
              "1  impressora multifuncional hp deskjet ink advan...   \n",
              "\n",
              "                                           vec_pt_en  word_count_text_lem_en  \\\n",
              "0  [ 3.20744514e-02 -6.18032664e-02  1.48132816e-...                      11   \n",
              "1  [-1.21643379e-01  2.40051225e-01  1.67172253e-...                       8   \n",
              "\n",
              "   char_count_text_lem_en  avg_word_length_text_lem_en  \\\n",
              "0                      70                     6.363636   \n",
              "1                      49                     6.125000   \n",
              "\n",
              "                 Departamento preco_inteiro  preco_decimal  ...  qtd_reviews  \\\n",
              "0  Computadores e Informática        3.699,            0.0  ...          NaN   \n",
              "1  Computadores e Informática          378,            0.0  ...          NaN   \n",
              "\n",
              "              rating                                                tag  \\\n",
              "0  4,4 de 5 estrelas  [<span class=\"a-badge-text\" data-a-badge-color...   \n",
              "1  4,6 de 5 estrelas                                                 []   \n",
              "\n",
              "  url_produto   preco rating_ajustado  frete_gratis  prazo_ajustado  \\\n",
              "0         NaN  3699.0             4.4           NaN             NaN   \n",
              "1         NaN   378.0             4.6           NaN             NaN   \n",
              "\n",
              "  frete_preco  frete_gratis_binario  \n",
              "0         NaN                     0  \n",
              "1         NaN                     0  \n",
              "\n",
              "[2 rows x 22 columns]"
            ]
          },
          "execution_count": 1,
          "metadata": {},
          "output_type": "execute_result"
        }
      ],
      "source": [
        "# PT description EN pipeline\n",
        "import pandas as pd\n",
        "import time\n",
        "data_pt_en = pd.read_csv('dat/base_pt_en_full.csv', index_col=0)\n",
        "data_pt_en.head(2)"
      ]
    },
    {
      "cell_type": "code",
      "execution_count": null,
      "metadata": {
        "id": "5HPQokzvY3Ol",
        "outputId": "9901f2f4-ea88-4c81-b1e3-73992acfd314"
      },
      "outputs": [
        {
          "data": {
            "text/html": [
              "<div>\n",
              "<style scoped>\n",
              "    .dataframe tbody tr th:only-of-type {\n",
              "        vertical-align: middle;\n",
              "    }\n",
              "\n",
              "    .dataframe tbody tr th {\n",
              "        vertical-align: top;\n",
              "    }\n",
              "\n",
              "    .dataframe thead th {\n",
              "        text-align: right;\n",
              "    }\n",
              "</style>\n",
              "<table border=\"1\" class=\"dataframe\">\n",
              "  <thead>\n",
              "    <tr style=\"text-align: right;\">\n",
              "      <th></th>\n",
              "      <th>produto</th>\n",
              "      <th>language</th>\n",
              "      <th>text_lem_en</th>\n",
              "      <th>vec_pt_en</th>\n",
              "      <th>word_count_text_lem_en</th>\n",
              "      <th>char_count_text_lem_en</th>\n",
              "      <th>avg_word_length_text_lem_en</th>\n",
              "      <th>Departamento</th>\n",
              "      <th>preco_inteiro</th>\n",
              "      <th>preco_decimal</th>\n",
              "      <th>...</th>\n",
              "      <th>qtd_reviews</th>\n",
              "      <th>rating</th>\n",
              "      <th>tag</th>\n",
              "      <th>url_produto</th>\n",
              "      <th>preco</th>\n",
              "      <th>rating_ajustado</th>\n",
              "      <th>frete_gratis</th>\n",
              "      <th>prazo_ajustado</th>\n",
              "      <th>frete_preco</th>\n",
              "      <th>frete_gratis_binario</th>\n",
              "    </tr>\n",
              "  </thead>\n",
              "  <tbody>\n",
              "    <tr>\n",
              "      <th>0</th>\n",
              "      <td>Notebook Lenovo Ultrafino ideapad S145 i5-1035...</td>\n",
              "      <td>bg</td>\n",
              "      <td>notebook lenovo ultrafino ideapad windows dolb...</td>\n",
              "      <td>[ 8.61879885e-01 -5.54171801e-01 -7.57330894e-...</td>\n",
              "      <td>11</td>\n",
              "      <td>71</td>\n",
              "      <td>6.454545</td>\n",
              "      <td>Computadores e Informática</td>\n",
              "      <td>3.699,</td>\n",
              "      <td>0.0</td>\n",
              "      <td>...</td>\n",
              "      <td>NaN</td>\n",
              "      <td>4,4 de 5 estrelas</td>\n",
              "      <td>[&lt;span class=\"a-badge-text\" data-a-badge-color...</td>\n",
              "      <td>NaN</td>\n",
              "      <td>3699.0</td>\n",
              "      <td>4.4</td>\n",
              "      <td>NaN</td>\n",
              "      <td>NaN</td>\n",
              "      <td>NaN</td>\n",
              "      <td>0</td>\n",
              "    </tr>\n",
              "    <tr>\n",
              "      <th>1</th>\n",
              "      <td>Impressora multifuncional HP DeskJet Ink Advan...</td>\n",
              "      <td>pt</td>\n",
              "      <td>impressor multifuncional hp deskjet ink advant...</td>\n",
              "      <td>[-1.06697619e+00 -9.96912241e-01 -3.23827553e+...</td>\n",
              "      <td>8</td>\n",
              "      <td>51</td>\n",
              "      <td>6.375000</td>\n",
              "      <td>Computadores e Informática</td>\n",
              "      <td>378,</td>\n",
              "      <td>0.0</td>\n",
              "      <td>...</td>\n",
              "      <td>NaN</td>\n",
              "      <td>4,6 de 5 estrelas</td>\n",
              "      <td>[]</td>\n",
              "      <td>NaN</td>\n",
              "      <td>378.0</td>\n",
              "      <td>4.6</td>\n",
              "      <td>NaN</td>\n",
              "      <td>NaN</td>\n",
              "      <td>NaN</td>\n",
              "      <td>0</td>\n",
              "    </tr>\n",
              "  </tbody>\n",
              "</table>\n",
              "<p>2 rows × 22 columns</p>\n",
              "</div>"
            ],
            "text/plain": [
              "                                             produto language  \\\n",
              "0  Notebook Lenovo Ultrafino ideapad S145 i5-1035...       bg   \n",
              "1  Impressora multifuncional HP DeskJet Ink Advan...       pt   \n",
              "\n",
              "                                         text_lem_en  \\\n",
              "0  notebook lenovo ultrafino ideapad windows dolb...   \n",
              "1  impressor multifuncional hp deskjet ink advant...   \n",
              "\n",
              "                                           vec_pt_en  word_count_text_lem_en  \\\n",
              "0  [ 8.61879885e-01 -5.54171801e-01 -7.57330894e-...                      11   \n",
              "1  [-1.06697619e+00 -9.96912241e-01 -3.23827553e+...                       8   \n",
              "\n",
              "   char_count_text_lem_en  avg_word_length_text_lem_en  \\\n",
              "0                      71                     6.454545   \n",
              "1                      51                     6.375000   \n",
              "\n",
              "                 Departamento preco_inteiro  preco_decimal  ...  qtd_reviews  \\\n",
              "0  Computadores e Informática        3.699,            0.0  ...          NaN   \n",
              "1  Computadores e Informática          378,            0.0  ...          NaN   \n",
              "\n",
              "              rating                                                tag  \\\n",
              "0  4,4 de 5 estrelas  [<span class=\"a-badge-text\" data-a-badge-color...   \n",
              "1  4,6 de 5 estrelas                                                 []   \n",
              "\n",
              "  url_produto   preco rating_ajustado  frete_gratis  prazo_ajustado  \\\n",
              "0         NaN  3699.0             4.4           NaN             NaN   \n",
              "1         NaN   378.0             4.6           NaN             NaN   \n",
              "\n",
              "  frete_preco  frete_gratis_binario  \n",
              "0         NaN                     0  \n",
              "1         NaN                     0  \n",
              "\n",
              "[2 rows x 22 columns]"
            ]
          },
          "execution_count": 2,
          "metadata": {},
          "output_type": "execute_result"
        }
      ],
      "source": [
        "# PT description PT pipeline\n",
        "data_pt_pt = pd.read_csv('dat/base_pt_pt_full.csv', index_col=0)\n",
        "data_pt_pt.head(2)"
      ]
    },
    {
      "cell_type": "code",
      "execution_count": null,
      "metadata": {
        "id": "F69TNem_Y3Om",
        "outputId": "2dd2d70b-fc0e-4a8b-9289-f49e2da8ff53"
      },
      "outputs": [
        {
          "data": {
            "text/html": [
              "<div>\n",
              "<style scoped>\n",
              "    .dataframe tbody tr th:only-of-type {\n",
              "        vertical-align: middle;\n",
              "    }\n",
              "\n",
              "    .dataframe tbody tr th {\n",
              "        vertical-align: top;\n",
              "    }\n",
              "\n",
              "    .dataframe thead th {\n",
              "        text-align: right;\n",
              "    }\n",
              "</style>\n",
              "<table border=\"1\" class=\"dataframe\">\n",
              "  <thead>\n",
              "    <tr style=\"text-align: right;\">\n",
              "      <th></th>\n",
              "      <th>produto</th>\n",
              "      <th>HandTranslate</th>\n",
              "      <th>text_lem_en</th>\n",
              "      <th>vec_en_en</th>\n",
              "      <th>word_count_text_en_lem_en</th>\n",
              "      <th>char_count_text_en_lem_en</th>\n",
              "      <th>avg_word_length_text_en_lem_en</th>\n",
              "      <th>Departamento</th>\n",
              "      <th>preco_inteiro</th>\n",
              "      <th>preco_decimal</th>\n",
              "      <th>...</th>\n",
              "      <th>qtd_reviews</th>\n",
              "      <th>rating</th>\n",
              "      <th>tag</th>\n",
              "      <th>url_produto</th>\n",
              "      <th>preco</th>\n",
              "      <th>rating_ajustado</th>\n",
              "      <th>frete_gratis</th>\n",
              "      <th>prazo_ajustado</th>\n",
              "      <th>frete_preco</th>\n",
              "      <th>frete_gratis_binario</th>\n",
              "    </tr>\n",
              "    <tr>\n",
              "      <th>id</th>\n",
              "      <th></th>\n",
              "      <th></th>\n",
              "      <th></th>\n",
              "      <th></th>\n",
              "      <th></th>\n",
              "      <th></th>\n",
              "      <th></th>\n",
              "      <th></th>\n",
              "      <th></th>\n",
              "      <th></th>\n",
              "      <th></th>\n",
              "      <th></th>\n",
              "      <th></th>\n",
              "      <th></th>\n",
              "      <th></th>\n",
              "      <th></th>\n",
              "      <th></th>\n",
              "      <th></th>\n",
              "      <th></th>\n",
              "      <th></th>\n",
              "      <th></th>\n",
              "    </tr>\n",
              "  </thead>\n",
              "  <tbody>\n",
              "    <tr>\n",
              "      <th>0</th>\n",
              "      <td>Notebook Lenovo Ultrafino ideapad S145 i5-1035...</td>\n",
              "      <td>Lenovo Ultra Slim notebook ideapad S145 i5-103...</td>\n",
              "      <td>lenovo ultra slim notebook ideapad windows dol...</td>\n",
              "      <td>[-4.01966274e-02  3.79645862e-02  1.25288337e-...</td>\n",
              "      <td>12</td>\n",
              "      <td>71</td>\n",
              "      <td>5.916667</td>\n",
              "      <td>Computadores e Informática</td>\n",
              "      <td>3.699,</td>\n",
              "      <td>0.0</td>\n",
              "      <td>...</td>\n",
              "      <td>NaN</td>\n",
              "      <td>4,4 de 5 estrelas</td>\n",
              "      <td>[&lt;span class=\"a-badge-text\" data-a-badge-color...</td>\n",
              "      <td>NaN</td>\n",
              "      <td>3699.0</td>\n",
              "      <td>4.4</td>\n",
              "      <td>NaN</td>\n",
              "      <td>NaN</td>\n",
              "      <td>NaN</td>\n",
              "      <td>0</td>\n",
              "    </tr>\n",
              "    <tr>\n",
              "      <th>1</th>\n",
              "      <td>Impressora multifuncional HP DeskJet Ink Advan...</td>\n",
              "      <td>HP DeskJet Ink Advantage 2774 All-in-One Print...</td>\n",
              "      <td>hp deskjet ink advantage printer wi fi</td>\n",
              "      <td>[-1.62779570e-01  3.08242798e-01  2.02117279e-...</td>\n",
              "      <td>7</td>\n",
              "      <td>32</td>\n",
              "      <td>4.571429</td>\n",
              "      <td>Computadores e Informática</td>\n",
              "      <td>378,</td>\n",
              "      <td>0.0</td>\n",
              "      <td>...</td>\n",
              "      <td>NaN</td>\n",
              "      <td>4,6 de 5 estrelas</td>\n",
              "      <td>[]</td>\n",
              "      <td>NaN</td>\n",
              "      <td>378.0</td>\n",
              "      <td>4.6</td>\n",
              "      <td>NaN</td>\n",
              "      <td>NaN</td>\n",
              "      <td>NaN</td>\n",
              "      <td>0</td>\n",
              "    </tr>\n",
              "  </tbody>\n",
              "</table>\n",
              "<p>2 rows × 22 columns</p>\n",
              "</div>"
            ],
            "text/plain": [
              "                                              produto  \\\n",
              "id                                                      \n",
              "0   Notebook Lenovo Ultrafino ideapad S145 i5-1035...   \n",
              "1   Impressora multifuncional HP DeskJet Ink Advan...   \n",
              "\n",
              "                                        HandTranslate  \\\n",
              "id                                                      \n",
              "0   Lenovo Ultra Slim notebook ideapad S145 i5-103...   \n",
              "1   HP DeskJet Ink Advantage 2774 All-in-One Print...   \n",
              "\n",
              "                                          text_lem_en  \\\n",
              "id                                                      \n",
              "0   lenovo ultra slim notebook ideapad windows dol...   \n",
              "1              hp deskjet ink advantage printer wi fi   \n",
              "\n",
              "                                            vec_en_en  \\\n",
              "id                                                      \n",
              "0   [-4.01966274e-02  3.79645862e-02  1.25288337e-...   \n",
              "1   [-1.62779570e-01  3.08242798e-01  2.02117279e-...   \n",
              "\n",
              "    word_count_text_en_lem_en  char_count_text_en_lem_en  \\\n",
              "id                                                         \n",
              "0                          12                         71   \n",
              "1                           7                         32   \n",
              "\n",
              "    avg_word_length_text_en_lem_en                Departamento preco_inteiro  \\\n",
              "id                                                                             \n",
              "0                         5.916667  Computadores e Informática        3.699,   \n",
              "1                         4.571429  Computadores e Informática          378,   \n",
              "\n",
              "    preco_decimal  ...  qtd_reviews             rating  \\\n",
              "id                 ...                                   \n",
              "0             0.0  ...          NaN  4,4 de 5 estrelas   \n",
              "1             0.0  ...          NaN  4,6 de 5 estrelas   \n",
              "\n",
              "                                                  tag url_produto   preco  \\\n",
              "id                                                                          \n",
              "0   [<span class=\"a-badge-text\" data-a-badge-color...         NaN  3699.0   \n",
              "1                                                  []         NaN   378.0   \n",
              "\n",
              "   rating_ajustado  frete_gratis  prazo_ajustado frete_preco  \\\n",
              "id                                                             \n",
              "0              4.4           NaN             NaN         NaN   \n",
              "1              4.6           NaN             NaN         NaN   \n",
              "\n",
              "    frete_gratis_binario  \n",
              "id                        \n",
              "0                      0  \n",
              "1                      0  \n",
              "\n",
              "[2 rows x 22 columns]"
            ]
          },
          "execution_count": 3,
          "metadata": {},
          "output_type": "execute_result"
        }
      ],
      "source": [
        "# EN description EN pipeline\n",
        "data_en_en = pd.read_csv('dat/base_en_en_full.csv', index_col=0)\n",
        "data_en_en.head(2)"
      ]
    },
    {
      "cell_type": "code",
      "execution_count": null,
      "metadata": {
        "id": "dIXo0ENwY3Om",
        "outputId": "1fd6c5fc-7820-4369-9a21-3aaff1571b11"
      },
      "outputs": [
        {
          "data": {
            "image/png": "[encoded data removed]",
            "text/plain": [
              "<Figure size 432x288 with 1 Axes>"
            ]
          },
          "metadata": {
            "needs_background": "light"
          },
          "output_type": "display_data"
        }
      ],
      "source": [
        "# PT description PT pipeline product category distribution\n",
        "import matplotlib.pyplot as plt\n",
        "fig, ax = plt.subplots()\n",
        "fig.suptitle('dpto distribution', fontsize=12)\n",
        "data_pt_pt['Departamento'].reset_index().groupby('Departamento').count().sort_values(by=\n",
        "'index').plot(kind='barh', legend=False, ax=ax).grid(axis='x')\n",
        "plt.show()"
      ]
    },
    {
      "cell_type": "code",
      "execution_count": null,
      "metadata": {
        "id": "3OjSSCLCY3On",
        "outputId": "25798cbe-e387-4f8c-c7e6-662192d1e922"
      },
      "outputs": [
        {
          "data": {
            "image/png": "[encoded data removed]",
            "text/plain": [
              "<Figure size 432x288 with 1 Axes>"
            ]
          },
          "metadata": {
            "needs_background": "light"
          },
          "output_type": "display_data"
        }
      ],
      "source": [
        "# PT description PT language description category distribution\n",
        "fig, ax = plt.subplots()\n",
        "fig.suptitle('language distribution', fontsize=12)\n",
        "data_pt_pt['language'].reset_index().groupby('language').count().sort_values(by=\n",
        "'index').plot(kind='barh', legend=False, ax=ax).grid(axis='x')\n",
        "plt.show()"
      ]
    },
    {
      "cell_type": "markdown",
      "metadata": {
        "id": "LBk7euqXY3On"
      },
      "source": [
        "# Modeling with Word Embedding vectors"
      ]
    },
    {
      "cell_type": "markdown",
      "source": [
        "## Set up"
      ],
      "metadata": {
        "id": "Dd17TQ0uio0l"
      }
    },
    {
      "cell_type": "code",
      "execution_count": null,
      "metadata": {
        "id": "KrUgQppwY3Oo"
      },
      "outputs": [],
      "source": [
        "from sklearn.model_selection import train_test_split"
      ]
    },
    {
      "cell_type": "markdown",
      "metadata": {
        "id": "uLCD5kCYY3Op"
      },
      "source": [
        "Since this is a 'one vs all' approach, defines target category and uses word embedding vectors as explanatory variables ('X')."
      ]
    },
    {
      "cell_type": "code",
      "execution_count": null,
      "metadata": {
        "id": "qOLJPrTnY3Oq"
      },
      "outputs": [],
      "source": [
        "data_pt_pt_X = data_pt_pt.vec_pt_en.str[1:-1].str.split(expand=True).apply(pd.to_numeric)\n",
        "data_pt_pt_y = pd.DataFrame(data_pt_pt['Departamento']).copy()"
      ]
    },
    {
      "cell_type": "code",
      "execution_count": null,
      "metadata": {
        "id": "kgjpb4bkY3Or"
      },
      "outputs": [],
      "source": [
        "data_pt_pt_y['Target'] = 0\n",
        "data_pt_pt_y.loc[data_pt_pt_y['Departamento']=='Celulares e Comunicação','Target'] = 1\n",
        "data_pt_pt_y = data_pt_pt_y.pop('Target')"
      ]
    },
    {
      "cell_type": "code",
      "execution_count": null,
      "metadata": {
        "id": "nEpyJkMIY3Or",
        "outputId": "55660e08-3026-4d7c-f9db-edda609c75db"
      },
      "outputs": [
        {
          "data": {
            "text/plain": [
              "0       0\n",
              "1       0\n",
              "2       0\n",
              "3       0\n",
              "4       0\n",
              "       ..\n",
              "1211    1\n",
              "1212    1\n",
              "1213    1\n",
              "1214    1\n",
              "1215    1\n",
              "Name: Target, Length: 1216, dtype: int64"
            ]
          },
          "execution_count": 10,
          "metadata": {},
          "output_type": "execute_result"
        }
      ],
      "source": [
        "data_pt_pt_y"
      ]
    },
    {
      "cell_type": "code",
      "execution_count": null,
      "metadata": {
        "id": "o8m8qNngY3Or",
        "outputId": "2f11df0a-f377-43ea-b154-cb50d516b2e6"
      },
      "outputs": [
        {
          "data": {
            "text/html": [
              "<div>\n",
              "<style scoped>\n",
              "    .dataframe tbody tr th:only-of-type {\n",
              "        vertical-align: middle;\n",
              "    }\n",
              "\n",
              "    .dataframe tbody tr th {\n",
              "        vertical-align: top;\n",
              "    }\n",
              "\n",
              "    .dataframe thead th {\n",
              "        text-align: right;\n",
              "    }\n",
              "</style>\n",
              "<table border=\"1\" class=\"dataframe\">\n",
              "  <thead>\n",
              "    <tr style=\"text-align: right;\">\n",
              "      <th></th>\n",
              "      <th>0</th>\n",
              "      <th>1</th>\n",
              "      <th>2</th>\n",
              "      <th>3</th>\n",
              "      <th>4</th>\n",
              "      <th>5</th>\n",
              "      <th>6</th>\n",
              "      <th>7</th>\n",
              "      <th>8</th>\n",
              "      <th>9</th>\n",
              "      <th>...</th>\n",
              "      <th>290</th>\n",
              "      <th>291</th>\n",
              "      <th>292</th>\n",
              "      <th>293</th>\n",
              "      <th>294</th>\n",
              "      <th>295</th>\n",
              "      <th>296</th>\n",
              "      <th>297</th>\n",
              "      <th>298</th>\n",
              "      <th>299</th>\n",
              "    </tr>\n",
              "  </thead>\n",
              "  <tbody>\n",
              "    <tr>\n",
              "      <th>0</th>\n",
              "      <td>0.861880</td>\n",
              "      <td>-0.554172</td>\n",
              "      <td>-0.757331</td>\n",
              "      <td>1.379387</td>\n",
              "      <td>-0.712550</td>\n",
              "      <td>0.114787</td>\n",
              "      <td>-2.127228</td>\n",
              "      <td>-1.869729</td>\n",
              "      <td>-1.023301</td>\n",
              "      <td>0.004139</td>\n",
              "      <td>...</td>\n",
              "      <td>1.210903</td>\n",
              "      <td>-0.321954</td>\n",
              "      <td>-0.976725</td>\n",
              "      <td>-1.230470</td>\n",
              "      <td>0.950623</td>\n",
              "      <td>-0.777153</td>\n",
              "      <td>0.566295</td>\n",
              "      <td>-0.873077</td>\n",
              "      <td>-0.214928</td>\n",
              "      <td>0.490585</td>\n",
              "    </tr>\n",
              "    <tr>\n",
              "      <th>1</th>\n",
              "      <td>-1.066976</td>\n",
              "      <td>-0.996912</td>\n",
              "      <td>-3.238276</td>\n",
              "      <td>-0.150161</td>\n",
              "      <td>2.341870</td>\n",
              "      <td>2.301700</td>\n",
              "      <td>-0.923975</td>\n",
              "      <td>-1.887239</td>\n",
              "      <td>-1.741135</td>\n",
              "      <td>0.092268</td>\n",
              "      <td>...</td>\n",
              "      <td>0.685835</td>\n",
              "      <td>0.036380</td>\n",
              "      <td>-1.154664</td>\n",
              "      <td>-0.484291</td>\n",
              "      <td>-0.610318</td>\n",
              "      <td>-0.777929</td>\n",
              "      <td>0.182166</td>\n",
              "      <td>1.000631</td>\n",
              "      <td>-0.774751</td>\n",
              "      <td>0.387428</td>\n",
              "    </tr>\n",
              "    <tr>\n",
              "      <th>2</th>\n",
              "      <td>-0.999081</td>\n",
              "      <td>-1.496928</td>\n",
              "      <td>-1.502485</td>\n",
              "      <td>0.495169</td>\n",
              "      <td>0.793232</td>\n",
              "      <td>0.692351</td>\n",
              "      <td>-1.402536</td>\n",
              "      <td>-1.469971</td>\n",
              "      <td>-1.840008</td>\n",
              "      <td>0.227416</td>\n",
              "      <td>...</td>\n",
              "      <td>1.531721</td>\n",
              "      <td>-0.004975</td>\n",
              "      <td>-0.333605</td>\n",
              "      <td>-0.496175</td>\n",
              "      <td>-0.312577</td>\n",
              "      <td>-0.653219</td>\n",
              "      <td>0.368908</td>\n",
              "      <td>-0.370058</td>\n",
              "      <td>-0.829346</td>\n",
              "      <td>0.265934</td>\n",
              "    </tr>\n",
              "    <tr>\n",
              "      <th>3</th>\n",
              "      <td>0.008694</td>\n",
              "      <td>0.282899</td>\n",
              "      <td>-0.690904</td>\n",
              "      <td>1.166400</td>\n",
              "      <td>1.455887</td>\n",
              "      <td>-0.040001</td>\n",
              "      <td>-1.044143</td>\n",
              "      <td>0.079414</td>\n",
              "      <td>-0.462491</td>\n",
              "      <td>-0.948222</td>\n",
              "      <td>...</td>\n",
              "      <td>3.236859</td>\n",
              "      <td>-0.698301</td>\n",
              "      <td>0.321226</td>\n",
              "      <td>-1.360677</td>\n",
              "      <td>1.313164</td>\n",
              "      <td>-1.765027</td>\n",
              "      <td>0.317259</td>\n",
              "      <td>-0.537139</td>\n",
              "      <td>-0.485040</td>\n",
              "      <td>-0.173056</td>\n",
              "    </tr>\n",
              "    <tr>\n",
              "      <th>4</th>\n",
              "      <td>-1.851190</td>\n",
              "      <td>-1.447486</td>\n",
              "      <td>-1.519356</td>\n",
              "      <td>0.177390</td>\n",
              "      <td>0.540133</td>\n",
              "      <td>1.242671</td>\n",
              "      <td>-0.952926</td>\n",
              "      <td>-1.510099</td>\n",
              "      <td>-1.640919</td>\n",
              "      <td>-0.721394</td>\n",
              "      <td>...</td>\n",
              "      <td>2.015363</td>\n",
              "      <td>-0.741891</td>\n",
              "      <td>0.978950</td>\n",
              "      <td>-0.059314</td>\n",
              "      <td>-0.254616</td>\n",
              "      <td>-0.487540</td>\n",
              "      <td>0.282727</td>\n",
              "      <td>1.182821</td>\n",
              "      <td>-1.492929</td>\n",
              "      <td>0.624283</td>\n",
              "    </tr>\n",
              "    <tr>\n",
              "      <th>...</th>\n",
              "      <td>...</td>\n",
              "      <td>...</td>\n",
              "      <td>...</td>\n",
              "      <td>...</td>\n",
              "      <td>...</td>\n",
              "      <td>...</td>\n",
              "      <td>...</td>\n",
              "      <td>...</td>\n",
              "      <td>...</td>\n",
              "      <td>...</td>\n",
              "      <td>...</td>\n",
              "      <td>...</td>\n",
              "      <td>...</td>\n",
              "      <td>...</td>\n",
              "      <td>...</td>\n",
              "      <td>...</td>\n",
              "      <td>...</td>\n",
              "      <td>...</td>\n",
              "      <td>...</td>\n",
              "      <td>...</td>\n",
              "      <td>...</td>\n",
              "    </tr>\n",
              "    <tr>\n",
              "      <th>1211</th>\n",
              "      <td>0.267516</td>\n",
              "      <td>-0.980414</td>\n",
              "      <td>-0.456730</td>\n",
              "      <td>-0.594262</td>\n",
              "      <td>0.704767</td>\n",
              "      <td>0.779343</td>\n",
              "      <td>-1.599469</td>\n",
              "      <td>-1.179484</td>\n",
              "      <td>-2.548021</td>\n",
              "      <td>-1.326194</td>\n",
              "      <td>...</td>\n",
              "      <td>1.586757</td>\n",
              "      <td>-0.485357</td>\n",
              "      <td>0.921854</td>\n",
              "      <td>0.069619</td>\n",
              "      <td>0.064937</td>\n",
              "      <td>-1.306230</td>\n",
              "      <td>-0.854699</td>\n",
              "      <td>-0.309132</td>\n",
              "      <td>-1.112223</td>\n",
              "      <td>0.137376</td>\n",
              "    </tr>\n",
              "    <tr>\n",
              "      <th>1212</th>\n",
              "      <td>-0.615527</td>\n",
              "      <td>-2.133485</td>\n",
              "      <td>-1.516018</td>\n",
              "      <td>0.592276</td>\n",
              "      <td>-0.323934</td>\n",
              "      <td>0.437103</td>\n",
              "      <td>-1.809935</td>\n",
              "      <td>-1.549274</td>\n",
              "      <td>-0.483107</td>\n",
              "      <td>-0.264384</td>\n",
              "      <td>...</td>\n",
              "      <td>0.523023</td>\n",
              "      <td>0.322965</td>\n",
              "      <td>0.933195</td>\n",
              "      <td>-0.563601</td>\n",
              "      <td>-0.309898</td>\n",
              "      <td>-0.015770</td>\n",
              "      <td>-0.187480</td>\n",
              "      <td>-0.568887</td>\n",
              "      <td>-0.555995</td>\n",
              "      <td>0.600672</td>\n",
              "    </tr>\n",
              "    <tr>\n",
              "      <th>1213</th>\n",
              "      <td>-1.013467</td>\n",
              "      <td>-1.596467</td>\n",
              "      <td>-1.446473</td>\n",
              "      <td>1.462170</td>\n",
              "      <td>0.046208</td>\n",
              "      <td>0.881632</td>\n",
              "      <td>-1.385600</td>\n",
              "      <td>-1.447413</td>\n",
              "      <td>-0.929900</td>\n",
              "      <td>-1.462653</td>\n",
              "      <td>...</td>\n",
              "      <td>1.399503</td>\n",
              "      <td>0.108553</td>\n",
              "      <td>2.394163</td>\n",
              "      <td>-1.071317</td>\n",
              "      <td>-1.613517</td>\n",
              "      <td>-0.808823</td>\n",
              "      <td>-0.361850</td>\n",
              "      <td>0.823671</td>\n",
              "      <td>-2.819415</td>\n",
              "      <td>-0.333810</td>\n",
              "    </tr>\n",
              "    <tr>\n",
              "      <th>1214</th>\n",
              "      <td>-0.107195</td>\n",
              "      <td>-1.275162</td>\n",
              "      <td>-1.656871</td>\n",
              "      <td>0.882663</td>\n",
              "      <td>-0.480251</td>\n",
              "      <td>-0.187269</td>\n",
              "      <td>-1.654397</td>\n",
              "      <td>-1.675349</td>\n",
              "      <td>-1.286534</td>\n",
              "      <td>0.237862</td>\n",
              "      <td>...</td>\n",
              "      <td>1.167059</td>\n",
              "      <td>-0.038659</td>\n",
              "      <td>0.584105</td>\n",
              "      <td>0.211277</td>\n",
              "      <td>0.334094</td>\n",
              "      <td>0.031677</td>\n",
              "      <td>0.209259</td>\n",
              "      <td>-0.035837</td>\n",
              "      <td>-1.355243</td>\n",
              "      <td>0.533083</td>\n",
              "    </tr>\n",
              "    <tr>\n",
              "      <th>1215</th>\n",
              "      <td>0.369260</td>\n",
              "      <td>-0.442106</td>\n",
              "      <td>-1.308816</td>\n",
              "      <td>0.510823</td>\n",
              "      <td>-0.063540</td>\n",
              "      <td>0.432131</td>\n",
              "      <td>-2.105461</td>\n",
              "      <td>-1.112887</td>\n",
              "      <td>-1.503901</td>\n",
              "      <td>-0.055037</td>\n",
              "      <td>...</td>\n",
              "      <td>0.773136</td>\n",
              "      <td>0.850439</td>\n",
              "      <td>-0.408754</td>\n",
              "      <td>-0.173401</td>\n",
              "      <td>0.244220</td>\n",
              "      <td>-1.348540</td>\n",
              "      <td>0.097774</td>\n",
              "      <td>-1.338086</td>\n",
              "      <td>-1.056895</td>\n",
              "      <td>-0.031324</td>\n",
              "    </tr>\n",
              "  </tbody>\n",
              "</table>\n",
              "<p>1216 rows × 300 columns</p>\n",
              "</div>"
            ],
            "text/plain": [
              "           0         1         2         3         4         5         6    \\\n",
              "0     0.861880 -0.554172 -0.757331  1.379387 -0.712550  0.114787 -2.127228   \n",
              "1    -1.066976 -0.996912 -3.238276 -0.150161  2.341870  2.301700 -0.923975   \n",
              "2    -0.999081 -1.496928 -1.502485  0.495169  0.793232  0.692351 -1.402536   \n",
              "3     0.008694  0.282899 -0.690904  1.166400  1.455887 -0.040001 -1.044143   \n",
              "4    -1.851190 -1.447486 -1.519356  0.177390  0.540133  1.242671 -0.952926   \n",
              "...        ...       ...       ...       ...       ...       ...       ...   \n",
              "1211  0.267516 -0.980414 -0.456730 -0.594262  0.704767  0.779343 -1.599469   \n",
              "1212 -0.615527 -2.133485 -1.516018  0.592276 -0.323934  0.437103 -1.809935   \n",
              "1213 -1.013467 -1.596467 -1.446473  1.462170  0.046208  0.881632 -1.385600   \n",
              "1214 -0.107195 -1.275162 -1.656871  0.882663 -0.480251 -0.187269 -1.654397   \n",
              "1215  0.369260 -0.442106 -1.308816  0.510823 -0.063540  0.432131 -2.105461   \n",
              "\n",
              "           7         8         9    ...       290       291       292  \\\n",
              "0    -1.869729 -1.023301  0.004139  ...  1.210903 -0.321954 -0.976725   \n",
              "1    -1.887239 -1.741135  0.092268  ...  0.685835  0.036380 -1.154664   \n",
              "2    -1.469971 -1.840008  0.227416  ...  1.531721 -0.004975 -0.333605   \n",
              "3     0.079414 -0.462491 -0.948222  ...  3.236859 -0.698301  0.321226   \n",
              "4    -1.510099 -1.640919 -0.721394  ...  2.015363 -0.741891  0.978950   \n",
              "...        ...       ...       ...  ...       ...       ...       ...   \n",
              "1211 -1.179484 -2.548021 -1.326194  ...  1.586757 -0.485357  0.921854   \n",
              "1212 -1.549274 -0.483107 -0.264384  ...  0.523023  0.322965  0.933195   \n",
              "1213 -1.447413 -0.929900 -1.462653  ...  1.399503  0.108553  2.394163   \n",
              "1214 -1.675349 -1.286534  0.237862  ...  1.167059 -0.038659  0.584105   \n",
              "1215 -1.112887 -1.503901 -0.055037  ...  0.773136  0.850439 -0.408754   \n",
              "\n",
              "           293       294       295       296       297       298       299  \n",
              "0    -1.230470  0.950623 -0.777153  0.566295 -0.873077 -0.214928  0.490585  \n",
              "1    -0.484291 -0.610318 -0.777929  0.182166  1.000631 -0.774751  0.387428  \n",
              "2    -0.496175 -0.312577 -0.653219  0.368908 -0.370058 -0.829346  0.265934  \n",
              "3    -1.360677  1.313164 -1.765027  0.317259 -0.537139 -0.485040 -0.173056  \n",
              "4    -0.059314 -0.254616 -0.487540  0.282727  1.182821 -1.492929  0.624283  \n",
              "...        ...       ...       ...       ...       ...       ...       ...  \n",
              "1211  0.069619  0.064937 -1.306230 -0.854699 -0.309132 -1.112223  0.137376  \n",
              "1212 -0.563601 -0.309898 -0.015770 -0.187480 -0.568887 -0.555995  0.600672  \n",
              "1213 -1.071317 -1.613517 -0.808823 -0.361850  0.823671 -2.819415 -0.333810  \n",
              "1214  0.211277  0.334094  0.031677  0.209259 -0.035837 -1.355243  0.533083  \n",
              "1215 -0.173401  0.244220 -1.348540  0.097774 -1.338086 -1.056895 -0.031324  \n",
              "\n",
              "[1216 rows x 300 columns]"
            ]
          },
          "execution_count": 11,
          "metadata": {},
          "output_type": "execute_result"
        }
      ],
      "source": [
        "data_pt_pt_X"
      ]
    },
    {
      "cell_type": "markdown",
      "metadata": {
        "id": "uVbUT7lqY3Os"
      },
      "source": [
        "## Linear SVM"
      ]
    },
    {
      "cell_type": "markdown",
      "metadata": {
        "id": "U04yNpkKY3Os"
      },
      "source": [
        "### Linear SVM on PT_PT with GridSearch optimization"
      ]
    },
    {
      "cell_type": "code",
      "execution_count": null,
      "metadata": {
        "id": "JfHmg7n4Y3Os"
      },
      "outputs": [],
      "source": [
        "from sklearn.svm import SVC\n",
        "\n",
        "from sklearn.model_selection import RepeatedStratifiedKFold\n",
        "from sklearn.model_selection import GridSearchCV\n",
        "\n",
        "cv = RepeatedStratifiedKFold(n_splits=10, n_repeats=3, random_state=1)\n",
        "# Classifier\n",
        "lin_svc = SVC(random_state=1, kernel='linear', max_iter=-1)\n",
        "\n",
        "space = dict()\n",
        "space['C'] = [0.1, 1, 10, 100]\n",
        "space['gamma'] = [0.001, 0.01, 0.1, 1.0, 'scale']\n",
        "search = GridSearchCV(lin_svc, space, scoring='f1', n_jobs=-1, cv=cv)"
      ]
    },
    {
      "cell_type": "code",
      "execution_count": null,
      "metadata": {
        "id": "-nMiU5NHY3Ot",
        "outputId": "62d3290e-636d-4195-d553-cc57516e47d3"
      },
      "outputs": [
        {
          "name": "stdout",
          "output_type": "stream",
          "text": [
            "42.611929416656494\n"
          ]
        }
      ],
      "source": [
        "st = time.time()\n",
        "result = search.fit(data_pt_pt_X,data_pt_pt_y)\n",
        "ed = time.time()\n",
        "print(ed-st)"
      ]
    },
    {
      "cell_type": "code",
      "execution_count": null,
      "metadata": {
        "id": "k22MwBQNY3Ot",
        "outputId": "129432d7-4b1f-4782-bfa3-3fa8de11739e"
      },
      "outputs": [
        {
          "name": "stdout",
          "output_type": "stream",
          "text": [
            "Best Score: 0.7259\n",
            "Best Hyperparameters: {'C': 0.1, 'gamma': 0.001}\n"
          ]
        }
      ],
      "source": [
        "print(\"Best Score: {:.4f}\".format(result.best_score_))\n",
        "print(\"Best Hyperparameters: {}\".format(str(result.best_params_)))"
      ]
    },
    {
      "cell_type": "code",
      "execution_count": null,
      "metadata": {
        "id": "BepquOUFY3Ou"
      },
      "outputs": [],
      "source": [
        "pt_pt_linSVC = SVC(random_state=1\n",
        "                       ,kernel='linear'\n",
        "                       ,max_iter=-1\n",
        "                       ,C=0.1\n",
        "                       ,gamma=0.001\n",
        "                  )                                          "
      ]
    },
    {
      "cell_type": "code",
      "execution_count": null,
      "metadata": {
        "id": "9QIgISKdY3Ou"
      },
      "outputs": [],
      "source": [
        "from sklearn import metrics\n",
        "from sklearn.model_selection import cross_validate"
      ]
    },
    {
      "cell_type": "code",
      "execution_count": null,
      "metadata": {
        "id": "7Ewcu0-oY3Ou"
      },
      "outputs": [],
      "source": [
        "scoring = {'accuracy': 'accuracy',\n",
        "           'precision': 'precision',\n",
        "           'recall': 'recall',\n",
        "           'f1': 'f1'}"
      ]
    },
    {
      "cell_type": "code",
      "execution_count": null,
      "metadata": {
        "id": "0OHWOm3XY3Ov"
      },
      "outputs": [],
      "source": [
        "pt_pt_linSVC_scores = pd.DataFrame(cross_validate(pt_pt_linSVC, data_pt_pt_X, data_pt_pt_y, \n",
        "                        scoring=scoring, cv=cv))"
      ]
    },
    {
      "cell_type": "markdown",
      "metadata": {
        "id": "KKfjP-GmY3Ov"
      },
      "source": [
        "### Linear SVM PT_PT Results"
      ]
    },
    {
      "cell_type": "code",
      "execution_count": null,
      "metadata": {
        "id": "Oey8HKtuY3Ov",
        "outputId": "db817a54-8487-43da-8177-1e2fbcff9880"
      },
      "outputs": [
        {
          "data": {
            "text/plain": [
              "fit_time          0.136125\n",
              "score_time        0.015624\n",
              "test_accuracy     0.897755\n",
              "test_precision    0.732242\n",
              "test_recall       0.725560\n",
              "test_f1           0.725912\n",
              "dtype: float64"
            ]
          },
          "execution_count": 167,
          "metadata": {},
          "output_type": "execute_result"
        }
      ],
      "source": [
        "pt_pt_linSVC_scores.mean()"
      ]
    },
    {
      "cell_type": "markdown",
      "metadata": {
        "id": "S4uvltldY3Ox"
      },
      "source": [
        "### Linear SVM On EN_EN with GridSearch optimization"
      ]
    },
    {
      "cell_type": "code",
      "execution_count": null,
      "metadata": {
        "id": "ej_yJUiMY3Ox"
      },
      "outputs": [],
      "source": [
        "data_en_en_X = data_en_en.vec_en_en.str[1:-1].str.split(expand=True).apply(pd.to_numeric)\n",
        "data_en_en_y = pd.DataFrame(data_en_en['Departamento']).copy()"
      ]
    },
    {
      "cell_type": "code",
      "execution_count": null,
      "metadata": {
        "id": "qJoNd67jY3Ox"
      },
      "outputs": [],
      "source": [
        "data_en_en_y['Target'] = 0\n",
        "data_en_en_y.loc[data_en_en_y['Departamento']=='Celulares e Comunicação','Target'] = 1\n",
        "data_en_en_y = data_en_en_y.pop('Target')"
      ]
    },
    {
      "cell_type": "code",
      "execution_count": null,
      "metadata": {
        "id": "_WASwkUfY3Ox"
      },
      "outputs": [],
      "source": [
        "from sklearn.svm import SVC\n",
        "\n",
        "from sklearn.model_selection import RepeatedStratifiedKFold\n",
        "from sklearn.model_selection import GridSearchCV\n",
        "\n",
        "cv = RepeatedStratifiedKFold(n_splits=10, n_repeats=3, random_state=1)\n",
        "# Classifier\n",
        "lin_svc = SVC(random_state=1, kernel='linear', max_iter=-1)\n",
        "\n",
        "space = dict()\n",
        "space['C'] = [0.1, 1, 10, 100]\n",
        "space['gamma'] = [0.001, 0.01, 0.1, 1.0, 'scale']\n",
        "search = GridSearchCV(lin_svc, space, scoring='f1', n_jobs=-1, cv=cv)"
      ]
    },
    {
      "cell_type": "code",
      "execution_count": null,
      "metadata": {
        "id": "qSaZn_aMY3Oy",
        "outputId": "f3c2e6e5-8f54-4af4-ff6d-7d15653e945f"
      },
      "outputs": [
        {
          "name": "stdout",
          "output_type": "stream",
          "text": [
            "21.522153854370117\n"
          ]
        }
      ],
      "source": [
        "st = time.time()\n",
        "\n",
        "\n",
        "result = search.fit(data_en_en_X,data_en_en_y)\n",
        "\n",
        "ed = time.time()\n",
        "print(ed-st)"
      ]
    },
    {
      "cell_type": "code",
      "execution_count": null,
      "metadata": {
        "id": "EUtQhN5gY3Oy",
        "outputId": "8c6a02bc-9396-4fbc-c8bd-3cf9d8303acc"
      },
      "outputs": [
        {
          "name": "stdout",
          "output_type": "stream",
          "text": [
            "Best Score: 0.8924\n",
            "Best Hyperparameters: {'C': 0.1, 'gamma': 0.001}\n"
          ]
        }
      ],
      "source": [
        "print(\"Best Score: {:.4f}\".format(result.best_score_))\n",
        "print(\"Best Hyperparameters: {}\".format(str(result.best_params_)))"
      ]
    },
    {
      "cell_type": "code",
      "execution_count": null,
      "metadata": {
        "id": "CqjF3EGOY3Oy"
      },
      "outputs": [],
      "source": [
        "en_en_linSVC = SVC(random_state=1\n",
        "                       ,kernel='linear'\n",
        "                       ,max_iter=-1\n",
        "                       ,C=0.1\n",
        "                       ,gamma=0.001\n",
        "                  )                                          "
      ]
    },
    {
      "cell_type": "code",
      "execution_count": null,
      "metadata": {
        "id": "pz8nKgpXY3Oy"
      },
      "outputs": [],
      "source": [
        "en_en_linSVC_scores = pd.DataFrame(cross_validate(en_en_linSVC, data_en_en_X, data_en_en_y, \n",
        "                        scoring=scoring, cv=cv))"
      ]
    },
    {
      "cell_type": "markdown",
      "source": [
        "### Linear SVM EN_EN Results"
      ],
      "metadata": {
        "id": "cZ9cM2ZSjVoO"
      }
    },
    {
      "cell_type": "code",
      "execution_count": null,
      "metadata": {
        "id": "EfPwEzOkY3Oy",
        "outputId": "dd28ed73-64e8-4a74-f830-dcf57c27475f"
      },
      "outputs": [
        {
          "data": {
            "text/plain": [
              "fit_time          0.116028\n",
              "score_time        0.016126\n",
              "test_accuracy     0.947103\n",
              "test_precision    0.926751\n",
              "test_recall       0.863172\n",
              "test_f1           0.892391\n",
              "dtype: float64"
            ]
          },
          "execution_count": 171,
          "metadata": {},
          "output_type": "execute_result"
        }
      ],
      "source": [
        "en_en_linSVC_scores.mean()"
      ]
    },
    {
      "cell_type": "markdown",
      "source": [
        "## Non-linear SVM"
      ],
      "metadata": {
        "id": "5mjOVXmokG70"
      }
    },
    {
      "cell_type": "markdown",
      "source": [
        "### Non-linear SVM On PT_PT with GridSearch optimization"
      ],
      "metadata": {
        "id": "tSB8Yq5fjeBY"
      }
    },
    {
      "cell_type": "code",
      "execution_count": null,
      "metadata": {
        "id": "5ef4k4hzY3Oz"
      },
      "outputs": [],
      "source": [
        "# Classifier\n",
        "non_lin_svc = SVC(random_state=1, max_iter=-1)\n",
        "\n",
        "space = dict()\n",
        "space['C'] = [0.1, 1, 10, 100]\n",
        "space['kernel'] = ['rbf','poly','sigmoid']\n",
        "space['gamma'] = [0.001, 0.01, 0.1, 1.0, 'scale']\n",
        "search = GridSearchCV(non_lin_svc, space, scoring='f1', n_jobs=-1, cv=cv)"
      ]
    },
    {
      "cell_type": "code",
      "execution_count": null,
      "metadata": {
        "id": "9_R0e-HcY3Oz",
        "outputId": "e9ec37ed-aa0b-465f-eed7-b1ce438fed7a"
      },
      "outputs": [
        {
          "name": "stdout",
          "output_type": "stream",
          "text": [
            "2774.477659225464\n"
          ]
        }
      ],
      "source": [
        "st = time.time()\n",
        "result = search.fit(data_pt_pt_X,data_pt_pt_y)\n",
        "ed = time.time()\n",
        "print(ed-st)"
      ]
    },
    {
      "cell_type": "code",
      "execution_count": null,
      "metadata": {
        "id": "j9PTa6WKY3Oz",
        "outputId": "6c2002d6-3109-4c6d-9324-9b456dbcc89f"
      },
      "outputs": [
        {
          "name": "stdout",
          "output_type": "stream",
          "text": [
            "Best Score: 0.7569\n",
            "Best Hyperparameters: {'C': 10, 'gamma': 0.001, 'kernel': 'rbf'}\n"
          ]
        }
      ],
      "source": [
        "print(\"Best Score: {:.4f}\".format(result.best_score_))\n",
        "print(\"Best Hyperparameters: {}\".format(str(result.best_params_)))"
      ]
    },
    {
      "cell_type": "code",
      "execution_count": null,
      "metadata": {
        "id": "mEpLTsRdY3Oz"
      },
      "outputs": [],
      "source": [
        "pt_pt_nonlinSVC = SVC(random_state=1\n",
        "                       ,kernel='rbf'\n",
        "                       ,max_iter=-1\n",
        "                       ,C=10\n",
        "                       ,gamma=0.001\n",
        "                  )                                          "
      ]
    },
    {
      "cell_type": "code",
      "execution_count": null,
      "metadata": {
        "id": "0cNJ9vyLY3O0"
      },
      "outputs": [],
      "source": [
        "pt_pt_nonlinSVC_scores = pd.DataFrame(cross_validate(pt_pt_nonlinSVC, data_pt_pt_X, data_pt_pt_y, \n",
        "                        scoring=scoring, cv=cv))"
      ]
    },
    {
      "cell_type": "markdown",
      "metadata": {
        "id": "_vJOcX-IY3O0"
      },
      "source": [
        "### Non-Linear SVM PT_PT results"
      ]
    },
    {
      "cell_type": "code",
      "execution_count": null,
      "metadata": {
        "id": "t2pHFmjYY3O0",
        "outputId": "f9d0edf9-0c0b-4f96-83c1-0ae52271ec6a"
      },
      "outputs": [
        {
          "data": {
            "text/plain": [
              "fit_time          0.144434\n",
              "score_time        0.018787\n",
              "test_accuracy     0.910109\n",
              "test_precision    0.770972\n",
              "test_recall       0.748814\n",
              "test_f1           0.756850\n",
              "dtype: float64"
            ]
          },
          "execution_count": 173,
          "metadata": {},
          "output_type": "execute_result"
        }
      ],
      "source": [
        "pt_pt_nonlinSVC_scores.mean()"
      ]
    },
    {
      "cell_type": "markdown",
      "metadata": {
        "id": "v-5NhM8WY3O0"
      },
      "source": [
        "### Non-linear SVM EN_EN with GridSearch optimization"
      ]
    },
    {
      "cell_type": "code",
      "execution_count": null,
      "metadata": {
        "id": "8TU422RZY3O0"
      },
      "outputs": [],
      "source": [
        "# Classifier\n",
        "non_lin_svc = SVC(random_state=1, max_iter=-1)\n",
        "\n",
        "space = dict()\n",
        "space['C'] = [0.1, 1, 10, 100]\n",
        "space['kernel'] = ['rbf','poly','sigmoid']\n",
        "space['gamma'] = [0.001, 0.01, 0.1, 1.0, 'scale']\n",
        "search = GridSearchCV(non_lin_svc, space, scoring='f1', n_jobs=-1, cv=cv)"
      ]
    },
    {
      "cell_type": "code",
      "execution_count": null,
      "metadata": {
        "id": "BlASD6HAY3O0",
        "outputId": "1e738eaa-a0f9-4a69-b928-6084b849eade"
      },
      "outputs": [
        {
          "name": "stdout",
          "output_type": "stream",
          "text": [
            "125.66147327423096\n"
          ]
        }
      ],
      "source": [
        "st = time.time()\n",
        "result = search.fit(data_en_en_X,data_en_en_y)\n",
        "ed = time.time()\n",
        "print(ed-st)"
      ]
    },
    {
      "cell_type": "code",
      "execution_count": null,
      "metadata": {
        "id": "GtbB-v4PY3O1",
        "outputId": "4fef6234-5c03-482a-eee5-4bd455570d34"
      },
      "outputs": [
        {
          "name": "stdout",
          "output_type": "stream",
          "text": [
            "Best Score: 0.9069\n",
            "Best Hyperparameters: {'C': 0.1, 'gamma': 1.0, 'kernel': 'poly'}\n"
          ]
        }
      ],
      "source": [
        "print(\"Best Score: {:.4f}\".format(result.best_score_))\n",
        "print(\"Best Hyperparameters: {}\".format(str(result.best_params_)))"
      ]
    },
    {
      "cell_type": "code",
      "execution_count": null,
      "metadata": {
        "id": "qXh2jiG1Y3O1"
      },
      "outputs": [],
      "source": [
        "en_en_nonlinSVC = SVC(random_state=1\n",
        "                       ,kernel='poly'\n",
        "                       ,max_iter=-1\n",
        "                       ,C=0.1\n",
        "                       ,gamma=1.0\n",
        "                  )                                          "
      ]
    },
    {
      "cell_type": "code",
      "execution_count": null,
      "metadata": {
        "id": "tG41T7bJY3O1"
      },
      "outputs": [],
      "source": [
        "en_en_nonlinSVC_scores = pd.DataFrame(cross_validate(en_en_nonlinSVC, data_en_en_X, data_en_en_y, \n",
        "                        scoring=scoring, cv=cv))"
      ]
    },
    {
      "cell_type": "markdown",
      "metadata": {
        "id": "b_6m1HWfY3O1"
      },
      "source": [
        "### Non-Linear SVM EN_EN Results"
      ]
    },
    {
      "cell_type": "code",
      "execution_count": null,
      "metadata": {
        "id": "rxYXT6F2Y3O1",
        "outputId": "5c508495-b4de-4b12-f922-630bc1504dbe"
      },
      "outputs": [
        {
          "data": {
            "text/plain": [
              "fit_time          0.122772\n",
              "score_time        0.016625\n",
              "test_accuracy     0.953407\n",
              "test_precision    0.927449\n",
              "test_recall       0.890020\n",
              "test_f1           0.906942\n",
              "dtype: float64"
            ]
          },
          "execution_count": 175,
          "metadata": {},
          "output_type": "execute_result"
        }
      ],
      "source": [
        "en_en_nonlinSVC_scores.mean()"
      ]
    },
    {
      "cell_type": "markdown",
      "metadata": {
        "id": "t6hGMPcwY3O2"
      },
      "source": [
        "## Random Forest"
      ]
    },
    {
      "cell_type": "markdown",
      "source": [
        "### Random Forest PT PT with GridSearch optimization"
      ],
      "metadata": {
        "id": "mmwi1Iy2kJ3h"
      }
    },
    {
      "cell_type": "code",
      "execution_count": null,
      "metadata": {
        "id": "XoBBXqCgY3O2"
      },
      "outputs": [],
      "source": [
        "from sklearn.ensemble import RandomForestClassifier"
      ]
    },
    {
      "cell_type": "code",
      "execution_count": null,
      "metadata": {
        "id": "QahOWgsKY3O2"
      },
      "outputs": [],
      "source": [
        "# Classifier\n",
        "rand_for = RandomForestClassifier(random_state=1)\n",
        "\n",
        "space = dict()\n",
        "space['n_estimators'] = [50,100,500]\n",
        "space['max_features'] = ['auto','sqrt']\n",
        "space['max_depth'] = [10,50]\n",
        "space['min_samples_split'] = [2,5,10]\n",
        "space['min_samples_leaf'] = [1,4]\n",
        "space['bootstrap'] = [True,False]\n",
        "\n",
        "search = GridSearchCV(rand_for, space, scoring='f1', n_jobs=-1, cv=cv)"
      ]
    },
    {
      "cell_type": "code",
      "execution_count": null,
      "metadata": {
        "id": "nQvwLI4uY3O2",
        "outputId": "6ed96fc7-5eb2-4c57-c53d-950b154ed36b"
      },
      "outputs": [
        {
          "name": "stdout",
          "output_type": "stream",
          "text": [
            "4003.0033934116364\n"
          ]
        }
      ],
      "source": [
        "st = time.time()\n",
        "result = search.fit(data_pt_pt_X,data_pt_pt_y)\n",
        "ed = time.time()\n",
        "print(ed-st)"
      ]
    },
    {
      "cell_type": "code",
      "execution_count": null,
      "metadata": {
        "id": "-dHGA2iOY3O2",
        "outputId": "dd1a2b93-daf0-4fb3-f7c0-4f9de2376f4c"
      },
      "outputs": [
        {
          "name": "stdout",
          "output_type": "stream",
          "text": [
            "Best Score: 0.6468\n",
            "Best Hyperparameters: {'bootstrap': False, 'max_depth': 50, 'max_features': 'auto', 'min_samples_leaf': 1, 'min_samples_split': 2, 'n_estimators': 100}\n"
          ]
        }
      ],
      "source": [
        "print(\"Best Score: {:.4f}\".format(result.best_score_))\n",
        "print(\"Best Hyperparameters: {}\".format(str(result.best_params_)))"
      ]
    },
    {
      "cell_type": "code",
      "execution_count": null,
      "metadata": {
        "id": "i5TswRbFY3O3"
      },
      "outputs": [],
      "source": [
        "pt_pt_rand_for = RandomForestClassifier(random_state=1\n",
        "                                        ,n_estimators = 100\n",
        "                                        ,max_features = 'auto'\n",
        "                                        ,max_depth = 50\n",
        "                                        ,min_samples_split = 2\n",
        "                                        ,min_samples_leaf = 1\n",
        "                                        ,bootstrap = False\n",
        "                  )                                          "
      ]
    },
    {
      "cell_type": "code",
      "execution_count": null,
      "metadata": {
        "id": "UD4JlPmaY3O3"
      },
      "outputs": [],
      "source": [
        "pt_pt_rand_for_scores = pd.DataFrame(cross_validate(pt_pt_rand_for, data_pt_pt_X, data_pt_pt_y, \n",
        "                        scoring=scoring, cv=cv))"
      ]
    },
    {
      "cell_type": "markdown",
      "metadata": {
        "id": "MbQWpnBhY3O3"
      },
      "source": [
        "### Random Forest PT_PT Results"
      ]
    },
    {
      "cell_type": "code",
      "execution_count": null,
      "metadata": {
        "id": "ojebKDVuY3O3",
        "outputId": "f8350584-00c9-4e1a-d601-a0bd6bb1f3bc"
      },
      "outputs": [
        {
          "data": {
            "text/plain": [
              "fit_time          1.188330\n",
              "score_time        0.014776\n",
              "test_accuracy     0.890889\n",
              "test_precision    0.829140\n",
              "test_recall       0.538340\n",
              "test_f1           0.646795\n",
              "dtype: float64"
            ]
          },
          "execution_count": 177,
          "metadata": {},
          "output_type": "execute_result"
        }
      ],
      "source": [
        "pt_pt_rand_for_scores.mean()"
      ]
    },
    {
      "cell_type": "markdown",
      "metadata": {
        "id": "A_r1Xm1UY3O3"
      },
      "source": [
        "### Random Forest EN_EN with GridSearch optimization"
      ]
    },
    {
      "cell_type": "code",
      "execution_count": null,
      "metadata": {
        "id": "KArFY27fY3O3"
      },
      "outputs": [],
      "source": [
        "# Classifier\n",
        "rand_for = RandomForestClassifier(random_state=1)\n",
        "\n",
        "space = dict()\n",
        "space['n_estimators'] = [50,100,500]\n",
        "space['max_features'] = ['auto','sqrt']\n",
        "space['max_depth'] = [10,50]\n",
        "space['min_samples_split'] = [2,5,10]\n",
        "space['min_samples_leaf'] = [1,4]\n",
        "space['bootstrap'] = [True,False]\n",
        "\n",
        "search = GridSearchCV(rand_for, space, scoring='f1', n_jobs=-1, cv=cv)"
      ]
    },
    {
      "cell_type": "code",
      "execution_count": null,
      "metadata": {
        "id": "WMiAtJ3RY3O4",
        "outputId": "e62e1ed9-6de0-4914-c147-a20a59fd0b1f"
      },
      "outputs": [
        {
          "name": "stdout",
          "output_type": "stream",
          "text": [
            "4269.133909225464\n"
          ]
        }
      ],
      "source": [
        "st = time.time()\n",
        "result = search.fit(data_en_en_X,data_en_en_y)\n",
        "ed = time.time()\n",
        "print(ed-st)"
      ]
    },
    {
      "cell_type": "code",
      "execution_count": null,
      "metadata": {
        "id": "bW6I-RCoY3O4",
        "outputId": "7a55b747-d9e8-433b-a546-51726e9ac039"
      },
      "outputs": [
        {
          "name": "stdout",
          "output_type": "stream",
          "text": [
            "Best Score: 0.8674\n",
            "Best Hyperparameters: {'bootstrap': False, 'max_depth': 50, 'max_features': 'auto', 'min_samples_leaf': 1, 'min_samples_split': 2, 'n_estimators': 500}\n"
          ]
        }
      ],
      "source": [
        "print(\"Best Score: {:.4f}\".format(result.best_score_))\n",
        "print(\"Best Hyperparameters: {}\".format(str(result.best_params_)))"
      ]
    },
    {
      "cell_type": "code",
      "execution_count": null,
      "metadata": {
        "id": "zYTFBdxCY3O4"
      },
      "outputs": [],
      "source": [
        "en_en_rand_for = RandomForestClassifier(random_state=1\n",
        "                                        ,n_estimators = 500\n",
        "                                        ,max_features = 'auto'\n",
        "                                        ,max_depth = 50\n",
        "                                        ,min_samples_split = 2\n",
        "                                        ,min_samples_leaf = 1\n",
        "                                        ,bootstrap = False\n",
        "                  )                                          "
      ]
    },
    {
      "cell_type": "code",
      "execution_count": null,
      "metadata": {
        "id": "zHRMYMMfY3O4"
      },
      "outputs": [],
      "source": [
        "en_en_rand_for_scores = pd.DataFrame(cross_validate(en_en_rand_for, data_en_en_X, data_en_en_y, \n",
        "                        scoring=scoring, cv=cv))"
      ]
    },
    {
      "cell_type": "markdown",
      "metadata": {
        "id": "uCgbO-ryY3O4"
      },
      "source": [
        "### Random Forest EN_EN Results"
      ]
    },
    {
      "cell_type": "code",
      "execution_count": null,
      "metadata": {
        "id": "43vj3T9hY3O5",
        "outputId": "88e28bd0-0933-4c66-96bf-e34c8714c87d"
      },
      "outputs": [
        {
          "data": {
            "text/plain": [
              "fit_time          6.235088\n",
              "score_time        0.052019\n",
              "test_accuracy     0.937520\n",
              "test_precision    0.946513\n",
              "test_recall       0.803595\n",
              "test_f1           0.867358\n",
              "dtype: float64"
            ]
          },
          "execution_count": 179,
          "metadata": {},
          "output_type": "execute_result"
        }
      ],
      "source": [
        "en_en_rand_for_scores.mean()"
      ]
    },
    {
      "cell_type": "markdown",
      "metadata": {
        "id": "hCQWRqLyY3O5"
      },
      "source": [
        "## XGBoost"
      ]
    },
    {
      "cell_type": "markdown",
      "source": [
        "### XGBoost PT_PT with GridSearch optimization"
      ],
      "metadata": {
        "id": "o3bAOXM9kgME"
      }
    },
    {
      "cell_type": "code",
      "execution_count": null,
      "metadata": {
        "id": "sloealOcY3O5"
      },
      "outputs": [],
      "source": [
        "from xgboost import XGBClassifier\n",
        "from sklearn.model_selection import GridSearchCV\n",
        "\n",
        "estimator = XGBClassifier(\n",
        "    objective= 'binary:logistic',\n",
        "    nthread=4,\n",
        "    seed=42\n",
        ")\n",
        "\n",
        "parameters = {\n",
        "    'max_depth': range (2, 10, 1),\n",
        "    'n_estimators': range(60, 220, 40),\n",
        "    'learning_rate': [0.1, 0.01, 0.05]\n",
        "} \n",
        "\n",
        "\n",
        "grid_search = GridSearchCV(\n",
        "    estimator=estimator,\n",
        "    param_grid=parameters,\n",
        "    scoring = 'roc_auc',\n",
        "    n_jobs = 10,\n",
        "    cv = 10,\n",
        "    verbose=True\n",
        ")\n",
        "\n",
        "grid_search.fit(data_pt_pt_X, data_pt_pt_y)"
      ]
    },
    {
      "cell_type": "code",
      "execution_count": null,
      "metadata": {
        "id": "BUTeErB1Y3O5",
        "outputId": "e1da625d-968e-4dac-dfa6-b8b1b8c44222"
      },
      "outputs": [
        {
          "name": "stdout",
          "output_type": "stream",
          "text": [
            "Best Score: 0.9290\n",
            "Best Hyperparameters: {'learning_rate': 0.1, 'max_depth': 2, 'n_estimators': 180}\n"
          ]
        }
      ],
      "source": [
        "grid_search.best_estimator_\n",
        "print(\"Best Score: {:.4f}\".format(grid_search.best_score_))\n",
        "print(\"Best Hyperparameters: {}\".format(str(grid_search.best_params_)))"
      ]
    },
    {
      "cell_type": "code",
      "execution_count": null,
      "metadata": {
        "id": "7nTwiMLIY3O6"
      },
      "outputs": [],
      "source": [
        "pt_pt_xgboost = XGBClassifier(\n",
        "                    objective= 'binary:logistic'\n",
        "                    ,nthread=4\n",
        "                    ,seed=42\n",
        "                    ,learning_rate = 0.01\n",
        "                    ,max_depth = 2\n",
        "                    ,n_estimators = 180\n",
        ")                               "
      ]
    },
    {
      "cell_type": "code",
      "execution_count": null,
      "metadata": {
        "id": "hVL0DRg3Y3O6",
        "outputId": "77aaaa0f-5f6e-4023-cddf-0011b2a98ff3"
      },
      "outputs": [
        {
          "name": "stderr",
          "output_type": "stream",
          "text": [
            "C:\\Users\\conno\\Anaconda3\\lib\\site-packages\\xgboost\\sklearn.py:1146: UserWarning: The use of label encoder in XGBClassifier is deprecated and will be removed in a future release. To remove this warning, do the following: 1) Pass option use_label_encoder=False when constructing XGBClassifier object; and 2) Encode your labels (y) as integers starting with 0, i.e. 0, 1, 2, ..., [num_class - 1].\n",
            "  warnings.warn(label_encoder_deprecation_msg, UserWarning)\n"
          ]
        },
        {
          "name": "stdout",
          "output_type": "stream",
          "text": [
            "[18:46:24] WARNING: C:/Users/Administrator/workspace/xgboost-win64_release_1.4.0/src/learner.cc:1095: Starting in XGBoost 1.3.0, the default evaluation metric used with the objective 'binary:logistic' was changed from 'error' to 'logloss'. Explicitly set eval_metric if you'd like to restore the old behavior.\n",
            "[18:46:27] WARNING: C:/Users/Administrator/workspace/xgboost-win64_release_1.4.0/src/learner.cc:1095: Starting in XGBoost 1.3.0, the default evaluation metric used with the objective 'binary:logistic' was changed from 'error' to 'logloss'. Explicitly set eval_metric if you'd like to restore the old behavior.\n",
            "[18:46:30] WARNING: C:/Users/Administrator/workspace/xgboost-win64_release_1.4.0/src/learner.cc:1095: Starting in XGBoost 1.3.0, the default evaluation metric used with the objective 'binary:logistic' was changed from 'error' to 'logloss'. Explicitly set eval_metric if you'd like to restore the old behavior.\n",
            "[18:46:33] WARNING: C:/Users/Administrator/workspace/xgboost-win64_release_1.4.0/src/learner.cc:1095: Starting in XGBoost 1.3.0, the default evaluation metric used with the objective 'binary:logistic' was changed from 'error' to 'logloss'. Explicitly set eval_metric if you'd like to restore the old behavior.\n",
            "[18:46:36] WARNING: C:/Users/Administrator/workspace/xgboost-win64_release_1.4.0/src/learner.cc:1095: Starting in XGBoost 1.3.0, the default evaluation metric used with the objective 'binary:logistic' was changed from 'error' to 'logloss'. Explicitly set eval_metric if you'd like to restore the old behavior.\n",
            "[18:46:38] WARNING: C:/Users/Administrator/workspace/xgboost-win64_release_1.4.0/src/learner.cc:1095: Starting in XGBoost 1.3.0, the default evaluation metric used with the objective 'binary:logistic' was changed from 'error' to 'logloss'. Explicitly set eval_metric if you'd like to restore the old behavior.\n",
            "[18:46:41] WARNING: C:/Users/Administrator/workspace/xgboost-win64_release_1.4.0/src/learner.cc:1095: Starting in XGBoost 1.3.0, the default evaluation metric used with the objective 'binary:logistic' was changed from 'error' to 'logloss'. Explicitly set eval_metric if you'd like to restore the old behavior.\n",
            "[18:46:44] WARNING: C:/Users/Administrator/workspace/xgboost-win64_release_1.4.0/src/learner.cc:1095: Starting in XGBoost 1.3.0, the default evaluation metric used with the objective 'binary:logistic' was changed from 'error' to 'logloss'. Explicitly set eval_metric if you'd like to restore the old behavior.\n",
            "[18:46:47] WARNING: C:/Users/Administrator/workspace/xgboost-win64_release_1.4.0/src/learner.cc:1095: Starting in XGBoost 1.3.0, the default evaluation metric used with the objective 'binary:logistic' was changed from 'error' to 'logloss'. Explicitly set eval_metric if you'd like to restore the old behavior.\n",
            "[18:46:50] WARNING: C:/Users/Administrator/workspace/xgboost-win64_release_1.4.0/src/learner.cc:1095: Starting in XGBoost 1.3.0, the default evaluation metric used with the objective 'binary:logistic' was changed from 'error' to 'logloss'. Explicitly set eval_metric if you'd like to restore the old behavior.\n"
          ]
        },
        {
          "name": "stderr",
          "output_type": "stream",
          "text": [
            "C:\\Users\\conno\\Anaconda3\\lib\\site-packages\\xgboost\\sklearn.py:1146: UserWarning: The use of label encoder in XGBClassifier is deprecated and will be removed in a future release. To remove this warning, do the following: 1) Pass option use_label_encoder=False when constructing XGBClassifier object; and 2) Encode your labels (y) as integers starting with 0, i.e. 0, 1, 2, ..., [num_class - 1].\n",
            "  warnings.warn(label_encoder_deprecation_msg, UserWarning)\n"
          ]
        },
        {
          "name": "stdout",
          "output_type": "stream",
          "text": [
            "[18:46:52] WARNING: C:/Users/Administrator/workspace/xgboost-win64_release_1.4.0/src/learner.cc:1095: Starting in XGBoost 1.3.0, the default evaluation metric used with the objective 'binary:logistic' was changed from 'error' to 'logloss'. Explicitly set eval_metric if you'd like to restore the old behavior.\n",
            "[18:46:55] WARNING: C:/Users/Administrator/workspace/xgboost-win64_release_1.4.0/src/learner.cc:1095: Starting in XGBoost 1.3.0, the default evaluation metric used with the objective 'binary:logistic' was changed from 'error' to 'logloss'. Explicitly set eval_metric if you'd like to restore the old behavior.\n",
            "[18:46:58] WARNING: C:/Users/Administrator/workspace/xgboost-win64_release_1.4.0/src/learner.cc:1095: Starting in XGBoost 1.3.0, the default evaluation metric used with the objective 'binary:logistic' was changed from 'error' to 'logloss'. Explicitly set eval_metric if you'd like to restore the old behavior.\n",
            "[18:47:01] WARNING: C:/Users/Administrator/workspace/xgboost-win64_release_1.4.0/src/learner.cc:1095: Starting in XGBoost 1.3.0, the default evaluation metric used with the objective 'binary:logistic' was changed from 'error' to 'logloss'. Explicitly set eval_metric if you'd like to restore the old behavior.\n",
            "[18:47:04] WARNING: C:/Users/Administrator/workspace/xgboost-win64_release_1.4.0/src/learner.cc:1095: Starting in XGBoost 1.3.0, the default evaluation metric used with the objective 'binary:logistic' was changed from 'error' to 'logloss'. Explicitly set eval_metric if you'd like to restore the old behavior.\n",
            "[18:47:06] WARNING: C:/Users/Administrator/workspace/xgboost-win64_release_1.4.0/src/learner.cc:1095: Starting in XGBoost 1.3.0, the default evaluation metric used with the objective 'binary:logistic' was changed from 'error' to 'logloss'. Explicitly set eval_metric if you'd like to restore the old behavior.\n",
            "[18:47:09] WARNING: C:/Users/Administrator/workspace/xgboost-win64_release_1.4.0/src/learner.cc:1095: Starting in XGBoost 1.3.0, the default evaluation metric used with the objective 'binary:logistic' was changed from 'error' to 'logloss'. Explicitly set eval_metric if you'd like to restore the old behavior.\n",
            "[18:47:12] WARNING: C:/Users/Administrator/workspace/xgboost-win64_release_1.4.0/src/learner.cc:1095: Starting in XGBoost 1.3.0, the default evaluation metric used with the objective 'binary:logistic' was changed from 'error' to 'logloss'. Explicitly set eval_metric if you'd like to restore the old behavior.\n",
            "[18:47:14] WARNING: C:/Users/Administrator/workspace/xgboost-win64_release_1.4.0/src/learner.cc:1095: Starting in XGBoost 1.3.0, the default evaluation metric used with the objective 'binary:logistic' was changed from 'error' to 'logloss'. Explicitly set eval_metric if you'd like to restore the old behavior.\n",
            "[18:47:17] WARNING: C:/Users/Administrator/workspace/xgboost-win64_release_1.4.0/src/learner.cc:1095: Starting in XGBoost 1.3.0, the default evaluation metric used with the objective 'binary:logistic' was changed from 'error' to 'logloss'. Explicitly set eval_metric if you'd like to restore the old behavior.\n"
          ]
        },
        {
          "name": "stderr",
          "output_type": "stream",
          "text": [
            "C:\\Users\\conno\\Anaconda3\\lib\\site-packages\\xgboost\\sklearn.py:1146: UserWarning: The use of label encoder in XGBClassifier is deprecated and will be removed in a future release. To remove this warning, do the following: 1) Pass option use_label_encoder=False when constructing XGBClassifier object; and 2) Encode your labels (y) as integers starting with 0, i.e. 0, 1, 2, ..., [num_class - 1].\n",
            "  warnings.warn(label_encoder_deprecation_msg, UserWarning)\n"
          ]
        },
        {
          "name": "stdout",
          "output_type": "stream",
          "text": [
            "[18:47:19] WARNING: C:/Users/Administrator/workspace/xgboost-win64_release_1.4.0/src/learner.cc:1095: Starting in XGBoost 1.3.0, the default evaluation metric used with the objective 'binary:logistic' was changed from 'error' to 'logloss'. Explicitly set eval_metric if you'd like to restore the old behavior.\n",
            "[18:47:22] WARNING: C:/Users/Administrator/workspace/xgboost-win64_release_1.4.0/src/learner.cc:1095: Starting in XGBoost 1.3.0, the default evaluation metric used with the objective 'binary:logistic' was changed from 'error' to 'logloss'. Explicitly set eval_metric if you'd like to restore the old behavior.\n",
            "[18:47:25] WARNING: C:/Users/Administrator/workspace/xgboost-win64_release_1.4.0/src/learner.cc:1095: Starting in XGBoost 1.3.0, the default evaluation metric used with the objective 'binary:logistic' was changed from 'error' to 'logloss'. Explicitly set eval_metric if you'd like to restore the old behavior.\n",
            "[18:47:27] WARNING: C:/Users/Administrator/workspace/xgboost-win64_release_1.4.0/src/learner.cc:1095: Starting in XGBoost 1.3.0, the default evaluation metric used with the objective 'binary:logistic' was changed from 'error' to 'logloss'. Explicitly set eval_metric if you'd like to restore the old behavior.\n",
            "[18:47:30] WARNING: C:/Users/Administrator/workspace/xgboost-win64_release_1.4.0/src/learner.cc:1095: Starting in XGBoost 1.3.0, the default evaluation metric used with the objective 'binary:logistic' was changed from 'error' to 'logloss'. Explicitly set eval_metric if you'd like to restore the old behavior.\n",
            "[18:47:33] WARNING: C:/Users/Administrator/workspace/xgboost-win64_release_1.4.0/src/learner.cc:1095: Starting in XGBoost 1.3.0, the default evaluation metric used with the objective 'binary:logistic' was changed from 'error' to 'logloss'. Explicitly set eval_metric if you'd like to restore the old behavior.\n",
            "[18:47:36] WARNING: C:/Users/Administrator/workspace/xgboost-win64_release_1.4.0/src/learner.cc:1095: Starting in XGBoost 1.3.0, the default evaluation metric used with the objective 'binary:logistic' was changed from 'error' to 'logloss'. Explicitly set eval_metric if you'd like to restore the old behavior.\n",
            "[18:47:39] WARNING: C:/Users/Administrator/workspace/xgboost-win64_release_1.4.0/src/learner.cc:1095: Starting in XGBoost 1.3.0, the default evaluation metric used with the objective 'binary:logistic' was changed from 'error' to 'logloss'. Explicitly set eval_metric if you'd like to restore the old behavior.\n",
            "[18:47:41] WARNING: C:/Users/Administrator/workspace/xgboost-win64_release_1.4.0/src/learner.cc:1095: Starting in XGBoost 1.3.0, the default evaluation metric used with the objective 'binary:logistic' was changed from 'error' to 'logloss'. Explicitly set eval_metric if you'd like to restore the old behavior.\n",
            "[18:47:44] WARNING: C:/Users/Administrator/workspace/xgboost-win64_release_1.4.0/src/learner.cc:1095: Starting in XGBoost 1.3.0, the default evaluation metric used with the objective 'binary:logistic' was changed from 'error' to 'logloss'. Explicitly set eval_metric if you'd like to restore the old behavior.\n"
          ]
        }
      ],
      "source": [
        "pt_pt_xgboost_scores = pd.DataFrame(cross_validate(pt_pt_xgboost, data_pt_pt_X, data_pt_pt_y, \n",
        "                        scoring=scoring, cv=cv))"
      ]
    },
    {
      "cell_type": "markdown",
      "metadata": {
        "id": "MIpJkfmnY3O6"
      },
      "source": [
        "### XGBoost PT_PT Results"
      ]
    },
    {
      "cell_type": "code",
      "execution_count": null,
      "metadata": {
        "id": "quFKC3oJY3O6",
        "outputId": "75a8e088-eebd-46c3-aba6-c6fb3a3df1ad"
      },
      "outputs": [
        {
          "data": {
            "text/plain": [
              "fit_time          2.716526\n",
              "score_time        0.011271\n",
              "test_accuracy     0.852547\n",
              "test_precision    0.752928\n",
              "test_recall       0.323254\n",
              "test_f1           0.447663\n",
              "dtype: float64"
            ]
          },
          "execution_count": 181,
          "metadata": {},
          "output_type": "execute_result"
        }
      ],
      "source": [
        "pt_pt_xgboost_scores.mean()"
      ]
    },
    {
      "cell_type": "markdown",
      "metadata": {
        "id": "anR5Ufs7Y3O6"
      },
      "source": [
        "### XG Boost EN_EN with GridSearch optimization"
      ]
    },
    {
      "cell_type": "code",
      "execution_count": null,
      "metadata": {
        "id": "lHSeIeXYY3O6",
        "outputId": "33da94c9-5504-49f8-ac43-9d2bed767468"
      },
      "outputs": [
        {
          "name": "stdout",
          "output_type": "stream",
          "text": [
            "Fitting 10 folds for each of 96 candidates, totalling 960 fits\n"
          ]
        },
        {
          "name": "stderr",
          "output_type": "stream",
          "text": [
            "[Parallel(n_jobs=10)]: Using backend LokyBackend with 10 concurrent workers.\n",
            "[Parallel(n_jobs=10)]: Done  30 tasks      | elapsed:   27.5s\n",
            "[Parallel(n_jobs=10)]: Done 180 tasks      | elapsed:  5.1min\n",
            "[Parallel(n_jobs=10)]: Done 430 tasks      | elapsed: 13.3min\n",
            "[Parallel(n_jobs=10)]: Done 780 tasks      | elapsed: 30.1min\n",
            "[Parallel(n_jobs=10)]: Done 960 out of 960 | elapsed: 37.9min finished\n",
            "C:\\Users\\conno\\Anaconda3\\lib\\site-packages\\xgboost\\sklearn.py:1146: UserWarning: The use of label encoder in XGBClassifier is deprecated and will be removed in a future release. To remove this warning, do the following: 1) Pass option use_label_encoder=False when constructing XGBClassifier object; and 2) Encode your labels (y) as integers starting with 0, i.e. 0, 1, 2, ..., [num_class - 1].\n",
            "  warnings.warn(label_encoder_deprecation_msg, UserWarning)\n"
          ]
        },
        {
          "name": "stdout",
          "output_type": "stream",
          "text": [
            "[16:38:04] WARNING: C:/Users/Administrator/workspace/xgboost-win64_release_1.4.0/src/learner.cc:1095: Starting in XGBoost 1.3.0, the default evaluation metric used with the objective 'binary:logistic' was changed from 'error' to 'logloss'. Explicitly set eval_metric if you'd like to restore the old behavior.\n"
          ]
        },
        {
          "data": {
            "text/plain": [
              "GridSearchCV(cv=10,\n",
              "             estimator=XGBClassifier(base_score=None, booster=None,\n",
              "                                     colsample_bylevel=None,\n",
              "                                     colsample_bynode=None,\n",
              "                                     colsample_bytree=None, gamma=None,\n",
              "                                     gpu_id=None, importance_type='gain',\n",
              "                                     interaction_constraints=None,\n",
              "                                     learning_rate=None, max_delta_step=None,\n",
              "                                     max_depth=None, min_child_weight=None,\n",
              "                                     missing=nan, monotone_constraints=None,\n",
              "                                     n_estimators=100, n_jobs=None, nthread=4,\n",
              "                                     num_parallel_tree=None, random_state=None,\n",
              "                                     reg_alpha=None, reg_lambda=None,\n",
              "                                     scale_pos_weight=None, seed=42,\n",
              "                                     subsample=None, tree_method=None,\n",
              "                                     validate_parameters=None, verbosity=None),\n",
              "             n_jobs=10,\n",
              "             param_grid={'learning_rate': [0.1, 0.01, 0.05],\n",
              "                         'max_depth': range(2, 10),\n",
              "                         'n_estimators': range(60, 220, 40)},\n",
              "             scoring='f1', verbose=True)"
            ]
          },
          "execution_count": 79,
          "metadata": {},
          "output_type": "execute_result"
        }
      ],
      "source": [
        "from xgboost import XGBClassifier\n",
        "from sklearn.model_selection import GridSearchCV\n",
        "\n",
        "estimator = XGBClassifier(\n",
        "    objective= 'binary:logistic',\n",
        "    nthread=4,\n",
        "    seed=42\n",
        ")\n",
        "\n",
        "parameters = {\n",
        "    'max_depth': range (2, 10, 1),\n",
        "    'n_estimators': range(60, 220, 40),\n",
        "    'learning_rate': [0.1, 0.01, 0.05]\n",
        "} \n",
        "\n",
        "\n",
        "grid_search = GridSearchCV(\n",
        "    estimator=estimator,\n",
        "    param_grid=parameters,\n",
        "    scoring = 'f1',\n",
        "    n_jobs = 10,\n",
        "    cv = 10,\n",
        "    verbose=True\n",
        ")\n",
        "\n",
        "grid_search.fit(data_en_en_X, data_en_en_y)\n"
      ]
    },
    {
      "cell_type": "code",
      "execution_count": null,
      "metadata": {
        "id": "_ug89aCgY3O7",
        "outputId": "e20e1969-a9d5-4d3f-c616-49bf60c06397"
      },
      "outputs": [
        {
          "name": "stdout",
          "output_type": "stream",
          "text": [
            "Best Score: 0.8726\n",
            "Best Hyperparameters: {'learning_rate': 0.1, 'max_depth': 2, 'n_estimators': 180}\n"
          ]
        }
      ],
      "source": [
        "grid_search.best_estimator_\n",
        "print(\"Best Score: {:.4f}\".format(grid_search.best_score_))\n",
        "print(\"Best Hyperparameters: {}\".format(str(grid_search.best_params_)))"
      ]
    },
    {
      "cell_type": "code",
      "execution_count": null,
      "metadata": {
        "id": "1ou6GdBsY3O7"
      },
      "outputs": [],
      "source": [
        "en_en_xgboost = XGBClassifier(\n",
        "                    objective= 'binary:logistic'\n",
        "                    ,nthread=4\n",
        "                    ,seed=42\n",
        "                    ,learning_rate = 0.1\n",
        "                    ,max_depth = 2\n",
        "                    ,n_estimators = 180\n",
        ")                               "
      ]
    },
    {
      "cell_type": "code",
      "execution_count": null,
      "metadata": {
        "id": "kLAOfEs3Y3O7",
        "outputId": "ea31c4b7-ce9f-4099-82be-d64f7c755320"
      },
      "outputs": [
        {
          "name": "stderr",
          "output_type": "stream",
          "text": [
            "C:\\Users\\conno\\Anaconda3\\lib\\site-packages\\xgboost\\sklearn.py:1146: UserWarning: The use of label encoder in XGBClassifier is deprecated and will be removed in a future release. To remove this warning, do the following: 1) Pass option use_label_encoder=False when constructing XGBClassifier object; and 2) Encode your labels (y) as integers starting with 0, i.e. 0, 1, 2, ..., [num_class - 1].\n",
            "  warnings.warn(label_encoder_deprecation_msg, UserWarning)\n"
          ]
        },
        {
          "name": "stdout",
          "output_type": "stream",
          "text": [
            "[18:47:46] WARNING: C:/Users/Administrator/workspace/xgboost-win64_release_1.4.0/src/learner.cc:1095: Starting in XGBoost 1.3.0, the default evaluation metric used with the objective 'binary:logistic' was changed from 'error' to 'logloss'. Explicitly set eval_metric if you'd like to restore the old behavior.\n",
            "[18:47:49] WARNING: C:/Users/Administrator/workspace/xgboost-win64_release_1.4.0/src/learner.cc:1095: Starting in XGBoost 1.3.0, the default evaluation metric used with the objective 'binary:logistic' was changed from 'error' to 'logloss'. Explicitly set eval_metric if you'd like to restore the old behavior.\n",
            "[18:47:51] WARNING: C:/Users/Administrator/workspace/xgboost-win64_release_1.4.0/src/learner.cc:1095: Starting in XGBoost 1.3.0, the default evaluation metric used with the objective 'binary:logistic' was changed from 'error' to 'logloss'. Explicitly set eval_metric if you'd like to restore the old behavior.\n",
            "[18:47:54] WARNING: C:/Users/Administrator/workspace/xgboost-win64_release_1.4.0/src/learner.cc:1095: Starting in XGBoost 1.3.0, the default evaluation metric used with the objective 'binary:logistic' was changed from 'error' to 'logloss'. Explicitly set eval_metric if you'd like to restore the old behavior.\n",
            "[18:47:57] WARNING: C:/Users/Administrator/workspace/xgboost-win64_release_1.4.0/src/learner.cc:1095: Starting in XGBoost 1.3.0, the default evaluation metric used with the objective 'binary:logistic' was changed from 'error' to 'logloss'. Explicitly set eval_metric if you'd like to restore the old behavior.\n",
            "[18:47:59] WARNING: C:/Users/Administrator/workspace/xgboost-win64_release_1.4.0/src/learner.cc:1095: Starting in XGBoost 1.3.0, the default evaluation metric used with the objective 'binary:logistic' was changed from 'error' to 'logloss'. Explicitly set eval_metric if you'd like to restore the old behavior.\n",
            "[18:48:02] WARNING: C:/Users/Administrator/workspace/xgboost-win64_release_1.4.0/src/learner.cc:1095: Starting in XGBoost 1.3.0, the default evaluation metric used with the objective 'binary:logistic' was changed from 'error' to 'logloss'. Explicitly set eval_metric if you'd like to restore the old behavior.\n",
            "[18:48:05] WARNING: C:/Users/Administrator/workspace/xgboost-win64_release_1.4.0/src/learner.cc:1095: Starting in XGBoost 1.3.0, the default evaluation metric used with the objective 'binary:logistic' was changed from 'error' to 'logloss'. Explicitly set eval_metric if you'd like to restore the old behavior.\n",
            "[18:48:07] WARNING: C:/Users/Administrator/workspace/xgboost-win64_release_1.4.0/src/learner.cc:1095: Starting in XGBoost 1.3.0, the default evaluation metric used with the objective 'binary:logistic' was changed from 'error' to 'logloss'. Explicitly set eval_metric if you'd like to restore the old behavior.\n",
            "[18:48:09] WARNING: C:/Users/Administrator/workspace/xgboost-win64_release_1.4.0/src/learner.cc:1095: Starting in XGBoost 1.3.0, the default evaluation metric used with the objective 'binary:logistic' was changed from 'error' to 'logloss'. Explicitly set eval_metric if you'd like to restore the old behavior.\n"
          ]
        },
        {
          "name": "stderr",
          "output_type": "stream",
          "text": [
            "C:\\Users\\conno\\Anaconda3\\lib\\site-packages\\xgboost\\sklearn.py:1146: UserWarning: The use of label encoder in XGBClassifier is deprecated and will be removed in a future release. To remove this warning, do the following: 1) Pass option use_label_encoder=False when constructing XGBClassifier object; and 2) Encode your labels (y) as integers starting with 0, i.e. 0, 1, 2, ..., [num_class - 1].\n",
            "  warnings.warn(label_encoder_deprecation_msg, UserWarning)\n"
          ]
        },
        {
          "name": "stdout",
          "output_type": "stream",
          "text": [
            "[18:48:11] WARNING: C:/Users/Administrator/workspace/xgboost-win64_release_1.4.0/src/learner.cc:1095: Starting in XGBoost 1.3.0, the default evaluation metric used with the objective 'binary:logistic' was changed from 'error' to 'logloss'. Explicitly set eval_metric if you'd like to restore the old behavior.\n",
            "[18:48:13] WARNING: C:/Users/Administrator/workspace/xgboost-win64_release_1.4.0/src/learner.cc:1095: Starting in XGBoost 1.3.0, the default evaluation metric used with the objective 'binary:logistic' was changed from 'error' to 'logloss'. Explicitly set eval_metric if you'd like to restore the old behavior.\n",
            "[18:48:16] WARNING: C:/Users/Administrator/workspace/xgboost-win64_release_1.4.0/src/learner.cc:1095: Starting in XGBoost 1.3.0, the default evaluation metric used with the objective 'binary:logistic' was changed from 'error' to 'logloss'. Explicitly set eval_metric if you'd like to restore the old behavior.\n",
            "[18:48:18] WARNING: C:/Users/Administrator/workspace/xgboost-win64_release_1.4.0/src/learner.cc:1095: Starting in XGBoost 1.3.0, the default evaluation metric used with the objective 'binary:logistic' was changed from 'error' to 'logloss'. Explicitly set eval_metric if you'd like to restore the old behavior.\n",
            "[18:48:20] WARNING: C:/Users/Administrator/workspace/xgboost-win64_release_1.4.0/src/learner.cc:1095: Starting in XGBoost 1.3.0, the default evaluation metric used with the objective 'binary:logistic' was changed from 'error' to 'logloss'. Explicitly set eval_metric if you'd like to restore the old behavior.\n",
            "[18:48:22] WARNING: C:/Users/Administrator/workspace/xgboost-win64_release_1.4.0/src/learner.cc:1095: Starting in XGBoost 1.3.0, the default evaluation metric used with the objective 'binary:logistic' was changed from 'error' to 'logloss'. Explicitly set eval_metric if you'd like to restore the old behavior.\n",
            "[18:48:24] WARNING: C:/Users/Administrator/workspace/xgboost-win64_release_1.4.0/src/learner.cc:1095: Starting in XGBoost 1.3.0, the default evaluation metric used with the objective 'binary:logistic' was changed from 'error' to 'logloss'. Explicitly set eval_metric if you'd like to restore the old behavior.\n",
            "[18:48:26] WARNING: C:/Users/Administrator/workspace/xgboost-win64_release_1.4.0/src/learner.cc:1095: Starting in XGBoost 1.3.0, the default evaluation metric used with the objective 'binary:logistic' was changed from 'error' to 'logloss'. Explicitly set eval_metric if you'd like to restore the old behavior.\n",
            "[18:48:28] WARNING: C:/Users/Administrator/workspace/xgboost-win64_release_1.4.0/src/learner.cc:1095: Starting in XGBoost 1.3.0, the default evaluation metric used with the objective 'binary:logistic' was changed from 'error' to 'logloss'. Explicitly set eval_metric if you'd like to restore the old behavior.\n",
            "[18:48:30] WARNING: C:/Users/Administrator/workspace/xgboost-win64_release_1.4.0/src/learner.cc:1095: Starting in XGBoost 1.3.0, the default evaluation metric used with the objective 'binary:logistic' was changed from 'error' to 'logloss'. Explicitly set eval_metric if you'd like to restore the old behavior.\n"
          ]
        },
        {
          "name": "stderr",
          "output_type": "stream",
          "text": [
            "C:\\Users\\conno\\Anaconda3\\lib\\site-packages\\xgboost\\sklearn.py:1146: UserWarning: The use of label encoder in XGBClassifier is deprecated and will be removed in a future release. To remove this warning, do the following: 1) Pass option use_label_encoder=False when constructing XGBClassifier object; and 2) Encode your labels (y) as integers starting with 0, i.e. 0, 1, 2, ..., [num_class - 1].\n",
            "  warnings.warn(label_encoder_deprecation_msg, UserWarning)\n"
          ]
        },
        {
          "name": "stdout",
          "output_type": "stream",
          "text": [
            "[18:48:32] WARNING: C:/Users/Administrator/workspace/xgboost-win64_release_1.4.0/src/learner.cc:1095: Starting in XGBoost 1.3.0, the default evaluation metric used with the objective 'binary:logistic' was changed from 'error' to 'logloss'. Explicitly set eval_metric if you'd like to restore the old behavior.\n",
            "[18:48:34] WARNING: C:/Users/Administrator/workspace/xgboost-win64_release_1.4.0/src/learner.cc:1095: Starting in XGBoost 1.3.0, the default evaluation metric used with the objective 'binary:logistic' was changed from 'error' to 'logloss'. Explicitly set eval_metric if you'd like to restore the old behavior.\n",
            "[18:48:36] WARNING: C:/Users/Administrator/workspace/xgboost-win64_release_1.4.0/src/learner.cc:1095: Starting in XGBoost 1.3.0, the default evaluation metric used with the objective 'binary:logistic' was changed from 'error' to 'logloss'. Explicitly set eval_metric if you'd like to restore the old behavior.\n",
            "[18:48:39] WARNING: C:/Users/Administrator/workspace/xgboost-win64_release_1.4.0/src/learner.cc:1095: Starting in XGBoost 1.3.0, the default evaluation metric used with the objective 'binary:logistic' was changed from 'error' to 'logloss'. Explicitly set eval_metric if you'd like to restore the old behavior.\n",
            "[18:48:41] WARNING: C:/Users/Administrator/workspace/xgboost-win64_release_1.4.0/src/learner.cc:1095: Starting in XGBoost 1.3.0, the default evaluation metric used with the objective 'binary:logistic' was changed from 'error' to 'logloss'. Explicitly set eval_metric if you'd like to restore the old behavior.\n",
            "[18:48:43] WARNING: C:/Users/Administrator/workspace/xgboost-win64_release_1.4.0/src/learner.cc:1095: Starting in XGBoost 1.3.0, the default evaluation metric used with the objective 'binary:logistic' was changed from 'error' to 'logloss'. Explicitly set eval_metric if you'd like to restore the old behavior.\n",
            "[18:48:45] WARNING: C:/Users/Administrator/workspace/xgboost-win64_release_1.4.0/src/learner.cc:1095: Starting in XGBoost 1.3.0, the default evaluation metric used with the objective 'binary:logistic' was changed from 'error' to 'logloss'. Explicitly set eval_metric if you'd like to restore the old behavior.\n",
            "[18:48:47] WARNING: C:/Users/Administrator/workspace/xgboost-win64_release_1.4.0/src/learner.cc:1095: Starting in XGBoost 1.3.0, the default evaluation metric used with the objective 'binary:logistic' was changed from 'error' to 'logloss'. Explicitly set eval_metric if you'd like to restore the old behavior.\n",
            "[18:48:48] WARNING: C:/Users/Administrator/workspace/xgboost-win64_release_1.4.0/src/learner.cc:1095: Starting in XGBoost 1.3.0, the default evaluation metric used with the objective 'binary:logistic' was changed from 'error' to 'logloss'. Explicitly set eval_metric if you'd like to restore the old behavior.\n",
            "[18:48:50] WARNING: C:/Users/Administrator/workspace/xgboost-win64_release_1.4.0/src/learner.cc:1095: Starting in XGBoost 1.3.0, the default evaluation metric used with the objective 'binary:logistic' was changed from 'error' to 'logloss'. Explicitly set eval_metric if you'd like to restore the old behavior.\n"
          ]
        }
      ],
      "source": [
        "en_en_xgboost_scores = pd.DataFrame(cross_validate(en_en_xgboost, data_en_en_X, data_en_en_y, \n",
        "                        scoring=scoring, cv=cv))"
      ]
    },
    {
      "cell_type": "markdown",
      "source": [
        "### XGBoost EN_EN Results"
      ],
      "metadata": {
        "id": "fCDxkU0Rku6u"
      }
    },
    {
      "cell_type": "code",
      "execution_count": null,
      "metadata": {
        "id": "Vwk25o80Y3O7",
        "outputId": "e85c21aa-5067-4bbb-ec16-ec307ea916e7"
      },
      "outputs": [
        {
          "data": {
            "text/plain": [
              "fit_time          2.189064\n",
              "score_time        0.008677\n",
              "test_accuracy     0.942718\n",
              "test_precision    0.913062\n",
              "test_recall       0.861156\n",
              "test_f1           0.884844\n",
              "dtype: float64"
            ]
          },
          "execution_count": 183,
          "metadata": {},
          "output_type": "execute_result"
        }
      ],
      "source": [
        "en_en_xgboost_scores.mean()"
      ]
    },
    {
      "cell_type": "markdown",
      "metadata": {
        "id": "fhhFwqURY3O7"
      },
      "source": [
        "# Modeling with TF-IDF vectors"
      ]
    },
    {
      "cell_type": "markdown",
      "source": [
        "## Set up"
      ],
      "metadata": {
        "id": "ubbmlxUvlUBg"
      }
    },
    {
      "cell_type": "code",
      "execution_count": null,
      "metadata": {
        "id": "FIAGKVkdY3O7"
      },
      "outputs": [],
      "source": [
        "from sklearn.feature_extraction.text import TfidfVectorizer\n",
        "\n",
        "#Transformação com TF-IDF\n",
        "vectorizer = TfidfVectorizer()"
      ]
    },
    {
      "cell_type": "markdown",
      "metadata": {
        "id": "h670BszUY3O8"
      },
      "source": [
        "### PT_PT TF IDF Vectorization"
      ]
    },
    {
      "cell_type": "code",
      "execution_count": null,
      "metadata": {
        "id": "WJa6BtCKY3O8"
      },
      "outputs": [],
      "source": [
        "X_pt_pt = data_pt_pt['text_lem_en']"
      ]
    },
    {
      "cell_type": "code",
      "execution_count": null,
      "metadata": {
        "id": "q2UpaGK7Y3O8"
      },
      "outputs": [],
      "source": [
        "X_tfidf_pt_pt = vectorizer.fit_transform(X_pt_pt.astype(str))"
      ]
    },
    {
      "cell_type": "code",
      "execution_count": null,
      "metadata": {
        "id": "4p7wGxLyY3O8"
      },
      "outputs": [],
      "source": [
        "X_tfidf_pt_pt = pd.DataFrame(X_tfidf_pt_pt.toarray(), columns=vectorizer.get_feature_names()) "
      ]
    },
    {
      "cell_type": "markdown",
      "metadata": {
        "id": "UGHQJskYY3O8"
      },
      "source": [
        "### EN_EN TF IDF Vectorization"
      ]
    },
    {
      "cell_type": "code",
      "execution_count": null,
      "metadata": {
        "id": "qqKAAyXeY3O8"
      },
      "outputs": [],
      "source": [
        "X_en_en = data_en_en['text_lem_en']"
      ]
    },
    {
      "cell_type": "code",
      "execution_count": null,
      "metadata": {
        "id": "qx1jOF2KY3O8"
      },
      "outputs": [],
      "source": [
        "X_tfidf_en_en = vectorizer.fit_transform(X_en_en.astype(str))"
      ]
    },
    {
      "cell_type": "code",
      "execution_count": null,
      "metadata": {
        "id": "Mpk_rvA7Y3O8"
      },
      "outputs": [],
      "source": [
        "X_tfidf_en_en = pd.DataFrame(X_tfidf_en_en.toarray(), columns=vectorizer.get_feature_names()) "
      ]
    },
    {
      "cell_type": "markdown",
      "metadata": {
        "id": "YdMTkWzOY3O9"
      },
      "source": [
        "## Linear SVM"
      ]
    },
    {
      "cell_type": "markdown",
      "metadata": {
        "id": "JUXPFDstY3O9"
      },
      "source": [
        "### Linear SVM PT_PT with GridSearch"
      ]
    },
    {
      "cell_type": "code",
      "execution_count": null,
      "metadata": {
        "id": "dUF-Sz8tY3O9"
      },
      "outputs": [],
      "source": [
        "cv = RepeatedStratifiedKFold(n_splits=10, n_repeats=3, random_state=1)\n",
        "# Classifier\n",
        "lin_svc = SVC(random_state=1, kernel='linear', max_iter=-1)\n",
        "\n",
        "space = dict()\n",
        "space['C'] = [0.1, 1, 10, 100]\n",
        "space['gamma'] = [0.001, 0.01, 0.1, 1.0, 'scale']\n",
        "search = GridSearchCV(lin_svc, space, scoring='f1', n_jobs=-1, cv=cv)"
      ]
    },
    {
      "cell_type": "code",
      "execution_count": null,
      "metadata": {
        "id": "fs5JyGwEY3O9",
        "outputId": "1121a411-add6-4bb3-9871-1a9c91b2418b"
      },
      "outputs": [
        {
          "name": "stdout",
          "output_type": "stream",
          "text": [
            "220.0675172805786\n"
          ]
        }
      ],
      "source": [
        "st = time.time()\n",
        "#\n",
        "\n",
        "result = search.fit(X_tfidf_pt_pt,data_pt_pt_y)\n",
        "\n",
        "ed = time.time()\n",
        "print(ed-st)"
      ]
    },
    {
      "cell_type": "code",
      "execution_count": null,
      "metadata": {
        "id": "aw5pzosZY3O9",
        "outputId": "5366954b-be16-419e-f004-bb9b204e1891"
      },
      "outputs": [
        {
          "name": "stdout",
          "output_type": "stream",
          "text": [
            "Best Score: 0.7690\n",
            "Best Hyperparameters: {'C': 1, 'gamma': 0.001}\n"
          ]
        }
      ],
      "source": [
        "print(\"Best Score: {:.4f}\".format(result.best_score_))\n",
        "print(\"Best Hyperparameters: {}\".format(str(result.best_params_)))"
      ]
    },
    {
      "cell_type": "code",
      "execution_count": null,
      "metadata": {
        "id": "Xl7WuRyoY3O9"
      },
      "outputs": [],
      "source": [
        "pt_pt_tfidf_linSVC = SVC(random_state=1\n",
        "                       ,kernel='linear'\n",
        "                       ,max_iter=-1\n",
        "                       ,C=1\n",
        "                       ,gamma=0.001\n",
        "                  )                                          "
      ]
    },
    {
      "cell_type": "code",
      "execution_count": null,
      "metadata": {
        "id": "1xXDTVwuY3O9"
      },
      "outputs": [],
      "source": [
        "pt_pt_tfidf_linSVC_scores = pd.DataFrame(cross_validate(pt_pt_tfidf_linSVC, X_tfidf_pt_pt, data_pt_pt_y, \n",
        "                        scoring=scoring, cv=cv))"
      ]
    },
    {
      "cell_type": "markdown",
      "source": [
        "### Linear SVM PT_PT results"
      ],
      "metadata": {
        "id": "i5EnpNyPld_6"
      }
    },
    {
      "cell_type": "code",
      "execution_count": null,
      "metadata": {
        "id": "-xMxwM-fY3O-",
        "outputId": "01a5d52e-6ac5-4090-a331-b2e2b4f9d1ef"
      },
      "outputs": [
        {
          "data": {
            "text/plain": [
              "fit_time          1.173187\n",
              "score_time        0.133463\n",
              "test_accuracy     0.917787\n",
              "test_precision    0.814629\n",
              "test_recall       0.735771\n",
              "test_f1           0.769049\n",
              "dtype: float64"
            ]
          },
          "execution_count": 185,
          "metadata": {},
          "output_type": "execute_result"
        }
      ],
      "source": [
        "pt_pt_tfidf_linSVC_scores.mean()"
      ]
    },
    {
      "cell_type": "markdown",
      "metadata": {
        "id": "dwzMb92EY3O-"
      },
      "source": [
        "### Linear SVM EN_EN with GridSearch"
      ]
    },
    {
      "cell_type": "code",
      "execution_count": null,
      "metadata": {
        "id": "R2rkrLl4Y3O-"
      },
      "outputs": [],
      "source": [
        "cv = RepeatedStratifiedKFold(n_splits=10, n_repeats=3, random_state=1)\n",
        "# Classifier\n",
        "lin_svc = SVC(random_state=1, kernel='linear', max_iter=-1)\n",
        "\n",
        "space = dict()\n",
        "space['C'] = [0.1, 1, 10, 100]\n",
        "space['gamma'] = [0.001, 0.01, 0.1, 1.0, 'scale']\n",
        "search = GridSearchCV(lin_svc, space, scoring='f1', n_jobs=-1, cv=cv)"
      ]
    },
    {
      "cell_type": "code",
      "execution_count": null,
      "metadata": {
        "id": "pEwnvLLCY3O-",
        "outputId": "fa43b82d-13f5-4edf-d729-773e07e94e43"
      },
      "outputs": [
        {
          "name": "stdout",
          "output_type": "stream",
          "text": [
            "216.41340923309326\n"
          ]
        }
      ],
      "source": [
        "st = time.time()\n",
        "result = search.fit(X_tfidf_en_en,data_en_en_y)\n",
        "ed = time.time()\n",
        "print(ed-st)"
      ]
    },
    {
      "cell_type": "code",
      "execution_count": null,
      "metadata": {
        "id": "AtSqJnn3Y3O-",
        "outputId": "51dc3522-26e7-4b1e-e3e8-f22e2e7796d2"
      },
      "outputs": [
        {
          "name": "stdout",
          "output_type": "stream",
          "text": [
            "Best Score: 0.9004\n",
            "Best Hyperparameters: {'C': 10, 'gamma': 0.001}\n"
          ]
        }
      ],
      "source": [
        "print(\"Best Score: {:.4f}\".format(result.best_score_))\n",
        "print(\"Best Hyperparameters: {}\".format(str(result.best_params_)))"
      ]
    },
    {
      "cell_type": "code",
      "execution_count": null,
      "metadata": {
        "id": "oWAuNq1jY3O-"
      },
      "outputs": [],
      "source": [
        "en_en_tfidf_linSVC = SVC(random_state=1\n",
        "                       ,kernel='linear'\n",
        "                       ,max_iter=-1\n",
        "                       ,C=10\n",
        "                       ,gamma=0.001\n",
        "                  )                                          "
      ]
    },
    {
      "cell_type": "code",
      "execution_count": null,
      "metadata": {
        "id": "B1gzvJBAY3O_"
      },
      "outputs": [],
      "source": [
        "en_en_tfidf_linSVC_scores = pd.DataFrame(cross_validate(en_en_tfidf_linSVC, X_tfidf_en_en, data_en_en_y, \n",
        "                        scoring=scoring, cv=cv))"
      ]
    },
    {
      "cell_type": "markdown",
      "source": [
        "### Linear SVM PT_PT Results"
      ],
      "metadata": {
        "id": "qNpIdELUloIQ"
      }
    },
    {
      "cell_type": "code",
      "execution_count": null,
      "metadata": {
        "id": "ixQSo8-5Y3O_",
        "outputId": "d8610212-7395-4627-e08b-372ea75cb32a"
      },
      "outputs": [
        {
          "data": {
            "text/plain": [
              "fit_time          0.847123\n",
              "score_time        0.094512\n",
              "test_accuracy     0.950673\n",
              "test_precision    0.934621\n",
              "test_recall       0.870968\n",
              "test_f1           0.900421\n",
              "dtype: float64"
            ]
          },
          "execution_count": 187,
          "metadata": {},
          "output_type": "execute_result"
        }
      ],
      "source": [
        "en_en_tfidf_linSVC_scores.mean()"
      ]
    },
    {
      "cell_type": "markdown",
      "metadata": {
        "id": "l_GlcrzWY3O_"
      },
      "source": [
        "## Non-Linear SVM"
      ]
    },
    {
      "cell_type": "markdown",
      "metadata": {
        "id": "dXQaIIb3Y3O_"
      },
      "source": [
        "### Non-Linear SVM PT_PT with GridSearch"
      ]
    },
    {
      "cell_type": "code",
      "execution_count": null,
      "metadata": {
        "id": "I6W3R6yRY3O_"
      },
      "outputs": [],
      "source": [
        "# Classifier\n",
        "non_lin_svc = SVC(random_state=1, max_iter=-1)\n",
        "\n",
        "space = dict()\n",
        "space['C'] = [0.1, 1, 10, 100]\n",
        "space['kernel'] = ['rbf','poly','sigmoid']\n",
        "space['gamma'] = [0.001, 0.01, 0.1, 1.0, 'scale']\n",
        "search = GridSearchCV(non_lin_svc, space, scoring='f1', n_jobs=-1, cv=cv)"
      ]
    },
    {
      "cell_type": "code",
      "execution_count": null,
      "metadata": {
        "id": "AEfsqcjLY3O_",
        "outputId": "6e89384b-5c7d-4f03-abcf-87a8a83fc44c"
      },
      "outputs": [
        {
          "name": "stdout",
          "output_type": "stream",
          "text": [
            "1627502479.3177948\n",
            "1032.994833946228\n"
          ]
        }
      ],
      "source": [
        "st = time.time()\n",
        "print(st)\n",
        "result = search.fit(X_tfidf_pt_pt,data_pt_pt_y)\n",
        "ed = time.time()\n",
        "print(ed-st)"
      ]
    },
    {
      "cell_type": "code",
      "execution_count": null,
      "metadata": {
        "id": "TFzl4hQcY3O_",
        "outputId": "8d6e8f2c-17c0-4f76-8040-66d0973e4850"
      },
      "outputs": [
        {
          "name": "stdout",
          "output_type": "stream",
          "text": [
            "Best Score: 0.7723\n",
            "Best Hyperparameters: {'C': 10, 'gamma': 0.1, 'kernel': 'rbf'}\n"
          ]
        }
      ],
      "source": [
        "print(\"Best Score: {:.4f}\".format(result.best_score_))\n",
        "print(\"Best Hyperparameters: {}\".format(str(result.best_params_)))"
      ]
    },
    {
      "cell_type": "code",
      "execution_count": null,
      "metadata": {
        "id": "0b0DSytuY3PA"
      },
      "outputs": [],
      "source": [
        "pt_pt_tfidf_nonlinSVC = SVC(random_state=1\n",
        "                       ,kernel='rbf'\n",
        "                       ,max_iter=-1\n",
        "                       ,C=10\n",
        "                       ,gamma=0.01\n",
        "                  )                                          "
      ]
    },
    {
      "cell_type": "code",
      "execution_count": null,
      "metadata": {
        "id": "zlrcJy8CY3PA"
      },
      "outputs": [],
      "source": [
        "pt_pt_tfidf_nonlinSVC_scores = pd.DataFrame(cross_validate(pt_pt_tfidf_nonlinSVC, X_tfidf_pt_pt, data_pt_pt_y, \n",
        "                        scoring=scoring, cv=cv))"
      ]
    },
    {
      "cell_type": "markdown",
      "source": [
        "### Non-Linear SVM PT_PT Results"
      ],
      "metadata": {
        "id": "eBr2nFHBltjU"
      }
    },
    {
      "cell_type": "code",
      "execution_count": null,
      "metadata": {
        "id": "yhU-GkwaY3PA",
        "outputId": "338851c8-6b3b-4ca2-f112-bd56776e8536"
      },
      "outputs": [
        {
          "data": {
            "text/plain": [
              "fit_time          1.380973\n",
              "score_time        0.159954\n",
              "test_accuracy     0.867340\n",
              "test_precision    0.847667\n",
              "test_recall       0.359750\n",
              "test_f1           0.500157\n",
              "dtype: float64"
            ]
          },
          "execution_count": 189,
          "metadata": {},
          "output_type": "execute_result"
        }
      ],
      "source": [
        "pt_pt_tfidf_nonlinSVC_scores.mean()"
      ]
    },
    {
      "cell_type": "markdown",
      "metadata": {
        "id": "ZLYGpVO8Y3PA"
      },
      "source": [
        "### Non-Linear SVM EN_EN with GridSearch"
      ]
    },
    {
      "cell_type": "code",
      "execution_count": null,
      "metadata": {
        "id": "og-rqIvzY3PA"
      },
      "outputs": [],
      "source": [
        "# Classifier\n",
        "non_lin_svc = SVC(random_state=1, max_iter=-1)\n",
        "\n",
        "space = dict()\n",
        "space['C'] = [0.1, 1, 10, 100]\n",
        "space['kernel'] = ['rbf','poly','sigmoid']\n",
        "space['gamma'] = [0.001, 0.01, 0.1, 1.0, 'scale']\n",
        "search = GridSearchCV(non_lin_svc, space, scoring='f1', n_jobs=-1, cv=cv)"
      ]
    },
    {
      "cell_type": "code",
      "execution_count": null,
      "metadata": {
        "id": "91hGqr8wY3PA",
        "outputId": "9e70d22e-6f47-48f1-9925-4e7a5a149433"
      },
      "outputs": [
        {
          "name": "stdout",
          "output_type": "stream",
          "text": [
            "1627503512.3594565\n",
            "1097.7213854789734\n"
          ]
        }
      ],
      "source": [
        "st = time.time()\n",
        "print(st)\n",
        "result = search.fit(X_tfidf_en_en,data_en_en_y)\n",
        "ed = time.time()\n",
        "print(ed-st)"
      ]
    },
    {
      "cell_type": "code",
      "execution_count": null,
      "metadata": {
        "id": "FJiIdOWDY3PA",
        "outputId": "609abf02-a519-43d0-bd35-3ce3f8e25f7b"
      },
      "outputs": [
        {
          "name": "stdout",
          "output_type": "stream",
          "text": [
            "Best Score: 0.9029\n",
            "Best Hyperparameters: {'C': 100, 'gamma': 0.1, 'kernel': 'rbf'}\n"
          ]
        }
      ],
      "source": [
        "print(\"Best Score: {:.4f}\".format(result.best_score_))\n",
        "print(\"Best Hyperparameters: {}\".format(str(result.best_params_)))"
      ]
    },
    {
      "cell_type": "code",
      "execution_count": null,
      "metadata": {
        "id": "IGVrW1nUY3PA"
      },
      "outputs": [],
      "source": [
        "en_en_tfidf_nonlinSVC = SVC(random_state=1\n",
        "                       ,kernel='rbf'\n",
        "                       ,max_iter=-1\n",
        "                       ,C=100\n",
        "                       ,gamma=0.1\n",
        "                  )                                          "
      ]
    },
    {
      "cell_type": "code",
      "execution_count": null,
      "metadata": {
        "id": "Ki-NLXpzY3PB"
      },
      "outputs": [],
      "source": [
        "en_en_tfidf_nonlinSVC_scores = pd.DataFrame(cross_validate(en_en_tfidf_nonlinSVC, X_tfidf_en_en, data_en_en_y, \n",
        "                        scoring=scoring, cv=cv))"
      ]
    },
    {
      "cell_type": "markdown",
      "source": [
        "### Non-Linear SVM EN_EN Results"
      ],
      "metadata": {
        "id": "YWyJFwj1l3j9"
      }
    },
    {
      "cell_type": "code",
      "execution_count": null,
      "metadata": {
        "id": "P9bKMz9SY3PB",
        "outputId": "4b7b4148-8e52-4940-a8b6-afd1d4fadaf8"
      },
      "outputs": [
        {
          "data": {
            "text/plain": [
              "fit_time          1.002622\n",
              "score_time        0.115709\n",
              "test_accuracy     0.952048\n",
              "test_precision    0.939870\n",
              "test_recall       0.870968\n",
              "test_f1           0.902926\n",
              "dtype: float64"
            ]
          },
          "execution_count": 191,
          "metadata": {},
          "output_type": "execute_result"
        }
      ],
      "source": [
        "en_en_tfidf_nonlinSVC_scores.mean()"
      ]
    },
    {
      "cell_type": "markdown",
      "metadata": {
        "id": "3X5pwTiRY3PB"
      },
      "source": [
        "## Random Forest"
      ]
    },
    {
      "cell_type": "markdown",
      "metadata": {
        "id": "o3mjk6PxY3PB"
      },
      "source": [
        "### Random Forest PT_PT with GridSearch"
      ]
    },
    {
      "cell_type": "code",
      "execution_count": null,
      "metadata": {
        "id": "f8euxdyHY3PB"
      },
      "outputs": [],
      "source": [
        "# Classifier\n",
        "rand_for = RandomForestClassifier(random_state=1)\n",
        "\n",
        "# Only tune for estimators used in other two models\n",
        "space = dict()\n",
        "space['n_estimators'] = [100,500]\n",
        "space['max_features'] = ['auto']\n",
        "space['max_depth'] = [50]\n",
        "space['min_samples_split'] = [2]\n",
        "space['min_samples_leaf'] = [1]\n",
        "space['bootstrap'] = [False]\n",
        "\n",
        "search = GridSearchCV(rand_for, space, scoring='f1', n_jobs=-1, cv=cv)"
      ]
    },
    {
      "cell_type": "code",
      "execution_count": null,
      "metadata": {
        "id": "MO3y2RkjY3PB",
        "outputId": "2d1c83f8-b090-4b69-bbfb-0526e13131e4"
      },
      "outputs": [
        {
          "name": "stdout",
          "output_type": "stream",
          "text": [
            "245.66014981269836\n"
          ]
        }
      ],
      "source": [
        "st = time.time()\n",
        "result = search.fit(X_tfidf_pt_pt,data_pt_pt_y)\n",
        "ed = time.time()\n",
        "print(ed-st)"
      ]
    },
    {
      "cell_type": "code",
      "execution_count": null,
      "metadata": {
        "id": "zpkA0lkJY3PC",
        "outputId": "97a47f6c-3f37-4fdc-b524-e63ebd5bf445"
      },
      "outputs": [
        {
          "name": "stdout",
          "output_type": "stream",
          "text": [
            "Best Score: 0.7730\n",
            "Best Hyperparameters: {'bootstrap': False, 'max_depth': 50, 'max_features': 'auto', 'min_samples_leaf': 1, 'min_samples_split': 2, 'n_estimators': 100}\n"
          ]
        }
      ],
      "source": [
        "print(\"Best Score: {:.4f}\".format(result.best_score_))\n",
        "print(\"Best Hyperparameters: {}\".format(str(result.best_params_)))"
      ]
    },
    {
      "cell_type": "code",
      "execution_count": null,
      "metadata": {
        "id": "HqiIGAqLY3PC"
      },
      "outputs": [],
      "source": [
        "pt_pt_tfidf_rand_for = RandomForestClassifier(random_state=1\n",
        "                                        ,n_estimators = 100\n",
        "                                        ,max_features = 'auto'\n",
        "                                        ,max_depth = 50\n",
        "                                        ,min_samples_split = 2\n",
        "                                        ,min_samples_leaf = 1\n",
        "                                        ,bootstrap = False\n",
        "                  )                                          "
      ]
    },
    {
      "cell_type": "code",
      "execution_count": null,
      "metadata": {
        "id": "H5M6HMBvY3PC"
      },
      "outputs": [],
      "source": [
        "pt_pt_tfidf_rand_for_scores = pd.DataFrame(cross_validate(pt_pt_tfidf_rand_for, X_tfidf_pt_pt, data_pt_pt_y, \n",
        "                        scoring=scoring, cv=cv))"
      ]
    },
    {
      "cell_type": "markdown",
      "source": [
        "### Random Forest PT_PT Results"
      ],
      "metadata": {
        "id": "a3_EZMuumHW0"
      }
    },
    {
      "cell_type": "code",
      "execution_count": null,
      "metadata": {
        "id": "bsFr4krpY3PC",
        "outputId": "c5b627bb-544b-475b-e509-f0900b6dc643"
      },
      "outputs": [
        {
          "data": {
            "text/plain": [
              "fit_time          2.128339\n",
              "score_time        0.025385\n",
              "test_accuracy     0.920774\n",
              "test_precision    0.835078\n",
              "test_recall       0.725362\n",
              "test_f1           0.773033\n",
              "dtype: float64"
            ]
          },
          "execution_count": 193,
          "metadata": {},
          "output_type": "execute_result"
        }
      ],
      "source": [
        "pt_pt_tfidf_rand_for_scores.mean()"
      ]
    },
    {
      "cell_type": "markdown",
      "metadata": {
        "id": "eeI0k9XoY3PC"
      },
      "source": [
        "### Random Forest EN_EN with GridSearch"
      ]
    },
    {
      "cell_type": "code",
      "execution_count": null,
      "metadata": {
        "id": "UrQlHuvxY3PC"
      },
      "outputs": [],
      "source": [
        "# Classifier\n",
        "rand_for = RandomForestClassifier(random_state=1)\n",
        "\n",
        "# Only tune for estimators used in other two models\n",
        "space = dict()\n",
        "space['n_estimators'] = [100,500]\n",
        "space['max_features'] = ['auto']\n",
        "space['max_depth'] = [50]\n",
        "space['min_samples_split'] = [2]\n",
        "space['min_samples_leaf'] = [1]\n",
        "space['bootstrap'] = [False]\n",
        "\n",
        "search = GridSearchCV(rand_for, space, scoring='f1', n_jobs=-1, cv=cv)"
      ]
    },
    {
      "cell_type": "code",
      "execution_count": null,
      "metadata": {
        "id": "zWTAQnN3Y3PC",
        "outputId": "f62127e8-480c-44c7-d629-2afb29b6a4ac"
      },
      "outputs": [
        {
          "name": "stdout",
          "output_type": "stream",
          "text": [
            "225.3010914325714\n"
          ]
        }
      ],
      "source": [
        "st = time.time()\n",
        "result = search.fit(X_tfidf_en_en,data_en_en_y)\n",
        "ed = time.time()\n",
        "print(ed-st)"
      ]
    },
    {
      "cell_type": "code",
      "execution_count": null,
      "metadata": {
        "id": "EURmNViaY3PD",
        "outputId": "e8c326c3-6b7e-4ce8-bbaf-e0386e5e254c"
      },
      "outputs": [
        {
          "name": "stdout",
          "output_type": "stream",
          "text": [
            "Best Score: 0.8888\n",
            "Best Hyperparameters: {'bootstrap': False, 'max_depth': 50, 'max_features': 'auto', 'min_samples_leaf': 1, 'min_samples_split': 2, 'n_estimators': 500}\n"
          ]
        }
      ],
      "source": [
        "print(\"Best Score: {:.4f}\".format(result.best_score_))\n",
        "print(\"Best Hyperparameters: {}\".format(str(result.best_params_)))"
      ]
    },
    {
      "cell_type": "code",
      "execution_count": null,
      "metadata": {
        "id": "ooCljkNRY3PD"
      },
      "outputs": [],
      "source": [
        "en_en_tfidf_rand_for = RandomForestClassifier(random_state=1\n",
        "                                        ,n_estimators = 500\n",
        "                                        ,max_features = 'auto'\n",
        "                                        ,max_depth = 50\n",
        "                                        ,min_samples_split = 2\n",
        "                                        ,min_samples_leaf = 1\n",
        "                                        ,bootstrap = False\n",
        "                  )                                          "
      ]
    },
    {
      "cell_type": "code",
      "execution_count": null,
      "metadata": {
        "id": "ES6vSsqeY3PD"
      },
      "outputs": [],
      "source": [
        "en_en_tfidf_rand_for_scores = pd.DataFrame(cross_validate(en_en_tfidf_rand_for, X_tfidf_en_en, data_en_en_y, \n",
        "                        scoring=scoring, cv=cv))"
      ]
    },
    {
      "cell_type": "markdown",
      "source": [
        "### Random Forest EN_EN Results"
      ],
      "metadata": {
        "id": "r67Cn7u_mNkP"
      }
    },
    {
      "cell_type": "code",
      "execution_count": null,
      "metadata": {
        "id": "fYPwW5VAY3PD",
        "outputId": "2c4d2a5e-fb8e-4b0c-d1e7-3e207b9f5c27"
      },
      "outputs": [
        {
          "data": {
            "text/plain": [
              "fit_time          8.048642\n",
              "score_time        0.062084\n",
              "test_accuracy     0.945737\n",
              "test_precision    0.934671\n",
              "test_recall       0.850437\n",
              "test_f1           0.888790\n",
              "dtype: float64"
            ]
          },
          "execution_count": 195,
          "metadata": {},
          "output_type": "execute_result"
        }
      ],
      "source": [
        "en_en_tfidf_rand_for_scores.mean()"
      ]
    },
    {
      "cell_type": "markdown",
      "metadata": {
        "id": "VjPbFwqsY3PD"
      },
      "source": [
        "## XGBoost"
      ]
    },
    {
      "cell_type": "markdown",
      "metadata": {
        "id": "Bgc_vNs-Y3PD"
      },
      "source": [
        "### XGBoost PT_PT with GridSearch"
      ]
    },
    {
      "cell_type": "code",
      "execution_count": null,
      "metadata": {
        "id": "GmPuFSczY3PD",
        "outputId": "766a706f-8257-459f-9eef-bb214b628310"
      },
      "outputs": [
        {
          "name": "stdout",
          "output_type": "stream",
          "text": [
            "Fitting 10 folds for each of 2 candidates, totalling 20 fits\n"
          ]
        },
        {
          "name": "stderr",
          "output_type": "stream",
          "text": [
            "[Parallel(n_jobs=10)]: Using backend LokyBackend with 10 concurrent workers.\n",
            "[Parallel(n_jobs=10)]: Done  20 out of  20 | elapsed:   53.1s finished\n",
            "C:\\Users\\conno\\Anaconda3\\lib\\site-packages\\xgboost\\sklearn.py:1146: UserWarning: The use of label encoder in XGBClassifier is deprecated and will be removed in a future release. To remove this warning, do the following: 1) Pass option use_label_encoder=False when constructing XGBClassifier object; and 2) Encode your labels (y) as integers starting with 0, i.e. 0, 1, 2, ..., [num_class - 1].\n",
            "  warnings.warn(label_encoder_deprecation_msg, UserWarning)\n"
          ]
        },
        {
          "name": "stdout",
          "output_type": "stream",
          "text": [
            "[17:46:16] WARNING: C:/Users/Administrator/workspace/xgboost-win64_release_1.4.0/src/learner.cc:1095: Starting in XGBoost 1.3.0, the default evaluation metric used with the objective 'binary:logistic' was changed from 'error' to 'logloss'. Explicitly set eval_metric if you'd like to restore the old behavior.\n"
          ]
        },
        {
          "data": {
            "text/plain": [
              "GridSearchCV(cv=10,\n",
              "             estimator=XGBClassifier(base_score=None, booster=None,\n",
              "                                     colsample_bylevel=None,\n",
              "                                     colsample_bynode=None,\n",
              "                                     colsample_bytree=None, gamma=None,\n",
              "                                     gpu_id=None, importance_type='gain',\n",
              "                                     interaction_constraints=None,\n",
              "                                     learning_rate=None, max_delta_step=None,\n",
              "                                     max_depth=None, min_child_weight=None,\n",
              "                                     missing=nan, monotone_constraints=None,\n",
              "                                     n_estimators=100, n_jobs=None, nthread=4,\n",
              "                                     num_parallel_tree=None, random_state=None,\n",
              "                                     reg_alpha=None, reg_lambda=None,\n",
              "                                     scale_pos_weight=None, seed=42,\n",
              "                                     subsample=None, tree_method=None,\n",
              "                                     validate_parameters=None, verbosity=None),\n",
              "             n_jobs=10,\n",
              "             param_grid={'learning_rate': [0.1, 0.01], 'max_depth': [2],\n",
              "                         'n_estimators': [180]},\n",
              "             scoring='f1', verbose=True)"
            ]
          },
          "execution_count": 133,
          "metadata": {},
          "output_type": "execute_result"
        }
      ],
      "source": [
        "from xgboost import XGBClassifier\n",
        "from sklearn.model_selection import GridSearchCV\n",
        "\n",
        "estimator = XGBClassifier(\n",
        "    objective= 'binary:logistic',\n",
        "    nthread=4,\n",
        "    seed=42\n",
        ")\n",
        "\n",
        "parameters = {\n",
        "    'max_depth': [2],\n",
        "    'n_estimators': [180],\n",
        "    'learning_rate': [0.1,0.01]\n",
        "} \n",
        "\n",
        "\n",
        "grid_search = GridSearchCV(\n",
        "    estimator=estimator,\n",
        "    param_grid=parameters,\n",
        "    scoring = 'f1',\n",
        "    n_jobs = 10,\n",
        "    cv = 10,\n",
        "    verbose=True\n",
        ")\n",
        "\n",
        "grid_search.fit(X_tfidf_pt_pt, data_pt_pt_y)\n"
      ]
    },
    {
      "cell_type": "code",
      "execution_count": null,
      "metadata": {
        "id": "Zy4UVn4ZY3PE",
        "outputId": "21a8f492-cc80-4e46-b7a2-41484a92ea99"
      },
      "outputs": [
        {
          "name": "stdout",
          "output_type": "stream",
          "text": [
            "Best Score: 0.6608\n",
            "Best Hyperparameters: {'learning_rate': 0.1, 'max_depth': 2, 'n_estimators': 180}\n"
          ]
        }
      ],
      "source": [
        "grid_search.best_estimator_\n",
        "print(\"Best Score: {:.4f}\".format(grid_search.best_score_))\n",
        "print(\"Best Hyperparameters: {}\".format(str(grid_search.best_params_)))"
      ]
    },
    {
      "cell_type": "code",
      "execution_count": null,
      "metadata": {
        "id": "N2WN3LYfY3PE"
      },
      "outputs": [],
      "source": [
        "pt_pt_tfidf_xgboost = XGBClassifier(\n",
        "                    objective= 'binary:logistic'\n",
        "                    ,nthread=4\n",
        "                    ,seed=42\n",
        "                    ,learning_rate = 0.1\n",
        "                    ,max_depth = 2\n",
        "                    ,n_estimators = 180\n",
        ")                               "
      ]
    },
    {
      "cell_type": "code",
      "execution_count": null,
      "metadata": {
        "id": "_JAm9MwNY3PE",
        "outputId": "b52f9da3-8b16-4a84-aca7-70645baf1dc3"
      },
      "outputs": [
        {
          "name": "stderr",
          "output_type": "stream",
          "text": [
            "C:\\Users\\conno\\Anaconda3\\lib\\site-packages\\xgboost\\sklearn.py:1146: UserWarning: The use of label encoder in XGBClassifier is deprecated and will be removed in a future release. To remove this warning, do the following: 1) Pass option use_label_encoder=False when constructing XGBClassifier object; and 2) Encode your labels (y) as integers starting with 0, i.e. 0, 1, 2, ..., [num_class - 1].\n",
            "  warnings.warn(label_encoder_deprecation_msg, UserWarning)\n"
          ]
        },
        {
          "name": "stdout",
          "output_type": "stream",
          "text": [
            "[18:56:28] WARNING: C:/Users/Administrator/workspace/xgboost-win64_release_1.4.0/src/learner.cc:1095: Starting in XGBoost 1.3.0, the default evaluation metric used with the objective 'binary:logistic' was changed from 'error' to 'logloss'. Explicitly set eval_metric if you'd like to restore the old behavior.\n",
            "[18:56:30] WARNING: C:/Users/Administrator/workspace/xgboost-win64_release_1.4.0/src/learner.cc:1095: Starting in XGBoost 1.3.0, the default evaluation metric used with the objective 'binary:logistic' was changed from 'error' to 'logloss'. Explicitly set eval_metric if you'd like to restore the old behavior.\n",
            "[18:56:32] WARNING: C:/Users/Administrator/workspace/xgboost-win64_release_1.4.0/src/learner.cc:1095: Starting in XGBoost 1.3.0, the default evaluation metric used with the objective 'binary:logistic' was changed from 'error' to 'logloss'. Explicitly set eval_metric if you'd like to restore the old behavior.\n",
            "[18:56:34] WARNING: C:/Users/Administrator/workspace/xgboost-win64_release_1.4.0/src/learner.cc:1095: Starting in XGBoost 1.3.0, the default evaluation metric used with the objective 'binary:logistic' was changed from 'error' to 'logloss'. Explicitly set eval_metric if you'd like to restore the old behavior.\n",
            "[18:56:36] WARNING: C:/Users/Administrator/workspace/xgboost-win64_release_1.4.0/src/learner.cc:1095: Starting in XGBoost 1.3.0, the default evaluation metric used with the objective 'binary:logistic' was changed from 'error' to 'logloss'. Explicitly set eval_metric if you'd like to restore the old behavior.\n",
            "[18:56:39] WARNING: C:/Users/Administrator/workspace/xgboost-win64_release_1.4.0/src/learner.cc:1095: Starting in XGBoost 1.3.0, the default evaluation metric used with the objective 'binary:logistic' was changed from 'error' to 'logloss'. Explicitly set eval_metric if you'd like to restore the old behavior.\n",
            "[18:56:41] WARNING: C:/Users/Administrator/workspace/xgboost-win64_release_1.4.0/src/learner.cc:1095: Starting in XGBoost 1.3.0, the default evaluation metric used with the objective 'binary:logistic' was changed from 'error' to 'logloss'. Explicitly set eval_metric if you'd like to restore the old behavior.\n",
            "[18:56:43] WARNING: C:/Users/Administrator/workspace/xgboost-win64_release_1.4.0/src/learner.cc:1095: Starting in XGBoost 1.3.0, the default evaluation metric used with the objective 'binary:logistic' was changed from 'error' to 'logloss'. Explicitly set eval_metric if you'd like to restore the old behavior.\n",
            "[18:56:45] WARNING: C:/Users/Administrator/workspace/xgboost-win64_release_1.4.0/src/learner.cc:1095: Starting in XGBoost 1.3.0, the default evaluation metric used with the objective 'binary:logistic' was changed from 'error' to 'logloss'. Explicitly set eval_metric if you'd like to restore the old behavior.\n",
            "[18:56:47] WARNING: C:/Users/Administrator/workspace/xgboost-win64_release_1.4.0/src/learner.cc:1095: Starting in XGBoost 1.3.0, the default evaluation metric used with the objective 'binary:logistic' was changed from 'error' to 'logloss'. Explicitly set eval_metric if you'd like to restore the old behavior.\n"
          ]
        },
        {
          "name": "stderr",
          "output_type": "stream",
          "text": [
            "C:\\Users\\conno\\Anaconda3\\lib\\site-packages\\xgboost\\sklearn.py:1146: UserWarning: The use of label encoder in XGBClassifier is deprecated and will be removed in a future release. To remove this warning, do the following: 1) Pass option use_label_encoder=False when constructing XGBClassifier object; and 2) Encode your labels (y) as integers starting with 0, i.e. 0, 1, 2, ..., [num_class - 1].\n",
            "  warnings.warn(label_encoder_deprecation_msg, UserWarning)\n"
          ]
        },
        {
          "name": "stdout",
          "output_type": "stream",
          "text": [
            "[18:56:49] WARNING: C:/Users/Administrator/workspace/xgboost-win64_release_1.4.0/src/learner.cc:1095: Starting in XGBoost 1.3.0, the default evaluation metric used with the objective 'binary:logistic' was changed from 'error' to 'logloss'. Explicitly set eval_metric if you'd like to restore the old behavior.\n",
            "[18:56:51] WARNING: C:/Users/Administrator/workspace/xgboost-win64_release_1.4.0/src/learner.cc:1095: Starting in XGBoost 1.3.0, the default evaluation metric used with the objective 'binary:logistic' was changed from 'error' to 'logloss'. Explicitly set eval_metric if you'd like to restore the old behavior.\n",
            "[18:56:53] WARNING: C:/Users/Administrator/workspace/xgboost-win64_release_1.4.0/src/learner.cc:1095: Starting in XGBoost 1.3.0, the default evaluation metric used with the objective 'binary:logistic' was changed from 'error' to 'logloss'. Explicitly set eval_metric if you'd like to restore the old behavior.\n",
            "[18:56:56] WARNING: C:/Users/Administrator/workspace/xgboost-win64_release_1.4.0/src/learner.cc:1095: Starting in XGBoost 1.3.0, the default evaluation metric used with the objective 'binary:logistic' was changed from 'error' to 'logloss'. Explicitly set eval_metric if you'd like to restore the old behavior.\n",
            "[18:56:58] WARNING: C:/Users/Administrator/workspace/xgboost-win64_release_1.4.0/src/learner.cc:1095: Starting in XGBoost 1.3.0, the default evaluation metric used with the objective 'binary:logistic' was changed from 'error' to 'logloss'. Explicitly set eval_metric if you'd like to restore the old behavior.\n",
            "[18:57:00] WARNING: C:/Users/Administrator/workspace/xgboost-win64_release_1.4.0/src/learner.cc:1095: Starting in XGBoost 1.3.0, the default evaluation metric used with the objective 'binary:logistic' was changed from 'error' to 'logloss'. Explicitly set eval_metric if you'd like to restore the old behavior.\n",
            "[18:57:03] WARNING: C:/Users/Administrator/workspace/xgboost-win64_release_1.4.0/src/learner.cc:1095: Starting in XGBoost 1.3.0, the default evaluation metric used with the objective 'binary:logistic' was changed from 'error' to 'logloss'. Explicitly set eval_metric if you'd like to restore the old behavior.\n",
            "[18:57:05] WARNING: C:/Users/Administrator/workspace/xgboost-win64_release_1.4.0/src/learner.cc:1095: Starting in XGBoost 1.3.0, the default evaluation metric used with the objective 'binary:logistic' was changed from 'error' to 'logloss'. Explicitly set eval_metric if you'd like to restore the old behavior.\n",
            "[18:57:08] WARNING: C:/Users/Administrator/workspace/xgboost-win64_release_1.4.0/src/learner.cc:1095: Starting in XGBoost 1.3.0, the default evaluation metric used with the objective 'binary:logistic' was changed from 'error' to 'logloss'. Explicitly set eval_metric if you'd like to restore the old behavior.\n",
            "[18:57:10] WARNING: C:/Users/Administrator/workspace/xgboost-win64_release_1.4.0/src/learner.cc:1095: Starting in XGBoost 1.3.0, the default evaluation metric used with the objective 'binary:logistic' was changed from 'error' to 'logloss'. Explicitly set eval_metric if you'd like to restore the old behavior.\n"
          ]
        },
        {
          "name": "stderr",
          "output_type": "stream",
          "text": [
            "C:\\Users\\conno\\Anaconda3\\lib\\site-packages\\xgboost\\sklearn.py:1146: UserWarning: The use of label encoder in XGBClassifier is deprecated and will be removed in a future release. To remove this warning, do the following: 1) Pass option use_label_encoder=False when constructing XGBClassifier object; and 2) Encode your labels (y) as integers starting with 0, i.e. 0, 1, 2, ..., [num_class - 1].\n",
            "  warnings.warn(label_encoder_deprecation_msg, UserWarning)\n"
          ]
        },
        {
          "name": "stdout",
          "output_type": "stream",
          "text": [
            "[18:57:12] WARNING: C:/Users/Administrator/workspace/xgboost-win64_release_1.4.0/src/learner.cc:1095: Starting in XGBoost 1.3.0, the default evaluation metric used with the objective 'binary:logistic' was changed from 'error' to 'logloss'. Explicitly set eval_metric if you'd like to restore the old behavior.\n",
            "[18:57:15] WARNING: C:/Users/Administrator/workspace/xgboost-win64_release_1.4.0/src/learner.cc:1095: Starting in XGBoost 1.3.0, the default evaluation metric used with the objective 'binary:logistic' was changed from 'error' to 'logloss'. Explicitly set eval_metric if you'd like to restore the old behavior.\n",
            "[18:57:17] WARNING: C:/Users/Administrator/workspace/xgboost-win64_release_1.4.0/src/learner.cc:1095: Starting in XGBoost 1.3.0, the default evaluation metric used with the objective 'binary:logistic' was changed from 'error' to 'logloss'. Explicitly set eval_metric if you'd like to restore the old behavior.\n",
            "[18:57:20] WARNING: C:/Users/Administrator/workspace/xgboost-win64_release_1.4.0/src/learner.cc:1095: Starting in XGBoost 1.3.0, the default evaluation metric used with the objective 'binary:logistic' was changed from 'error' to 'logloss'. Explicitly set eval_metric if you'd like to restore the old behavior.\n",
            "[18:57:22] WARNING: C:/Users/Administrator/workspace/xgboost-win64_release_1.4.0/src/learner.cc:1095: Starting in XGBoost 1.3.0, the default evaluation metric used with the objective 'binary:logistic' was changed from 'error' to 'logloss'. Explicitly set eval_metric if you'd like to restore the old behavior.\n",
            "[18:57:24] WARNING: C:/Users/Administrator/workspace/xgboost-win64_release_1.4.0/src/learner.cc:1095: Starting in XGBoost 1.3.0, the default evaluation metric used with the objective 'binary:logistic' was changed from 'error' to 'logloss'. Explicitly set eval_metric if you'd like to restore the old behavior.\n",
            "[18:57:27] WARNING: C:/Users/Administrator/workspace/xgboost-win64_release_1.4.0/src/learner.cc:1095: Starting in XGBoost 1.3.0, the default evaluation metric used with the objective 'binary:logistic' was changed from 'error' to 'logloss'. Explicitly set eval_metric if you'd like to restore the old behavior.\n",
            "[18:57:29] WARNING: C:/Users/Administrator/workspace/xgboost-win64_release_1.4.0/src/learner.cc:1095: Starting in XGBoost 1.3.0, the default evaluation metric used with the objective 'binary:logistic' was changed from 'error' to 'logloss'. Explicitly set eval_metric if you'd like to restore the old behavior.\n",
            "[18:57:32] WARNING: C:/Users/Administrator/workspace/xgboost-win64_release_1.4.0/src/learner.cc:1095: Starting in XGBoost 1.3.0, the default evaluation metric used with the objective 'binary:logistic' was changed from 'error' to 'logloss'. Explicitly set eval_metric if you'd like to restore the old behavior.\n",
            "[18:57:34] WARNING: C:/Users/Administrator/workspace/xgboost-win64_release_1.4.0/src/learner.cc:1095: Starting in XGBoost 1.3.0, the default evaluation metric used with the objective 'binary:logistic' was changed from 'error' to 'logloss'. Explicitly set eval_metric if you'd like to restore the old behavior.\n"
          ]
        }
      ],
      "source": [
        "pt_pt_tfidf_xgboost_scores = pd.DataFrame(cross_validate(pt_pt_tfidf_xgboost, X_tfidf_pt_pt, data_en_en_y, \n",
        "                        scoring=scoring, cv=cv))"
      ]
    },
    {
      "cell_type": "markdown",
      "source": [
        "### XGBoost PT_PT with Results"
      ],
      "metadata": {
        "id": "m9WmvxsZmUcV"
      }
    },
    {
      "cell_type": "code",
      "execution_count": null,
      "metadata": {
        "id": "0ArsYXmYY3PE",
        "outputId": "b162859b-fe95-4f7c-c155-393a3c877b78"
      },
      "outputs": [
        {
          "data": {
            "text/plain": [
              "fit_time          2.286001\n",
              "score_time        0.008943\n",
              "test_accuracy     0.944077\n",
              "test_precision    0.968398\n",
              "test_recall       0.809778\n",
              "test_f1           0.880289\n",
              "dtype: float64"
            ]
          },
          "execution_count": 197,
          "metadata": {},
          "output_type": "execute_result"
        }
      ],
      "source": [
        "pt_pt_tfidf_xgboost_scores.mean()"
      ]
    },
    {
      "cell_type": "markdown",
      "metadata": {
        "id": "rTAuzae5Y3PE"
      },
      "source": [
        "### XGBoost EN_EN with GridSearch"
      ]
    },
    {
      "cell_type": "code",
      "execution_count": null,
      "metadata": {
        "id": "mllJ_DtBY3PE",
        "outputId": "57b8bfe1-9700-4edd-b675-c03e66310113"
      },
      "outputs": [
        {
          "name": "stdout",
          "output_type": "stream",
          "text": [
            "Fitting 10 folds for each of 2 candidates, totalling 20 fits\n"
          ]
        },
        {
          "name": "stderr",
          "output_type": "stream",
          "text": [
            "[Parallel(n_jobs=10)]: Using backend LokyBackend with 10 concurrent workers.\n",
            "[Parallel(n_jobs=10)]: Done  20 out of  20 | elapsed:   37.9s finished\n",
            "C:\\Users\\conno\\Anaconda3\\lib\\site-packages\\xgboost\\sklearn.py:1146: UserWarning: The use of label encoder in XGBClassifier is deprecated and will be removed in a future release. To remove this warning, do the following: 1) Pass option use_label_encoder=False when constructing XGBClassifier object; and 2) Encode your labels (y) as integers starting with 0, i.e. 0, 1, 2, ..., [num_class - 1].\n",
            "  warnings.warn(label_encoder_deprecation_msg, UserWarning)\n"
          ]
        },
        {
          "name": "stdout",
          "output_type": "stream",
          "text": [
            "[17:45:19] WARNING: C:/Users/Administrator/workspace/xgboost-win64_release_1.4.0/src/learner.cc:1095: Starting in XGBoost 1.3.0, the default evaluation metric used with the objective 'binary:logistic' was changed from 'error' to 'logloss'. Explicitly set eval_metric if you'd like to restore the old behavior.\n"
          ]
        },
        {
          "data": {
            "text/plain": [
              "GridSearchCV(cv=10,\n",
              "             estimator=XGBClassifier(base_score=None, booster=None,\n",
              "                                     colsample_bylevel=None,\n",
              "                                     colsample_bynode=None,\n",
              "                                     colsample_bytree=None, gamma=None,\n",
              "                                     gpu_id=None, importance_type='gain',\n",
              "                                     interaction_constraints=None,\n",
              "                                     learning_rate=None, max_delta_step=None,\n",
              "                                     max_depth=None, min_child_weight=None,\n",
              "                                     missing=nan, monotone_constraints=None,\n",
              "                                     n_estimators=100, n_jobs=None, nthread=4,\n",
              "                                     num_parallel_tree=None, random_state=None,\n",
              "                                     reg_alpha=None, reg_lambda=None,\n",
              "                                     scale_pos_weight=None, seed=42,\n",
              "                                     subsample=None, tree_method=None,\n",
              "                                     validate_parameters=None, verbosity=None),\n",
              "             n_jobs=10,\n",
              "             param_grid={'learning_rate': [0.1, 0.01], 'max_depth': [2],\n",
              "                         'n_estimators': [180]},\n",
              "             scoring='f1', verbose=True)"
            ]
          },
          "execution_count": 131,
          "metadata": {},
          "output_type": "execute_result"
        }
      ],
      "source": [
        "from xgboost import XGBClassifier\n",
        "from sklearn.model_selection import GridSearchCV\n",
        "\n",
        "estimator = XGBClassifier(\n",
        "    objective= 'binary:logistic',\n",
        "    nthread=4,\n",
        "    seed=42\n",
        ")\n",
        "\n",
        "parameters = {\n",
        "    'max_depth': [2],\n",
        "    'n_estimators': [180],\n",
        "    'learning_rate': [0.1,0.01]\n",
        "} \n",
        "\n",
        "\n",
        "grid_search = GridSearchCV(\n",
        "    estimator=estimator,\n",
        "    param_grid=parameters,\n",
        "    scoring = 'f1',\n",
        "    n_jobs = 10,\n",
        "    cv = 10,\n",
        "    verbose=True\n",
        ")\n",
        "\n",
        "grid_search.fit(X_tfidf_en_en, data_en_en_y)\n"
      ]
    },
    {
      "cell_type": "code",
      "execution_count": null,
      "metadata": {
        "id": "nbWwWpzrY3PF",
        "outputId": "9c751653-dd41-44bd-a05f-fb6e9e5e2d09"
      },
      "outputs": [
        {
          "name": "stdout",
          "output_type": "stream",
          "text": [
            "Best Score: 0.8533\n",
            "Best Hyperparameters: {'learning_rate': 0.1, 'max_depth': 2, 'n_estimators': 180}\n"
          ]
        }
      ],
      "source": [
        "grid_search.best_estimator_\n",
        "print(\"Best Score: {:.4f}\".format(grid_search.best_score_))\n",
        "print(\"Best Hyperparameters: {}\".format(str(grid_search.best_params_)))"
      ]
    },
    {
      "cell_type": "code",
      "execution_count": null,
      "metadata": {
        "id": "DbYS0eEfY3PF"
      },
      "outputs": [],
      "source": [
        "en_en_tfidf_xgboost = XGBClassifier(\n",
        "                    objective= 'binary:logistic'\n",
        "                    ,nthread=4\n",
        "                    ,seed=42\n",
        "                    ,learning_rate = 0.1\n",
        "                    ,max_depth = 2\n",
        "                    ,n_estimators = 180\n",
        ")                               "
      ]
    },
    {
      "cell_type": "code",
      "execution_count": null,
      "metadata": {
        "id": "iI7ENqOJY3PF",
        "outputId": "3e8f3e8b-afcf-448b-dbe5-56ab9918daa6"
      },
      "outputs": [
        {
          "name": "stderr",
          "output_type": "stream",
          "text": [
            "C:\\Users\\conno\\Anaconda3\\lib\\site-packages\\xgboost\\sklearn.py:1146: UserWarning: The use of label encoder in XGBClassifier is deprecated and will be removed in a future release. To remove this warning, do the following: 1) Pass option use_label_encoder=False when constructing XGBClassifier object; and 2) Encode your labels (y) as integers starting with 0, i.e. 0, 1, 2, ..., [num_class - 1].\n",
            "  warnings.warn(label_encoder_deprecation_msg, UserWarning)\n"
          ]
        },
        {
          "name": "stdout",
          "output_type": "stream",
          "text": [
            "[18:57:37] WARNING: C:/Users/Administrator/workspace/xgboost-win64_release_1.4.0/src/learner.cc:1095: Starting in XGBoost 1.3.0, the default evaluation metric used with the objective 'binary:logistic' was changed from 'error' to 'logloss'. Explicitly set eval_metric if you'd like to restore the old behavior.\n",
            "[18:57:40] WARNING: C:/Users/Administrator/workspace/xgboost-win64_release_1.4.0/src/learner.cc:1095: Starting in XGBoost 1.3.0, the default evaluation metric used with the objective 'binary:logistic' was changed from 'error' to 'logloss'. Explicitly set eval_metric if you'd like to restore the old behavior.\n",
            "[18:57:42] WARNING: C:/Users/Administrator/workspace/xgboost-win64_release_1.4.0/src/learner.cc:1095: Starting in XGBoost 1.3.0, the default evaluation metric used with the objective 'binary:logistic' was changed from 'error' to 'logloss'. Explicitly set eval_metric if you'd like to restore the old behavior.\n",
            "[18:57:44] WARNING: C:/Users/Administrator/workspace/xgboost-win64_release_1.4.0/src/learner.cc:1095: Starting in XGBoost 1.3.0, the default evaluation metric used with the objective 'binary:logistic' was changed from 'error' to 'logloss'. Explicitly set eval_metric if you'd like to restore the old behavior.\n",
            "[18:57:47] WARNING: C:/Users/Administrator/workspace/xgboost-win64_release_1.4.0/src/learner.cc:1095: Starting in XGBoost 1.3.0, the default evaluation metric used with the objective 'binary:logistic' was changed from 'error' to 'logloss'. Explicitly set eval_metric if you'd like to restore the old behavior.\n",
            "[18:57:49] WARNING: C:/Users/Administrator/workspace/xgboost-win64_release_1.4.0/src/learner.cc:1095: Starting in XGBoost 1.3.0, the default evaluation metric used with the objective 'binary:logistic' was changed from 'error' to 'logloss'. Explicitly set eval_metric if you'd like to restore the old behavior.\n",
            "[18:57:52] WARNING: C:/Users/Administrator/workspace/xgboost-win64_release_1.4.0/src/learner.cc:1095: Starting in XGBoost 1.3.0, the default evaluation metric used with the objective 'binary:logistic' was changed from 'error' to 'logloss'. Explicitly set eval_metric if you'd like to restore the old behavior.\n",
            "[18:57:55] WARNING: C:/Users/Administrator/workspace/xgboost-win64_release_1.4.0/src/learner.cc:1095: Starting in XGBoost 1.3.0, the default evaluation metric used with the objective 'binary:logistic' was changed from 'error' to 'logloss'. Explicitly set eval_metric if you'd like to restore the old behavior.\n",
            "[18:57:58] WARNING: C:/Users/Administrator/workspace/xgboost-win64_release_1.4.0/src/learner.cc:1095: Starting in XGBoost 1.3.0, the default evaluation metric used with the objective 'binary:logistic' was changed from 'error' to 'logloss'. Explicitly set eval_metric if you'd like to restore the old behavior.\n",
            "[18:58:01] WARNING: C:/Users/Administrator/workspace/xgboost-win64_release_1.4.0/src/learner.cc:1095: Starting in XGBoost 1.3.0, the default evaluation metric used with the objective 'binary:logistic' was changed from 'error' to 'logloss'. Explicitly set eval_metric if you'd like to restore the old behavior.\n"
          ]
        },
        {
          "name": "stderr",
          "output_type": "stream",
          "text": [
            "C:\\Users\\conno\\Anaconda3\\lib\\site-packages\\xgboost\\sklearn.py:1146: UserWarning: The use of label encoder in XGBClassifier is deprecated and will be removed in a future release. To remove this warning, do the following: 1) Pass option use_label_encoder=False when constructing XGBClassifier object; and 2) Encode your labels (y) as integers starting with 0, i.e. 0, 1, 2, ..., [num_class - 1].\n",
            "  warnings.warn(label_encoder_deprecation_msg, UserWarning)\n"
          ]
        },
        {
          "name": "stdout",
          "output_type": "stream",
          "text": [
            "[18:58:04] WARNING: C:/Users/Administrator/workspace/xgboost-win64_release_1.4.0/src/learner.cc:1095: Starting in XGBoost 1.3.0, the default evaluation metric used with the objective 'binary:logistic' was changed from 'error' to 'logloss'. Explicitly set eval_metric if you'd like to restore the old behavior.\n",
            "[18:58:07] WARNING: C:/Users/Administrator/workspace/xgboost-win64_release_1.4.0/src/learner.cc:1095: Starting in XGBoost 1.3.0, the default evaluation metric used with the objective 'binary:logistic' was changed from 'error' to 'logloss'. Explicitly set eval_metric if you'd like to restore the old behavior.\n",
            "[18:58:11] WARNING: C:/Users/Administrator/workspace/xgboost-win64_release_1.4.0/src/learner.cc:1095: Starting in XGBoost 1.3.0, the default evaluation metric used with the objective 'binary:logistic' was changed from 'error' to 'logloss'. Explicitly set eval_metric if you'd like to restore the old behavior.\n",
            "[18:58:13] WARNING: C:/Users/Administrator/workspace/xgboost-win64_release_1.4.0/src/learner.cc:1095: Starting in XGBoost 1.3.0, the default evaluation metric used with the objective 'binary:logistic' was changed from 'error' to 'logloss'. Explicitly set eval_metric if you'd like to restore the old behavior.\n",
            "[18:58:16] WARNING: C:/Users/Administrator/workspace/xgboost-win64_release_1.4.0/src/learner.cc:1095: Starting in XGBoost 1.3.0, the default evaluation metric used with the objective 'binary:logistic' was changed from 'error' to 'logloss'. Explicitly set eval_metric if you'd like to restore the old behavior.\n",
            "[18:58:19] WARNING: C:/Users/Administrator/workspace/xgboost-win64_release_1.4.0/src/learner.cc:1095: Starting in XGBoost 1.3.0, the default evaluation metric used with the objective 'binary:logistic' was changed from 'error' to 'logloss'. Explicitly set eval_metric if you'd like to restore the old behavior.\n",
            "[18:58:22] WARNING: C:/Users/Administrator/workspace/xgboost-win64_release_1.4.0/src/learner.cc:1095: Starting in XGBoost 1.3.0, the default evaluation metric used with the objective 'binary:logistic' was changed from 'error' to 'logloss'. Explicitly set eval_metric if you'd like to restore the old behavior.\n",
            "[18:58:25] WARNING: C:/Users/Administrator/workspace/xgboost-win64_release_1.4.0/src/learner.cc:1095: Starting in XGBoost 1.3.0, the default evaluation metric used with the objective 'binary:logistic' was changed from 'error' to 'logloss'. Explicitly set eval_metric if you'd like to restore the old behavior.\n",
            "[18:58:28] WARNING: C:/Users/Administrator/workspace/xgboost-win64_release_1.4.0/src/learner.cc:1095: Starting in XGBoost 1.3.0, the default evaluation metric used with the objective 'binary:logistic' was changed from 'error' to 'logloss'. Explicitly set eval_metric if you'd like to restore the old behavior.\n",
            "[18:58:30] WARNING: C:/Users/Administrator/workspace/xgboost-win64_release_1.4.0/src/learner.cc:1095: Starting in XGBoost 1.3.0, the default evaluation metric used with the objective 'binary:logistic' was changed from 'error' to 'logloss'. Explicitly set eval_metric if you'd like to restore the old behavior.\n"
          ]
        },
        {
          "name": "stderr",
          "output_type": "stream",
          "text": [
            "C:\\Users\\conno\\Anaconda3\\lib\\site-packages\\xgboost\\sklearn.py:1146: UserWarning: The use of label encoder in XGBClassifier is deprecated and will be removed in a future release. To remove this warning, do the following: 1) Pass option use_label_encoder=False when constructing XGBClassifier object; and 2) Encode your labels (y) as integers starting with 0, i.e. 0, 1, 2, ..., [num_class - 1].\n",
            "  warnings.warn(label_encoder_deprecation_msg, UserWarning)\n"
          ]
        },
        {
          "name": "stdout",
          "output_type": "stream",
          "text": [
            "[18:58:33] WARNING: C:/Users/Administrator/workspace/xgboost-win64_release_1.4.0/src/learner.cc:1095: Starting in XGBoost 1.3.0, the default evaluation metric used with the objective 'binary:logistic' was changed from 'error' to 'logloss'. Explicitly set eval_metric if you'd like to restore the old behavior.\n",
            "[18:58:36] WARNING: C:/Users/Administrator/workspace/xgboost-win64_release_1.4.0/src/learner.cc:1095: Starting in XGBoost 1.3.0, the default evaluation metric used with the objective 'binary:logistic' was changed from 'error' to 'logloss'. Explicitly set eval_metric if you'd like to restore the old behavior.\n",
            "[18:58:39] WARNING: C:/Users/Administrator/workspace/xgboost-win64_release_1.4.0/src/learner.cc:1095: Starting in XGBoost 1.3.0, the default evaluation metric used with the objective 'binary:logistic' was changed from 'error' to 'logloss'. Explicitly set eval_metric if you'd like to restore the old behavior.\n",
            "[18:58:42] WARNING: C:/Users/Administrator/workspace/xgboost-win64_release_1.4.0/src/learner.cc:1095: Starting in XGBoost 1.3.0, the default evaluation metric used with the objective 'binary:logistic' was changed from 'error' to 'logloss'. Explicitly set eval_metric if you'd like to restore the old behavior.\n",
            "[18:58:45] WARNING: C:/Users/Administrator/workspace/xgboost-win64_release_1.4.0/src/learner.cc:1095: Starting in XGBoost 1.3.0, the default evaluation metric used with the objective 'binary:logistic' was changed from 'error' to 'logloss'. Explicitly set eval_metric if you'd like to restore the old behavior.\n",
            "[18:58:47] WARNING: C:/Users/Administrator/workspace/xgboost-win64_release_1.4.0/src/learner.cc:1095: Starting in XGBoost 1.3.0, the default evaluation metric used with the objective 'binary:logistic' was changed from 'error' to 'logloss'. Explicitly set eval_metric if you'd like to restore the old behavior.\n",
            "[18:58:50] WARNING: C:/Users/Administrator/workspace/xgboost-win64_release_1.4.0/src/learner.cc:1095: Starting in XGBoost 1.3.0, the default evaluation metric used with the objective 'binary:logistic' was changed from 'error' to 'logloss'. Explicitly set eval_metric if you'd like to restore the old behavior.\n",
            "[18:58:53] WARNING: C:/Users/Administrator/workspace/xgboost-win64_release_1.4.0/src/learner.cc:1095: Starting in XGBoost 1.3.0, the default evaluation metric used with the objective 'binary:logistic' was changed from 'error' to 'logloss'. Explicitly set eval_metric if you'd like to restore the old behavior.\n",
            "[18:58:56] WARNING: C:/Users/Administrator/workspace/xgboost-win64_release_1.4.0/src/learner.cc:1095: Starting in XGBoost 1.3.0, the default evaluation metric used with the objective 'binary:logistic' was changed from 'error' to 'logloss'. Explicitly set eval_metric if you'd like to restore the old behavior.\n",
            "[18:58:59] WARNING: C:/Users/Administrator/workspace/xgboost-win64_release_1.4.0/src/learner.cc:1095: Starting in XGBoost 1.3.0, the default evaluation metric used with the objective 'binary:logistic' was changed from 'error' to 'logloss'. Explicitly set eval_metric if you'd like to restore the old behavior.\n"
          ]
        }
      ],
      "source": [
        "en_en_tfidf_xgboost_scores = pd.DataFrame(cross_validate(en_en_tfidf_xgboost, X_tfidf_en_en, data_en_en_y, \n",
        "                        scoring=scoring, cv=cv))"
      ]
    },
    {
      "cell_type": "markdown",
      "source": [
        "### XGBoost EN_EN Results"
      ],
      "metadata": {
        "id": "Tul6o6MimYkk"
      }
    },
    {
      "cell_type": "code",
      "execution_count": null,
      "metadata": {
        "id": "K9mD_QuSY3PF",
        "outputId": "93a875f6-3404-46ab-c42b-3a6285eaed67"
      },
      "outputs": [
        {
          "data": {
            "text/plain": [
              "fit_time          2.796324\n",
              "score_time        0.011403\n",
              "test_accuracy     0.938872\n",
              "test_precision    0.954585\n",
              "test_recall       0.801378\n",
              "test_f1           0.869458\n",
              "dtype: float64"
            ]
          },
          "execution_count": 199,
          "metadata": {},
          "output_type": "execute_result"
        }
      ],
      "source": [
        "en_en_tfidf_xgboost_scores.mean()"
      ]
    },
    {
      "cell_type": "markdown",
      "metadata": {
        "id": "ykFElqNGY3PF"
      },
      "source": [
        "# Results for All Models"
      ]
    },
    {
      "cell_type": "code",
      "execution_count": null,
      "metadata": {
        "id": "yXah-UjIY3PF"
      },
      "outputs": [],
      "source": [
        "# Add a column with the score type and concatenate the tables"
      ]
    },
    {
      "cell_type": "code",
      "execution_count": null,
      "metadata": {
        "id": "-rvaM_nQY3PF"
      },
      "outputs": [],
      "source": [
        "pt_pt_linSVC_scores['dataset'] = 'pt_pt' \n",
        "en_en_linSVC_scores['dataset'] = 'en_en'\n",
        "\n",
        "pt_pt_nonlinSVC_scores['dataset'] = 'pt_pt'\n",
        "en_en_nonlinSVC_scores['dataset'] = 'en_en'\n",
        "\n",
        "pt_pt_rand_for_scores['dataset'] = 'pt_pt'\n",
        "en_en_rand_for_scores['dataset'] = 'en_en'\n",
        "\n",
        "pt_pt_xgboost_scores['dataset'] = 'pt_pt'\n",
        "en_en_xgboost_scores['dataset'] = 'en_en'\n",
        "\n",
        "pt_pt_tfidf_linSVC_scores['dataset'] = 'pt_pt'\n",
        "en_en_tfidf_linSVC_scores['dataset'] = 'en_en'\n",
        "\n",
        "pt_pt_tfidf_nonlinSVC_scores['dataset'] = 'pt_pt'\n",
        "en_en_tfidf_nonlinSVC_scores['dataset'] = 'en_en'\n",
        "\n",
        "pt_pt_tfidf_rand_for_scores['dataset'] = 'pt_pt'\n",
        "en_en_tfidf_rand_for_scores['dataset'] = 'en_en'\n",
        "\n",
        "pt_pt_tfidf_xgboost_scores['dataset'] = 'pt_pt'\n",
        "en_en_tfidf_xgboost_scores['dataset'] = 'en_en'"
      ]
    },
    {
      "cell_type": "code",
      "execution_count": null,
      "metadata": {
        "id": "wmBqeDmhY3PG"
      },
      "outputs": [],
      "source": [
        "pt_pt_linSVC_scores['vect'] = 'wemb' \n",
        "en_en_linSVC_scores['vect'] = 'wemb'\n",
        "\n",
        "pt_pt_nonlinSVC_scores['vect'] = 'wemb'\n",
        "en_en_nonlinSVC_scores['vect'] = 'wemb'\n",
        "\n",
        "pt_pt_rand_for_scores['vect'] = 'wemb'\n",
        "en_en_rand_for_scores['vect'] = 'wemb'\n",
        "\n",
        "pt_pt_xgboost_scores['vect'] = 'wemb'\n",
        "en_en_xgboost_scores['vect'] = 'wemb'\n",
        "\n",
        "pt_pt_tfidf_linSVC_scores['vect'] = 'tfidf'\n",
        "en_en_tfidf_linSVC_scores['vect'] = 'tfidf'\n",
        "\n",
        "pt_pt_tfidf_nonlinSVC_scores['vect'] = 'tfidf'\n",
        "en_en_tfidf_nonlinSVC_scores['vect'] = 'tfidf'\n",
        "\n",
        "pt_pt_tfidf_rand_for_scores['vect'] = 'tfidf'\n",
        "en_en_tfidf_rand_for_scores['vect'] = 'tfidf'\n",
        "\n",
        "pt_pt_tfidf_xgboost_scores['vect'] = 'tfidf'\n",
        "en_en_tfidf_xgboost_scores['vect'] = 'tfidf'"
      ]
    },
    {
      "cell_type": "code",
      "execution_count": null,
      "metadata": {
        "id": "g-7n33JwY3PG"
      },
      "outputs": [],
      "source": [
        "pt_pt_linSVC_scores['model'] = 'linsvc' \n",
        "en_en_linSVC_scores['model'] = 'linsvc'\n",
        "\n",
        "pt_pt_nonlinSVC_scores['model'] = 'nonlinsvc'\n",
        "en_en_nonlinSVC_scores['model'] = 'nonlinsvc'\n",
        "\n",
        "pt_pt_rand_for_scores['model'] = 'randfor'\n",
        "en_en_rand_for_scores['model'] = 'randfor'\n",
        "\n",
        "pt_pt_xgboost_scores['model'] = 'xgboost'\n",
        "en_en_xgboost_scores['model'] = 'xgboost'\n",
        "\n",
        "pt_pt_tfidf_linSVC_scores['model'] = 'linsvc'\n",
        "en_en_tfidf_linSVC_scores['model'] = 'linsvc'\n",
        "\n",
        "pt_pt_tfidf_nonlinSVC_scores['model'] = 'nonlinsvc'\n",
        "en_en_tfidf_nonlinSVC_scores['model'] = 'nonlinsvc'\n",
        "\n",
        "pt_pt_tfidf_rand_for_scores['model'] = 'randfor'\n",
        "en_en_tfidf_rand_for_scores['model'] = 'randfor'\n",
        "\n",
        "pt_pt_tfidf_xgboost_scores['model'] = 'xgboost'\n",
        "en_en_tfidf_xgboost_scores['model'] = 'xgboost'"
      ]
    },
    {
      "cell_type": "code",
      "execution_count": null,
      "metadata": {
        "id": "AwoO8r0HY3PG"
      },
      "outputs": [],
      "source": [
        "pt_pt_linSVC_scores['unique'] = 'pt_pt_wemb_linsvc' \n",
        "en_en_linSVC_scores['unique'] = 'en_en_wemb_linsvc'\n",
        "\n",
        "pt_pt_nonlinSVC_scores['unique'] = 'pt_pt_wemb_nonlinsvc'\n",
        "en_en_nonlinSVC_scores['unique'] = 'en_en_wemb_nonlinsvc'\n",
        "\n",
        "pt_pt_rand_for_scores['unique'] = 'pt_pt_wemb_randfor'\n",
        "en_en_rand_for_scores['unique'] = 'en_en_wemb_randfor'\n",
        "\n",
        "pt_pt_xgboost_scores['unique'] = 'pt_pt_wemb_xgboost'\n",
        "en_en_xgboost_scores['unique'] = 'en_en_wemb_xgboost'\n",
        "\n",
        "pt_pt_tfidf_linSVC_scores['unique'] = 'pt_pt_tfidf_linsvc'\n",
        "en_en_tfidf_linSVC_scores['unique'] = 'en_en_tfidf_linsvc'\n",
        "\n",
        "pt_pt_tfidf_nonlinSVC_scores['unique'] = 'pt_pt_tfidf_nonlinsvc'\n",
        "en_en_tfidf_nonlinSVC_scores['unique'] = 'en_en_tfidf_nonlinsvc'\n",
        "\n",
        "pt_pt_tfidf_rand_for_scores['unique'] = 'pt_pt_tfidf_randfor'\n",
        "en_en_tfidf_rand_for_scores['unique'] = 'en_en_tfidf_randfor'\n",
        "\n",
        "pt_pt_tfidf_xgboost_scores['unique'] = 'pt_pt_tfidf_xgboost'\n",
        "en_en_tfidf_xgboost_scores['unique'] = 'en_en_tfidf_xgboost'"
      ]
    },
    {
      "cell_type": "code",
      "execution_count": null,
      "metadata": {
        "id": "VhB4cXUfY3PG"
      },
      "outputs": [],
      "source": [
        "all_scores = pd.concat([\n",
        "                pt_pt_linSVC_scores\n",
        "                ,en_en_linSVC_scores\n",
        "                ,pt_pt_nonlinSVC_scores\n",
        "                ,en_en_nonlinSVC_scores\n",
        "                ,pt_pt_rand_for_scores\n",
        "                ,en_en_rand_for_scores\n",
        "                ,pt_pt_xgboost_scores\n",
        "                ,en_en_xgboost_scores\n",
        "                ,pt_pt_tfidf_linSVC_scores\n",
        "                ,en_en_tfidf_linSVC_scores\n",
        "                ,pt_pt_tfidf_nonlinSVC_scores\n",
        "                ,en_en_tfidf_nonlinSVC_scores\n",
        "                ,pt_pt_tfidf_rand_for_scores\n",
        "                ,en_en_tfidf_rand_for_scores\n",
        "                ,pt_pt_tfidf_xgboost_scores\n",
        "                ,en_en_tfidf_xgboost_scores\n",
        "])"
      ]
    },
    {
      "cell_type": "code",
      "execution_count": null,
      "metadata": {
        "id": "HtalKE4uY3PH"
      },
      "outputs": [],
      "source": [
        "all_scores.to_csv('dat/all_scores_dat.csv')\n",
        "all_scores.to_excel('dat/all_scores_dat.xlsx')"
      ]
    },
    {
      "cell_type": "code",
      "execution_count": null,
      "metadata": {
        "id": "duk0TP_mY3PH",
        "outputId": "c4d016d8-ae83-4d97-9ed7-1eb7aed05338"
      },
      "outputs": [
        {
          "data": {
            "text/plain": [
              "<AxesSubplot:title={'center':'Accuracy'}, xlabel='Treatment', ylabel='Accuracy %'>"
            ]
          },
          "execution_count": 242,
          "metadata": {},
          "output_type": "execute_result"
        },
        {
          "data": {
            "image/png": "[encoded data removed]",
            "text/plain": [
              "<Figure size 432x360 with 1 Axes>"
            ]
          },
          "metadata": {},
          "output_type": "display_data"
        }
      ],
      "source": [
        "# Metrics\n",
        "# test_accuracy\n",
        "# test_precision\n",
        "# test_recall\n",
        "# test_f1\n",
        "\n",
        "asg = all_scores.groupby(['unique'])['test_accuracy'].mean().sort_values(ascending=False)\n",
        "asg_df = pd.DataFrame(asg)\n",
        "\n",
        "asg.plot(kind='bar', title='Accuracy', ylabel='Accuracy %',\n",
        "         xlabel='Treatment', figsize=(6, 5))"
      ]
    },
    {
      "cell_type": "markdown",
      "source": [
        "The plot above shows ordered from the best to the worst accuracy scores for all 16 possible combinations of models x corpus x vectorization methods.\n",
        "\n",
        "We can notice that the combination that produced the best result is **Non-Linear SVM applied to word embedding numerical vectors obtained from translated descriptions submited to 'english NLP pipeline'**.\n",
        "\n",
        "On the other hand there's the **XGBoost applied to word embedding numerical vectors obtained from portuguese descriptions submited to 'portuguese NLP pipeline'** with the worst results."
      ],
      "metadata": {
        "id": "DnJ5FuZanMhn"
      }
    },
    {
      "cell_type": "markdown",
      "metadata": {
        "id": "18RwMHx9Y3PJ"
      },
      "source": [
        "## Metrics"
      ]
    },
    {
      "cell_type": "markdown",
      "metadata": {
        "id": "lBT8mxewY3PJ"
      },
      "source": [
        "### The score table has been summarized in this chart.\n",
        "https://docs.google.com/spreadsheets/d/1bSuN1ZnMzUKVk0kVGV06AaWKgegCFDZoc3BqkMuuXEw/edit?usp=sharing"
      ]
    },
    {
      "cell_type": "markdown",
      "metadata": {
        "id": "SPzU20F_Y3PJ"
      },
      "source": [
        "# AUC ROC Curve"
      ]
    },
    {
      "cell_type": "code",
      "execution_count": null,
      "metadata": {
        "id": "eFYp7EotY3PJ"
      },
      "outputs": [],
      "source": [
        "from sklearn.svm import SVC\n",
        "from sklearn.ensemble import RandomForestClassifier\n",
        "from xgboost import XGBClassifier\n",
        "from sklearn.model_selection import cross_val_predict\n",
        "from sklearn.model_selection import RepeatedStratifiedKFold\n",
        "from sklearn.model_selection import GridSearchCV\n",
        "from sklearn import metrics\n",
        "from sklearn.model_selection import cross_validate\n",
        "from sklearn.model_selection import train_test_split"
      ]
    },
    {
      "cell_type": "code",
      "execution_count": null,
      "metadata": {
        "id": "yzfuar2nY3PJ"
      },
      "outputs": [],
      "source": [
        "# Earlier, CV was used to train and score the models\n",
        "# For ROC, we have used a simple Train/Test split of 80/20\n",
        "pt_pt_wemb_X_train, pt_pt_wemb_X_test, pt_pt_wemb_y_train, pt_pt_wemb_y_test = train_test_split(data_pt_pt_X,data_pt_pt_y, test_size=0.2, random_state=1)\n",
        "en_en_wemb_X_train, en_en_wemb_X_test, en_en_wemb_y_train, en_en_wemb_y_test = train_test_split(data_en_en_X,data_en_en_y, test_size=0.2, random_state=1)\n",
        "pt_pt_tfidf_X_train, pt_pt_tfidf_X_test, pt_pt_tfidf_y_train, pt_pt_tfidf_y_test = train_test_split(X_tfidf_pt_pt,data_pt_pt_y, test_size=0.2, random_state=1)\n",
        "en_en_tfidf_X_train, en_en_tfidf_X_test, en_en_tfidf_y_train, en_en_tfidf_y_test = train_test_split(X_tfidf_en_en,data_en_en_y, test_size=0.2, random_state=1)\n",
        "cv = RepeatedStratifiedKFold(n_splits=10, n_repeats=3, random_state=1)"
      ]
    },
    {
      "cell_type": "markdown",
      "metadata": {
        "id": "cm8DovcpY3PK"
      },
      "source": [
        "## Probability Scores"
      ]
    },
    {
      "cell_type": "code",
      "execution_count": null,
      "metadata": {
        "id": "Cz_9PLXMY3PK"
      },
      "outputs": [],
      "source": [
        "# Generate probability scores for each model\n",
        "# Refit the models to create probability scores"
      ]
    },
    {
      "cell_type": "markdown",
      "metadata": {
        "id": "BXAayoM6Y3PK"
      },
      "source": [
        "## SVM Linear Model"
      ]
    },
    {
      "cell_type": "markdown",
      "metadata": {
        "id": "CmpceR26Y3PK"
      },
      "source": [
        "### PT_PT"
      ]
    },
    {
      "cell_type": "code",
      "execution_count": null,
      "metadata": {
        "id": "upb7MpqHY3PK"
      },
      "outputs": [],
      "source": [
        "# WEMB\n",
        "pt_pt_wemb_linsvc_prob = SVC(random_state=1\n",
        "                       ,kernel='linear'\n",
        "                       ,max_iter=-1\n",
        "                       ,C=0.1\n",
        "                       ,gamma=0.001\n",
        "                       ,probability=True                                 \n",
        "                  )\n",
        "pt_pt_wemb_linsvc_prob.fit(pt_pt_wemb_X_train, pt_pt_wemb_y_train)\n",
        "pt_pt_wemb_linsvc_probscores = pt_pt_wemb_linsvc_prob.predict_proba(pt_pt_wemb_X_test)[:,1]\n",
        "\n",
        "# TFIDF\n",
        "pt_pt_tfidf_linsvc_prob = SVC(random_state=1\n",
        "                       ,kernel='linear'\n",
        "                       ,max_iter=-1\n",
        "                       ,C=1\n",
        "                       ,gamma=0.001\n",
        "                       ,probability=True                                 \n",
        "                  )\n",
        "pt_pt_tfidf_linsvc_prob.fit(pt_pt_tfidf_X_train, pt_pt_tfidf_y_train)\n",
        "pt_pt_tfidf_linsvc_probscores = pt_pt_tfidf_linsvc_prob.predict_proba(pt_pt_tfidf_X_test)[:,1]"
      ]
    },
    {
      "cell_type": "markdown",
      "metadata": {
        "id": "eNeJoiHzY3PK"
      },
      "source": [
        "### EN_EN"
      ]
    },
    {
      "cell_type": "code",
      "execution_count": null,
      "metadata": {
        "id": "QL_mRfAjY3PK"
      },
      "outputs": [],
      "source": [
        "# WEMB\n",
        "en_en_wemb_linsvc_prob = SVC(random_state=1\n",
        "                       ,kernel='linear'\n",
        "                       ,max_iter=-1\n",
        "                       ,C=0.1\n",
        "                       ,gamma=0.001\n",
        "                       ,probability=True                                 \n",
        "                  )\n",
        "en_en_wemb_linsvc_prob.fit(en_en_wemb_X_train, en_en_wemb_y_train)\n",
        "en_en_wemb_linsvc_probscores = en_en_wemb_linsvc_prob.predict_proba(en_en_wemb_X_test)[:,1]\n",
        "\n",
        "# TFIDF\n",
        "en_en_tfidf_linsvc_prob = SVC(random_state=1\n",
        "                       ,kernel='linear'\n",
        "                       ,max_iter=-1\n",
        "                       ,C=10\n",
        "                       ,gamma=0.001\n",
        "                       ,probability=True                                 \n",
        "                  )\n",
        "en_en_tfidf_linsvc_prob.fit(en_en_tfidf_X_train, en_en_tfidf_y_train)\n",
        "en_en_tfidf_linsvc_probscores = en_en_tfidf_linsvc_prob.predict_proba(en_en_tfidf_X_test)[:,1]"
      ]
    },
    {
      "cell_type": "markdown",
      "metadata": {
        "id": "TMOzGPdlY3PL"
      },
      "source": [
        "## SVM Non-Linear Model"
      ]
    },
    {
      "cell_type": "markdown",
      "metadata": {
        "id": "zX0ofjkoY3PL"
      },
      "source": [
        "### PT_PT"
      ]
    },
    {
      "cell_type": "code",
      "execution_count": null,
      "metadata": {
        "id": "rbAkwDgeY3PL"
      },
      "outputs": [],
      "source": [
        "# WEMB\n",
        "pt_pt_wemb_nonlinsvc_prob = SVC(random_state=1\n",
        "                       ,kernel='rbf'\n",
        "                       ,max_iter=-1\n",
        "                       ,C=10\n",
        "                       ,gamma=0.001\n",
        "                       ,probability=True                                 \n",
        "                  )\n",
        "pt_pt_wemb_nonlinsvc_prob.fit(pt_pt_wemb_X_train, pt_pt_wemb_y_train)\n",
        "pt_pt_wemb_nonlinsvc_probscores = pt_pt_wemb_nonlinsvc_prob.predict_proba(pt_pt_wemb_X_test)[:,1]\n",
        "\n",
        "# TFIDF\n",
        "pt_pt_tfidf_nonlinsvc_prob = SVC(random_state=1\n",
        "                       ,kernel='rbf'\n",
        "                       ,max_iter=-1\n",
        "                       ,C=10\n",
        "                       ,gamma=0.01\n",
        "                       ,probability=True                                 \n",
        "                  )\n",
        "pt_pt_tfidf_nonlinsvc_prob.fit(pt_pt_tfidf_X_train, pt_pt_tfidf_y_train)\n",
        "pt_pt_tfidf_nonlinsvc_probscores = pt_pt_tfidf_nonlinsvc_prob.predict_proba(pt_pt_tfidf_X_test)[:,1]"
      ]
    },
    {
      "cell_type": "markdown",
      "metadata": {
        "id": "nV5mBhNuY3PL"
      },
      "source": [
        "### EN_EN"
      ]
    },
    {
      "cell_type": "code",
      "execution_count": null,
      "metadata": {
        "id": "dWYkF4BRY3PL"
      },
      "outputs": [],
      "source": [
        "# WEMB\n",
        "en_en_wemb_nonlinsvc_prob = SVC(random_state=1\n",
        "                       ,kernel='poly'\n",
        "                       ,max_iter=-1\n",
        "                       ,C=0.1\n",
        "                       ,gamma=1.0\n",
        "                       ,probability=True                                 \n",
        "                  )\n",
        "en_en_wemb_nonlinsvc_prob.fit(en_en_wemb_X_train, en_en_wemb_y_train)\n",
        "en_en_wemb_nonlinsvc_probscores = en_en_wemb_nonlinsvc_prob.predict_proba(en_en_wemb_X_test)[:,1]\n",
        "\n",
        "# TFIDF\n",
        "en_en_tfidf_nonlinsvc_prob = SVC(random_state=1\n",
        "                       ,kernel='rbf'\n",
        "                       ,max_iter=-1\n",
        "                       ,C=100\n",
        "                       ,gamma=0.1\n",
        "                       ,probability=True                                 \n",
        "                  )\n",
        "en_en_tfidf_nonlinsvc_prob.fit(en_en_tfidf_X_train, en_en_tfidf_y_train)\n",
        "en_en_tfidf_nonlinsvc_probscores = en_en_tfidf_nonlinsvc_prob.predict_proba(en_en_tfidf_X_test)[:,1]"
      ]
    },
    {
      "cell_type": "markdown",
      "metadata": {
        "id": "HPXeRN-sY3PL"
      },
      "source": [
        "## Random Forest"
      ]
    },
    {
      "cell_type": "code",
      "execution_count": null,
      "metadata": {
        "id": "ZPpFy-H9Y3PL"
      },
      "outputs": [],
      "source": [
        "# Random forests can already predict proba - do not need probability argument"
      ]
    },
    {
      "cell_type": "markdown",
      "metadata": {
        "id": "w13rCaUqY3PL"
      },
      "source": [
        "### PT_PT"
      ]
    },
    {
      "cell_type": "code",
      "execution_count": null,
      "metadata": {
        "id": "aZPqD22uY3PL"
      },
      "outputs": [],
      "source": [
        "# WEMB\n",
        "pt_pt_wemb_randfor_prob = RandomForestClassifier(random_state=1\n",
        "                                        ,n_estimators = 100\n",
        "                                        ,max_features = 'auto'\n",
        "                                        ,max_depth = 50\n",
        "                                        ,min_samples_split = 2\n",
        "                                        ,min_samples_leaf = 1\n",
        "                                        ,bootstrap = False\n",
        "                  )      \n",
        "pt_pt_wemb_randfor_prob.fit(pt_pt_wemb_X_train, pt_pt_wemb_y_train)\n",
        "pt_pt_wemb_randfor_probscores = pt_pt_wemb_randfor_prob.predict_proba(pt_pt_wemb_X_test)[:,1]\n",
        "\n",
        "# TFIDF\n",
        "pt_pt_tfidf_randfor_prob = RandomForestClassifier(random_state=1\n",
        "                                        ,n_estimators = 100\n",
        "                                        ,max_features = 'auto'\n",
        "                                        ,max_depth = 50\n",
        "                                        ,min_samples_split = 2\n",
        "                                        ,min_samples_leaf = 1\n",
        "                                        ,bootstrap = False\n",
        "                  )      \n",
        "pt_pt_tfidf_randfor_prob.fit(pt_pt_tfidf_X_train, pt_pt_tfidf_y_train)\n",
        "pt_pt_tfidf_randfor_probscores = pt_pt_tfidf_randfor_prob.predict_proba(pt_pt_tfidf_X_test)[:,1]"
      ]
    },
    {
      "cell_type": "markdown",
      "metadata": {
        "id": "IrY9y4ddY3PM"
      },
      "source": [
        "### EN_EN"
      ]
    },
    {
      "cell_type": "code",
      "execution_count": null,
      "metadata": {
        "id": "v61ilyUVY3PM"
      },
      "outputs": [],
      "source": [
        "# WEMB\n",
        "en_en_wemb_randfor_prob = RandomForestClassifier(random_state=1\n",
        "                                        ,n_estimators = 500\n",
        "                                        ,max_features = 'auto'\n",
        "                                        ,max_depth = 50\n",
        "                                        ,min_samples_split = 2\n",
        "                                        ,min_samples_leaf = 1\n",
        "                                        ,bootstrap = False\n",
        "                  )      \n",
        "en_en_wemb_randfor_prob.fit(en_en_wemb_X_train,en_en_wemb_y_train)\n",
        "en_en_wemb_randfor_probscores = en_en_wemb_randfor_prob.predict_proba(en_en_wemb_X_test)[:,1]\n",
        "\n",
        "# TFIDF\n",
        "en_en_tfidf_randfor_prob = RandomForestClassifier(random_state=1\n",
        "                                        ,n_estimators = 500\n",
        "                                        ,max_features = 'auto'\n",
        "                                        ,max_depth = 50\n",
        "                                        ,min_samples_split = 2\n",
        "                                        ,min_samples_leaf = 1\n",
        "                                        ,bootstrap = False\n",
        "                  )      \n",
        "en_en_tfidf_randfor_prob.fit(en_en_tfidf_X_train, en_en_tfidf_y_train)\n",
        "en_en_tfidf_randfor_probscores = en_en_tfidf_randfor_prob.predict_proba(en_en_tfidf_X_test)[:,1]"
      ]
    },
    {
      "cell_type": "markdown",
      "metadata": {
        "id": "fh9qKvkLY3PM"
      },
      "source": [
        "## XGBoost"
      ]
    },
    {
      "cell_type": "markdown",
      "metadata": {
        "id": "QcMw8pDIY3PM"
      },
      "source": [
        "### PT_PT"
      ]
    },
    {
      "cell_type": "code",
      "execution_count": null,
      "metadata": {
        "id": "3u7BovdFY3PM",
        "outputId": "1754d578-53ba-43b1-bb43-74c8e5a94159"
      },
      "outputs": [
        {
          "name": "stderr",
          "output_type": "stream",
          "text": [
            "C:\\Users\\conno\\Anaconda3\\lib\\site-packages\\xgboost\\sklearn.py:1146: UserWarning: The use of label encoder in XGBClassifier is deprecated and will be removed in a future release. To remove this warning, do the following: 1) Pass option use_label_encoder=False when constructing XGBClassifier object; and 2) Encode your labels (y) as integers starting with 0, i.e. 0, 1, 2, ..., [num_class - 1].\n",
            "  warnings.warn(label_encoder_deprecation_msg, UserWarning)\n"
          ]
        },
        {
          "name": "stdout",
          "output_type": "stream",
          "text": [
            "[15:54:02] WARNING: C:/Users/Administrator/workspace/xgboost-win64_release_1.4.0/src/learner.cc:1095: Starting in XGBoost 1.3.0, the default evaluation metric used with the objective 'binary:logistic' was changed from 'error' to 'logloss'. Explicitly set eval_metric if you'd like to restore the old behavior.\n",
            "[15:54:04] WARNING: C:/Users/Administrator/workspace/xgboost-win64_release_1.4.0/src/learner.cc:1095: Starting in XGBoost 1.3.0, the default evaluation metric used with the objective 'binary:logistic' was changed from 'error' to 'logloss'. Explicitly set eval_metric if you'd like to restore the old behavior.\n"
          ]
        }
      ],
      "source": [
        "# WEMB\n",
        "pt_pt_wemb_xgboost_prob = XGBClassifier(\n",
        "                    objective= 'binary:logistic'\n",
        "                    ,nthread=4\n",
        "                    ,seed=42\n",
        "                    ,learning_rate = 0.01\n",
        "                    ,max_depth = 2\n",
        "                    ,n_estimators = 180\n",
        ")        \n",
        "pt_pt_wemb_xgboost_prob.fit(pt_pt_wemb_X_train, pt_pt_wemb_y_train)\n",
        "pt_pt_wemb_xgboost_probscores = pt_pt_wemb_xgboost_prob.predict_proba(pt_pt_wemb_X_test)[:,1]\n",
        "\n",
        "# TFIDF\n",
        "pt_pt_tfidf_xgboost_prob = XGBClassifier(\n",
        "                    objective= 'binary:logistic'\n",
        "                    ,nthread=4\n",
        "                    ,seed=42\n",
        "                    ,learning_rate = 0.01\n",
        "                    ,max_depth = 2\n",
        "                    ,n_estimators = 180\n",
        ")           \n",
        "pt_pt_tfidf_xgboost_prob.fit(pt_pt_tfidf_X_train, pt_pt_tfidf_y_train)\n",
        "pt_pt_tfidf_xgboost_probscores = pt_pt_tfidf_xgboost_prob.predict_proba(pt_pt_tfidf_X_test)[:,1]"
      ]
    },
    {
      "cell_type": "markdown",
      "metadata": {
        "id": "-NovzdwoY3PM"
      },
      "source": [
        "### EN_EN"
      ]
    },
    {
      "cell_type": "code",
      "execution_count": null,
      "metadata": {
        "id": "lVer1K6AY3PM",
        "outputId": "dade880f-2c34-4ec3-b5e5-89c62932bd76"
      },
      "outputs": [
        {
          "name": "stdout",
          "output_type": "stream",
          "text": [
            "[15:54:06] WARNING: C:/Users/Administrator/workspace/xgboost-win64_release_1.4.0/src/learner.cc:1095: Starting in XGBoost 1.3.0, the default evaluation metric used with the objective 'binary:logistic' was changed from 'error' to 'logloss'. Explicitly set eval_metric if you'd like to restore the old behavior.\n",
            "[15:54:08] WARNING: C:/Users/Administrator/workspace/xgboost-win64_release_1.4.0/src/learner.cc:1095: Starting in XGBoost 1.3.0, the default evaluation metric used with the objective 'binary:logistic' was changed from 'error' to 'logloss'. Explicitly set eval_metric if you'd like to restore the old behavior.\n"
          ]
        }
      ],
      "source": [
        "# WEMB\n",
        "en_en_wemb_xgboost_prob = XGBClassifier(\n",
        "                    objective= 'binary:logistic'\n",
        "                    ,nthread=4\n",
        "                    ,seed=42\n",
        "                    ,learning_rate = 0.01\n",
        "                    ,max_depth = 2\n",
        "                    ,n_estimators = 180\n",
        ")        \n",
        "en_en_wemb_xgboost_prob.fit(en_en_wemb_X_train, en_en_wemb_y_train)\n",
        "en_en_wemb_xgboost_probscores = en_en_wemb_xgboost_prob.predict_proba(en_en_wemb_X_test)[:,1]\n",
        "\n",
        "# TFIDF\n",
        "en_en_tfidf_xgboost_prob = XGBClassifier(\n",
        "                    objective= 'binary:logistic'\n",
        "                    ,nthread=4\n",
        "                    ,seed=42\n",
        "                    ,learning_rate = 0.01\n",
        "                    ,max_depth = 2\n",
        "                    ,n_estimators = 180\n",
        ")           \n",
        "en_en_tfidf_xgboost_prob.fit(en_en_tfidf_X_train, en_en_tfidf_y_train)\n",
        "en_en_tfidf_xgboost_probscores = en_en_tfidf_xgboost_prob.predict_proba(en_en_tfidf_X_test)[:,1]"
      ]
    },
    {
      "cell_type": "markdown",
      "metadata": {
        "id": "OaQgAl9DY3PM"
      },
      "source": [
        "### Check Accuracy"
      ]
    },
    {
      "cell_type": "code",
      "execution_count": null,
      "metadata": {
        "id": "TSrZl07pY3PN"
      },
      "outputs": [],
      "source": [
        "\n",
        "    \n",
        "    # TFIDF\n",
        "    pt_pt_tfidf_linsvc_prob\n",
        "    pt_pt_tfidf_linsvc\n",
        "    \n",
        "# EN_EN\n",
        "    # Wemb\n",
        "    en_en_wemb_linsvc_prob\n",
        "    en_en_wemb_linsvc\n",
        "    # TFIDF\n",
        "    en_en_tfidf_linsvc_prob\n",
        "    en_en_tfidf_linsvc\n",
        "\n",
        "# **************************** \n",
        "# SVC NonLinear Model \n",
        "# **************************** \n",
        "\n",
        "# PT_PT\n",
        "    # Wemb\n",
        "    pt_pt_wemb_linsvc_prob\n",
        "    pt_pt_wemb_linsvc\n",
        "    # TFIDF\n",
        "    pt_pt_tfidf_linsvc_prob\n",
        "    pt_pt_tfidf_linsvc\n",
        "# EN_EN\n",
        "    # Wemb\n",
        "    en_en_wemb_linsvc_prob\n",
        "    en_en_wemb_linsvc\n",
        "    # TFIDF\n",
        "    en_en_tfidf_linsvc_prob\n",
        "    en_en_tfidf_linsvc\n",
        "# **************************** \n",
        "# Random Forest Model\n",
        "# **************************** \n",
        "\n",
        "# PT_PT\n",
        "    # Wemb\n",
        "    pt_pt_wemb_randfor_prob\n",
        "    pt_pt_wemb_randfor\n",
        "    # TFIDF\n",
        "    pt_pt_tfidf_randfor_prob\n",
        "    pt_pt_tfidf_randfor\n",
        "    \n",
        "# EN_EN\n",
        "    # Wemb\n",
        "    en_en_wemb_randfor_prob\n",
        "    en_en_wemb_randfor\n",
        "    # TFIDF\n",
        "    en_en_tfidf_randfor_prob\n",
        "    en_en_tfidf_randfor\n",
        "    \n",
        "# **************************** \n",
        "# XGBoost Model\n",
        "# **************************** \n",
        "\n",
        "# PT_PT\n",
        "    # Wemb\n",
        "    pt_pt_wemb_xgboost_prob\n",
        "    pt_pt_wemb_xgboost\n",
        "    # TFIDF\n",
        "    pt_pt_tfidf_xgboost_prob\n",
        "    pt_pt_tfidf_xgboost\n",
        "    \n",
        "# EN_EN\n",
        "    # Wemb\n",
        "    en_en_wemb_xgboost_prob\n",
        "    en_en_wemb_xgboost\n",
        "    # TFIDF\n",
        "    en_en_tfidf_xgboost_prob\n",
        "    en_en_tfidf_xgboost"
      ]
    },
    {
      "cell_type": "code",
      "execution_count": null,
      "metadata": {
        "id": "YhQ7SrcvY3PN",
        "outputId": "282bc566-3b8b-46b8-e86b-61247cae100a"
      },
      "outputs": [
        {
          "name": "stdout",
          "output_type": "stream",
          "text": [
            "Linear SVM\n",
            "pt_pt_wemb_linsvc_prob Accuracy: 88.11%\n",
            "pt_pt_tfidf_linsvc_prob Accuracy: 90.98%\n",
            "en_en_wemb_linsvc_prob Accuracy: 93.03%\n",
            "en_en_tfidf_linsvc_prob Accuracy: 94.67%\n",
            "\n",
            "\n",
            "Non-Linear SVM\n",
            "pt_pt_wemb_nonlinsvc_prob Accuracy: 88.93%\n",
            "pt_pt_tfidf_nonlinsvc_prob Accuracy: 87.70%\n",
            "en_en_wemb_nonlinsvc_prob Accuracy: 92.21%\n",
            "en_en_tfidf_nonlinsvc_prob Accuracy: 94.67%\n",
            "\n",
            "\n",
            "Random Forest\n",
            "pt_pt_wemb_randfor_prob Accuracy: 89.75%\n",
            "pt_pt_tfidf_randfor_prob Accuracy: 93.44%\n",
            "en_en_wemb_randfor_prob Accuracy: 93.03%\n",
            "en_en_tfidf_randfor_prob Accuracy: 93.03%\n",
            "\n",
            "\n",
            "XG Boost\n",
            "pt_pt_wemb_xgboost_prob Accuracy: 88.11%\n",
            "pt_pt_tfidf_xgboost_prob Accuracy: 87.70%\n",
            "en_en_wemb_xgboost_prob Accuracy: 92.21%\n",
            "en_en_tfidf_xgboost_prob Accuracy: 88.93%\n"
          ]
        }
      ],
      "source": [
        "print(\"Linear SVM\")\n",
        "print(f\"pt_pt_wemb_linsvc_prob Accuracy: {pt_pt_wemb_linsvc_prob.score(pt_pt_wemb_X_test, pt_pt_wemb_y_test) * 100:.2f}%\", )\n",
        "print(f\"pt_pt_tfidf_linsvc_prob Accuracy: {pt_pt_tfidf_linsvc_prob.score(pt_pt_tfidf_X_test, pt_pt_tfidf_y_test) * 100:.2f}%\", )\n",
        "print(f\"en_en_wemb_linsvc_prob Accuracy: {en_en_wemb_linsvc_prob.score(en_en_wemb_X_test, en_en_wemb_y_test) * 100:.2f}%\", )\n",
        "print(f\"en_en_tfidf_linsvc_prob Accuracy: {en_en_tfidf_linsvc_prob.score(en_en_tfidf_X_test, en_en_tfidf_y_test) * 100:.2f}%\", )\n",
        "print(\"\\n\")\n",
        "print(\"Non-Linear SVM\")\n",
        "print(f\"pt_pt_wemb_nonlinsvc_prob Accuracy: {pt_pt_wemb_nonlinsvc_prob.score(pt_pt_wemb_X_test, pt_pt_wemb_y_test) * 100:.2f}%\", )\n",
        "print(f\"pt_pt_tfidf_nonlinsvc_prob Accuracy: {pt_pt_tfidf_nonlinsvc_prob.score(pt_pt_tfidf_X_test, pt_pt_tfidf_y_test) * 100:.2f}%\", )\n",
        "print(f\"en_en_wemb_nonlinsvc_prob Accuracy: {en_en_wemb_nonlinsvc_prob.score(en_en_wemb_X_test, en_en_wemb_y_test) * 100:.2f}%\", )\n",
        "print(f\"en_en_tfidf_nonlinsvc_prob Accuracy: {en_en_tfidf_nonlinsvc_prob.score(en_en_tfidf_X_test, en_en_tfidf_y_test) * 100:.2f}%\", )\n",
        "print(\"\\n\")\n",
        "print(\"Random Forest\")\n",
        "print(f\"pt_pt_wemb_randfor_prob Accuracy: {pt_pt_wemb_randfor_prob.score(pt_pt_wemb_X_test, pt_pt_wemb_y_test) * 100:.2f}%\", )\n",
        "print(f\"pt_pt_tfidf_randfor_prob Accuracy: {pt_pt_tfidf_randfor_prob.score(pt_pt_tfidf_X_test, pt_pt_tfidf_y_test) * 100:.2f}%\", )\n",
        "print(f\"en_en_wemb_randfor_prob Accuracy: {en_en_wemb_randfor_prob.score(en_en_wemb_X_test, en_en_wemb_y_test) * 100:.2f}%\", )\n",
        "print(f\"en_en_tfidf_randfor_prob Accuracy: {en_en_tfidf_randfor_prob.score(en_en_tfidf_X_test, en_en_tfidf_y_test) * 100:.2f}%\", )\n",
        "print(\"\\n\")\n",
        "print(\"XG Boost\")\n",
        "print(f\"pt_pt_wemb_xgboost_prob Accuracy: {pt_pt_wemb_xgboost_prob.score(pt_pt_wemb_X_test, pt_pt_wemb_y_test) * 100:.2f}%\", )\n",
        "print(f\"pt_pt_tfidf_xgboost_prob Accuracy: {pt_pt_tfidf_xgboost_prob.score(pt_pt_tfidf_X_test, pt_pt_tfidf_y_test) * 100:.2f}%\", )\n",
        "print(f\"en_en_wemb_xgboost_prob Accuracy: {en_en_wemb_xgboost_prob.score(en_en_wemb_X_test, en_en_wemb_y_test) * 100:.2f}%\", )\n",
        "print(f\"en_en_tfidf_xgboost_prob Accuracy: {en_en_tfidf_xgboost_prob.score(en_en_tfidf_X_test, en_en_tfidf_y_test) * 100:.2f}%\", )"
      ]
    },
    {
      "cell_type": "markdown",
      "source": [
        "# Plot Curve"
      ],
      "metadata": {
        "id": "Y7q5S5WHqOSF"
      }
    },
    {
      "cell_type": "code",
      "execution_count": null,
      "metadata": {
        "scrolled": true,
        "id": "SHTNS8ICY3PN",
        "outputId": "5f4ca7dc-faf5-4018-947a-03f4447c7f61"
      },
      "outputs": [
        {
          "data": {
            "image/png": "[encoded data removed]",
            "text/plain": [
              "<Figure size 576x504 with 1 Axes>"
            ]
          },
          "metadata": {
            "needs_background": "light"
          },
          "output_type": "display_data"
        }
      ],
      "source": [
        "plt.subplots(figsize=(8,7))\n",
        "plt.plot(RAND_fpr, RAND_tpr, linestyle   = '--', color='k', label='Random Class. (auROC = %0.3f)' % RAND_auc)\n",
        "plt.plot(pt_pt_wemb_linsvc_fpr, pt_pt_wemb_linsvc_tpr, linestyle   = '--', label='pt_pt_wemb_linsvc (auROC = %0.3f)' % pt_pt_wemb_linsvc_auc)\n",
        "plt.plot(pt_pt_tfidf_linsvc_fpr, pt_pt_tfidf_linsvc_tpr, linestyle   = '--', label='pt_pt_tfidf_linsvc (auROC = %0.3f)' % pt_pt_tfidf_linsvc_auc)\n",
        "plt.plot(en_en_wemb_linsvc_fpr, en_en_wemb_linsvc_tpr, linestyle   = '--', label='en_en_wemb_linsvc (auROC = %0.3f)' % en_en_wemb_linsvc_auc)\n",
        "plt.plot(en_en_tfidf_linsvc_fpr, en_en_tfidf_linsvc_tpr, linestyle   = '--', label='en_en_tfidf_linsvc (auROC = %0.3f)' % en_en_tfidf_linsvc_auc)\n",
        "\n",
        "plt.plot(pt_pt_wemb_nonlinsvc_fpr, pt_pt_wemb_nonlinsvc_tpr, linestyle   = '--', label='pt_pt_wemb_nonlinsvc (auROC = %0.3f)' % pt_pt_wemb_nonlinsvc_auc)\n",
        "plt.plot(pt_pt_tfidf_nonlinsvc_fpr, pt_pt_tfidf_nonlinsvc_tpr, linestyle   = '--', label='pt_pt_tfidf_nonlinsvc (auROC = %0.3f)' % pt_pt_tfidf_nonlinsvc_auc)\n",
        "plt.plot(en_en_wemb_nonlinsvc_fpr, en_en_wemb_nonlinsvc_tpr, linestyle   = '--', label='en_en_wemb_nonlinsvc (auROC = %0.3f)' % en_en_wemb_nonlinsvc_auc)\n",
        "plt.plot(en_en_tfidf_nonlinsvc_fpr, en_en_tfidf_nonlinsvc_tpr, linestyle   = '--', label='en_en_tfidf_nonlinsvc (auROC = %0.3f)' % en_en_tfidf_nonlinsvc_auc)\n",
        "\n",
        "plt.plot(pt_pt_wemb_randfor_fpr, pt_pt_wemb_randfor_tpr, linestyle   = '--', label='pt_pt_wemb_randfor (auROC = %0.3f)' % pt_pt_wemb_randfor_auc)\n",
        "plt.plot(pt_pt_tfidf_randfor_fpr, pt_pt_tfidf_randfor_tpr, linestyle   = '--', label='pt_pt_tfidf_randfor (auROC = %0.3f)' % pt_pt_tfidf_randfor_auc)\n",
        "plt.plot(en_en_wemb_randfor_fpr, en_en_wemb_randfor_tpr, linestyle   = '--', label='en_en_wemb_randfor (auROC = %0.3f)' % en_en_wemb_randfor_auc)\n",
        "plt.plot(en_en_tfidf_randfor_fpr, en_en_tfidf_randfor_tpr, linestyle   = '--', label='en_en_tfidf_randfor (auROC = %0.3f)' % en_en_tfidf_randfor_auc)\n",
        "\n",
        "plt.plot(pt_pt_wemb_xgboost_fpr, pt_pt_wemb_xgboost_tpr, linestyle   = '--', label='pt_pt_wemb_xgboost (auROC = %0.3f)' % pt_pt_wemb_xgboost_auc)\n",
        "plt.plot(pt_pt_tfidf_xgboost_fpr, pt_pt_tfidf_xgboost_tpr, linestyle   = '--', label='pt_pt_tfidf_xgboost (auROC = %0.3f)' % pt_pt_tfidf_xgboost_auc)\n",
        "plt.plot(en_en_wemb_xgboost_fpr, en_en_wemb_xgboost_tpr, linestyle   = '--', label='en_en_wemb_xgboost (auROC = %0.3f)' % en_en_wemb_xgboost_auc)\n",
        "plt.plot(en_en_tfidf_xgboost_fpr, en_en_tfidf_xgboost_tpr, linestyle   = '--', label='en_en_tfidf_xgboost (auROC = %0.3f)' % en_en_tfidf_xgboost_auc)\n",
        "\n",
        "\n",
        "# Title\n",
        "plt.title('ROC Plot')\n",
        "# Axis labels\n",
        "plt.xlabel('False Positive Rate')\n",
        "plt.ylabel('True Positive Rate')\n",
        "# Show legend\n",
        "#plt.legend() # \n",
        "plt.legend(bbox_to_anchor=(1.05, 1), loc='upper left')\n",
        "# Show plot\n",
        "plt.show()"
      ]
    },
    {
      "cell_type": "markdown",
      "source": [
        "**Non-Linear SVM applied to word embedding numerical vectors obtained from translated descriptions submited to 'english NLP pipeline'** is also the best result considering AUC criteria."
      ],
      "metadata": {
        "id": "dTPQ_duyrBVL"
      }
    },
    {
      "cell_type": "markdown",
      "source": [
        "# Final coments\n",
        "This project presents a full scope solution to solve poorly categorized products, a very common issue present even on big deal e-commerces, such as Amazon.\n",
        "\n",
        "We started from web scraping product descriptions directly from Amazon's Brazilian e-commerce and, after applying NLP techniques to both treat corpus and create numerical representations for descriptions, we applied several ML models to define the best approach.\n",
        "\n",
        "Turns out that translated descriptions from portuguese to english presented better results in almost every model. This reflects how much Portuguese NLP needs to improve. The best model was Non-Linear SVM. This is no surprise since SVM usually deals well with high dimension problems. Regarding vectorization methods, word embeddings and Tf-idf produced close results. Finally, the best combination of it all was **Non-Linear SVM applied to word embedding numerical vectors obtained from translated descriptions submited to 'english NLP pipeline'**"
      ],
      "metadata": {
        "id": "aYA-wlm7rWCm"
      }
    }
  ],
  "metadata": {
    "kernelspec": {
      "display_name": "Python 3",
      "language": "python",
      "name": "python3"
    },
    "language_info": {
      "codemirror_mode": {
        "name": "ipython",
        "version": 3
      },
      "file_extension": ".py",
      "mimetype": "text/x-python",
      "name": "python",
      "nbconvert_exporter": "python",
      "pygments_lexer": "ipython3",
      "version": "3.8.8"
    },
    "colab": {
      "name": "Product Category Prediction.ipynb",
      "provenance": [],
      "collapsed_sections": [
        "ubbmlxUvlUBg",
        "SPzU20F_Y3PJ",
        "cm8DovcpY3PK",
        "BXAayoM6Y3PK",
        "CmpceR26Y3PK",
        "eNeJoiHzY3PK",
        "TMOzGPdlY3PL",
        "zX0ofjkoY3PL",
        "nV5mBhNuY3PL",
        "HPXeRN-sY3PL",
        "w13rCaUqY3PL",
        "IrY9y4ddY3PM",
        "fh9qKvkLY3PM",
        "QcMw8pDIY3PM",
        "-NovzdwoY3PM",
        "OaQgAl9DY3PM"
      ]
    }
  },
  "nbformat": 4,
  "nbformat_minor": 0
}