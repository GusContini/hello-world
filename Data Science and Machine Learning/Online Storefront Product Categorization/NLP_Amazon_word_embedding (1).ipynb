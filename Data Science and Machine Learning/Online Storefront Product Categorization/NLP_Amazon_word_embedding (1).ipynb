{
  "cells": [
    {
      "cell_type": "code",
      "execution_count": null,
      "id": "38952589-41fc-4fde-b7c8-fc3eaff2c24a",
      "metadata": {
        "id": "38952589-41fc-4fde-b7c8-fc3eaff2c24a"
      },
      "outputs": [],
      "source": [
        "import numpy as np\n",
        "import pandas as pd\n",
        "import matplotlib.pyplot as plt\n",
        "import seaborn as sns\n",
        "import time"
      ]
    },
    {
      "cell_type": "markdown",
      "id": "6f369ddb-e374-4d0f-82af-aa3047965a42",
      "metadata": {
        "id": "6f369ddb-e374-4d0f-82af-aa3047965a42"
      },
      "source": [
        "## Load and ckeck data"
      ]
    },
    {
      "cell_type": "code",
      "execution_count": null,
      "id": "7d1c9d22-542d-4a18-9d6b-0984c6248252",
      "metadata": {
        "id": "7d1c9d22-542d-4a18-9d6b-0984c6248252",
        "outputId": "3498719b-7ed6-416a-cbd4-b3f81d38c7d6"
      },
      "outputs": [
        {
          "name": "stdout",
          "output_type": "stream",
          "text": [
            "(1356, 16)\n"
          ]
        },
        {
          "data": {
            "text/html": [
              "<div>\n",
              "<style scoped>\n",
              "    .dataframe tbody tr th:only-of-type {\n",
              "        vertical-align: middle;\n",
              "    }\n",
              "\n",
              "    .dataframe tbody tr th {\n",
              "        vertical-align: top;\n",
              "    }\n",
              "\n",
              "    .dataframe thead th {\n",
              "        text-align: right;\n",
              "    }\n",
              "</style>\n",
              "<table border=\"1\" class=\"dataframe\">\n",
              "  <thead>\n",
              "    <tr style=\"text-align: right;\">\n",
              "      <th></th>\n",
              "      <th>Departamento</th>\n",
              "      <th>produto</th>\n",
              "      <th>preco_inteiro</th>\n",
              "      <th>preco_decimal</th>\n",
              "      <th>prazo</th>\n",
              "      <th>frete</th>\n",
              "      <th>qtd_reviews</th>\n",
              "      <th>rating</th>\n",
              "      <th>tag</th>\n",
              "      <th>url_produto</th>\n",
              "      <th>preco</th>\n",
              "      <th>rating_ajustado</th>\n",
              "      <th>frete_gratis</th>\n",
              "      <th>prazo_ajustado</th>\n",
              "      <th>frete_preco</th>\n",
              "      <th>frete_gratis_binario</th>\n",
              "    </tr>\n",
              "  </thead>\n",
              "  <tbody>\n",
              "    <tr>\n",
              "      <th>366</th>\n",
              "      <td>Celulares e Comunicação</td>\n",
              "      <td>Carregador Rápido Samsung sem Fio Pad II 2019 ...</td>\n",
              "      <td>189,</td>\n",
              "      <td>0.0</td>\n",
              "      <td>NaN</td>\n",
              "      <td>Receba atéSábado, 29 de maiOpção de frete GRÁT...</td>\n",
              "      <td>131.0</td>\n",
              "      <td>4,6 de 5 estrelas</td>\n",
              "      <td>[]</td>\n",
              "      <td>/Carregador-R%C3%A1pido-Samsung-Preto-Original...</td>\n",
              "      <td>189.0</td>\n",
              "      <td>4.8</td>\n",
              "      <td>frete grátis</td>\n",
              "      <td>7.0</td>\n",
              "      <td>0.00</td>\n",
              "      <td>1</td>\n",
              "    </tr>\n",
              "    <tr>\n",
              "      <th>367</th>\n",
              "      <td>Celulares e Comunicação</td>\n",
              "      <td>Smartwatch Amazfit GTS 2, Relógio Inteligente,...</td>\n",
              "      <td>1.149,</td>\n",
              "      <td>90.0</td>\n",
              "      <td>NaN</td>\n",
              "      <td>R$ 31,92 de frete</td>\n",
              "      <td>861.0</td>\n",
              "      <td>4,0 de 5 estrelas</td>\n",
              "      <td>[]</td>\n",
              "      <td>/Smartwatch-Amazfit-Inteligente-telef%C3%B4nic...</td>\n",
              "      <td>1149.0</td>\n",
              "      <td>4.7</td>\n",
              "      <td>NaN</td>\n",
              "      <td>NaN</td>\n",
              "      <td>31.92</td>\n",
              "      <td>0</td>\n",
              "    </tr>\n",
              "  </tbody>\n",
              "</table>\n",
              "</div>"
            ],
            "text/plain": [
              "                Departamento  \\\n",
              "366  Celulares e Comunicação   \n",
              "367  Celulares e Comunicação   \n",
              "\n",
              "                                               produto preco_inteiro  \\\n",
              "366  Carregador Rápido Samsung sem Fio Pad II 2019 ...          189,   \n",
              "367  Smartwatch Amazfit GTS 2, Relógio Inteligente,...        1.149,   \n",
              "\n",
              "     preco_decimal  prazo                                              frete  \\\n",
              "366            0.0    NaN  Receba atéSábado, 29 de maiOpção de frete GRÁT...   \n",
              "367           90.0    NaN                                  R$ 31,92 de frete   \n",
              "\n",
              "     qtd_reviews             rating tag  \\\n",
              "366        131.0  4,6 de 5 estrelas  []   \n",
              "367        861.0  4,0 de 5 estrelas  []   \n",
              "\n",
              "                                           url_produto   preco  \\\n",
              "366  /Carregador-R%C3%A1pido-Samsung-Preto-Original...   189.0   \n",
              "367  /Smartwatch-Amazfit-Inteligente-telef%C3%B4nic...  1149.0   \n",
              "\n",
              "     rating_ajustado  frete_gratis  prazo_ajustado  frete_preco  \\\n",
              "366              4.8  frete grátis             7.0         0.00   \n",
              "367              4.7           NaN             NaN        31.92   \n",
              "\n",
              "     frete_gratis_binario  \n",
              "366                     1  \n",
              "367                     0  "
            ]
          },
          "execution_count": 2,
          "metadata": {},
          "output_type": "execute_result"
        }
      ],
      "source": [
        "df = pd.read_csv('data.csv', index_col=0)\n",
        "print(df.shape)\n",
        "df.tail(2)"
      ]
    },
    {
      "cell_type": "code",
      "execution_count": null,
      "id": "b2e33317-fc08-4fff-876e-96e0519db362",
      "metadata": {
        "id": "b2e33317-fc08-4fff-876e-96e0519db362",
        "outputId": "5716a66e-8a63-4bf8-ae44-d34bf1346282"
      },
      "outputs": [
        {
          "data": {
            "text/html": [
              "<div>\n",
              "<style scoped>\n",
              "    .dataframe tbody tr th:only-of-type {\n",
              "        vertical-align: middle;\n",
              "    }\n",
              "\n",
              "    .dataframe tbody tr th {\n",
              "        vertical-align: top;\n",
              "    }\n",
              "\n",
              "    .dataframe thead th {\n",
              "        text-align: right;\n",
              "    }\n",
              "</style>\n",
              "<table border=\"1\" class=\"dataframe\">\n",
              "  <thead>\n",
              "    <tr style=\"text-align: right;\">\n",
              "      <th></th>\n",
              "      <th>Departamento</th>\n",
              "      <th>produto</th>\n",
              "      <th>preco_inteiro</th>\n",
              "      <th>preco_decimal</th>\n",
              "      <th>prazo</th>\n",
              "      <th>frete</th>\n",
              "      <th>qtd_reviews</th>\n",
              "      <th>rating</th>\n",
              "      <th>tag</th>\n",
              "      <th>url_produto</th>\n",
              "      <th>preco</th>\n",
              "      <th>rating_ajustado</th>\n",
              "      <th>frete_gratis</th>\n",
              "      <th>prazo_ajustado</th>\n",
              "      <th>frete_preco</th>\n",
              "      <th>frete_gratis_binario</th>\n",
              "    </tr>\n",
              "    <tr>\n",
              "      <th>id</th>\n",
              "      <th></th>\n",
              "      <th></th>\n",
              "      <th></th>\n",
              "      <th></th>\n",
              "      <th></th>\n",
              "      <th></th>\n",
              "      <th></th>\n",
              "      <th></th>\n",
              "      <th></th>\n",
              "      <th></th>\n",
              "      <th></th>\n",
              "      <th></th>\n",
              "      <th></th>\n",
              "      <th></th>\n",
              "      <th></th>\n",
              "      <th></th>\n",
              "    </tr>\n",
              "  </thead>\n",
              "  <tbody>\n",
              "    <tr>\n",
              "      <th>1354</th>\n",
              "      <td>Celulares e Comunicação</td>\n",
              "      <td>Carregador Rápido Samsung sem Fio Pad II 2019 ...</td>\n",
              "      <td>189,</td>\n",
              "      <td>0.0</td>\n",
              "      <td>NaN</td>\n",
              "      <td>Receba atéSábado, 29 de maiOpção de frete GRÁT...</td>\n",
              "      <td>131.0</td>\n",
              "      <td>4,6 de 5 estrelas</td>\n",
              "      <td>[]</td>\n",
              "      <td>/Carregador-R%C3%A1pido-Samsung-Preto-Original...</td>\n",
              "      <td>189.0</td>\n",
              "      <td>4.8</td>\n",
              "      <td>frete grátis</td>\n",
              "      <td>7.0</td>\n",
              "      <td>0.00</td>\n",
              "      <td>1</td>\n",
              "    </tr>\n",
              "    <tr>\n",
              "      <th>1355</th>\n",
              "      <td>Celulares e Comunicação</td>\n",
              "      <td>Smartwatch Amazfit GTS 2, Relógio Inteligente,...</td>\n",
              "      <td>1.149,</td>\n",
              "      <td>90.0</td>\n",
              "      <td>NaN</td>\n",
              "      <td>R$ 31,92 de frete</td>\n",
              "      <td>861.0</td>\n",
              "      <td>4,0 de 5 estrelas</td>\n",
              "      <td>[]</td>\n",
              "      <td>/Smartwatch-Amazfit-Inteligente-telef%C3%B4nic...</td>\n",
              "      <td>1149.0</td>\n",
              "      <td>4.7</td>\n",
              "      <td>NaN</td>\n",
              "      <td>NaN</td>\n",
              "      <td>31.92</td>\n",
              "      <td>0</td>\n",
              "    </tr>\n",
              "  </tbody>\n",
              "</table>\n",
              "</div>"
            ],
            "text/plain": [
              "                 Departamento  \\\n",
              "id                              \n",
              "1354  Celulares e Comunicação   \n",
              "1355  Celulares e Comunicação   \n",
              "\n",
              "                                                produto preco_inteiro  \\\n",
              "id                                                                      \n",
              "1354  Carregador Rápido Samsung sem Fio Pad II 2019 ...          189,   \n",
              "1355  Smartwatch Amazfit GTS 2, Relógio Inteligente,...        1.149,   \n",
              "\n",
              "      preco_decimal  prazo                                              frete  \\\n",
              "id                                                                              \n",
              "1354            0.0    NaN  Receba atéSábado, 29 de maiOpção de frete GRÁT...   \n",
              "1355           90.0    NaN                                  R$ 31,92 de frete   \n",
              "\n",
              "      qtd_reviews             rating tag  \\\n",
              "id                                         \n",
              "1354        131.0  4,6 de 5 estrelas  []   \n",
              "1355        861.0  4,0 de 5 estrelas  []   \n",
              "\n",
              "                                            url_produto   preco  \\\n",
              "id                                                                \n",
              "1354  /Carregador-R%C3%A1pido-Samsung-Preto-Original...   189.0   \n",
              "1355  /Smartwatch-Amazfit-Inteligente-telef%C3%B4nic...  1149.0   \n",
              "\n",
              "      rating_ajustado  frete_gratis  prazo_ajustado  frete_preco  \\\n",
              "id                                                                 \n",
              "1354              4.8  frete grátis             7.0         0.00   \n",
              "1355              4.7           NaN             NaN        31.92   \n",
              "\n",
              "      frete_gratis_binario  \n",
              "id                          \n",
              "1354                     1  \n",
              "1355                     0  "
            ]
          },
          "execution_count": 3,
          "metadata": {},
          "output_type": "execute_result"
        }
      ],
      "source": [
        "df['id'] = 0\n",
        "for i in range(df.shape[0]):\n",
        "    df.iloc[i,-1] = i\n",
        "df.set_index('id', drop=True, append=False, inplace=True, verify_integrity=True)\n",
        "df.tail(2)"
      ]
    },
    {
      "cell_type": "code",
      "execution_count": null,
      "id": "8b0fee71-6f51-4bbc-85a0-b398209dceae",
      "metadata": {
        "id": "8b0fee71-6f51-4bbc-85a0-b398209dceae"
      },
      "outputs": [],
      "source": [
        "#############################\n",
        "#############################\n",
        "text = 'produto'\n",
        "#############################\n",
        "#############################"
      ]
    },
    {
      "cell_type": "code",
      "execution_count": null,
      "id": "2e30a888-a067-48af-a3ee-1b702bf78992",
      "metadata": {
        "id": "2e30a888-a067-48af-a3ee-1b702bf78992",
        "outputId": "d8ed73ca-71e2-455e-d070-cd7dd66aebc9"
      },
      "outputs": [
        {
          "name": "stdout",
          "output_type": "stream",
          "text": [
            "(1356, 1)\n"
          ]
        },
        {
          "data": {
            "text/html": [
              "<div>\n",
              "<style scoped>\n",
              "    .dataframe tbody tr th:only-of-type {\n",
              "        vertical-align: middle;\n",
              "    }\n",
              "\n",
              "    .dataframe tbody tr th {\n",
              "        vertical-align: top;\n",
              "    }\n",
              "\n",
              "    .dataframe thead th {\n",
              "        text-align: right;\n",
              "    }\n",
              "</style>\n",
              "<table border=\"1\" class=\"dataframe\">\n",
              "  <thead>\n",
              "    <tr style=\"text-align: right;\">\n",
              "      <th></th>\n",
              "      <th>produto</th>\n",
              "    </tr>\n",
              "    <tr>\n",
              "      <th>id</th>\n",
              "      <th></th>\n",
              "    </tr>\n",
              "  </thead>\n",
              "  <tbody>\n",
              "    <tr>\n",
              "      <th>0</th>\n",
              "      <td>Notebook Lenovo Ultrafino ideapad S145 i5-1035...</td>\n",
              "    </tr>\n",
              "    <tr>\n",
              "      <th>1</th>\n",
              "      <td>Impressora multifuncional HP DeskJet Ink Advan...</td>\n",
              "    </tr>\n",
              "    <tr>\n",
              "      <th>2</th>\n",
              "      <td>Multifuncional Epson EcoTank L3150 - Tanque de...</td>\n",
              "    </tr>\n",
              "    <tr>\n",
              "      <th>3</th>\n",
              "      <td>Suporte para Notebook, OCTOO, Uptable, UP-BL, ...</td>\n",
              "    </tr>\n",
              "    <tr>\n",
              "      <th>4</th>\n",
              "      <td>Apple iPad 8ª Geração 10.2\", Wi-Fi, 128GB Spac...</td>\n",
              "    </tr>\n",
              "  </tbody>\n",
              "</table>\n",
              "</div>"
            ],
            "text/plain": [
              "                                              produto\n",
              "id                                                   \n",
              "0   Notebook Lenovo Ultrafino ideapad S145 i5-1035...\n",
              "1   Impressora multifuncional HP DeskJet Ink Advan...\n",
              "2   Multifuncional Epson EcoTank L3150 - Tanque de...\n",
              "3   Suporte para Notebook, OCTOO, Uptable, UP-BL, ...\n",
              "4   Apple iPad 8ª Geração 10.2\", Wi-Fi, 128GB Spac..."
            ]
          },
          "execution_count": 7,
          "metadata": {},
          "output_type": "execute_result"
        }
      ],
      "source": [
        "data = pd.DataFrame(df[text].copy(deep=True))\n",
        "print(data.shape)\n",
        "data.head()"
      ]
    },
    {
      "cell_type": "code",
      "execution_count": null,
      "id": "e7ee915a-b886-49e8-82bf-79760b857f9e",
      "metadata": {
        "id": "e7ee915a-b886-49e8-82bf-79760b857f9e",
        "outputId": "7e0c509d-79d7-4cc5-ec79-b5fc425a3d42"
      },
      "outputs": [
        {
          "data": {
            "text/plain": [
              "produto    140\n",
              "dtype: int64"
            ]
          },
          "execution_count": 8,
          "metadata": {},
          "output_type": "execute_result"
        }
      ],
      "source": [
        "data.isnull().sum()"
      ]
    },
    {
      "cell_type": "code",
      "execution_count": null,
      "id": "5156b21e-15de-4487-a496-7e8c628a29d5",
      "metadata": {
        "id": "5156b21e-15de-4487-a496-7e8c628a29d5",
        "outputId": "06aa988d-877c-4e6f-972f-dff8ca56fb91"
      },
      "outputs": [
        {
          "name": "stdout",
          "output_type": "stream",
          "text": [
            "(1216, 1)\n"
          ]
        }
      ],
      "source": [
        "data.dropna(inplace=True)\n",
        "print(data.shape)"
      ]
    },
    {
      "cell_type": "code",
      "execution_count": null,
      "id": "1b008afd-a31c-4186-884a-a90e5cc2fa44",
      "metadata": {
        "id": "1b008afd-a31c-4186-884a-a90e5cc2fa44",
        "outputId": "2b29d944-60d3-4265-a2b7-63dc6ca62a23"
      },
      "outputs": [
        {
          "name": "stdout",
          "output_type": "stream",
          "text": [
            "(1216, 3)\n"
          ]
        },
        {
          "data": {
            "text/html": [
              "<div>\n",
              "<style scoped>\n",
              "    .dataframe tbody tr th:only-of-type {\n",
              "        vertical-align: middle;\n",
              "    }\n",
              "\n",
              "    .dataframe tbody tr th {\n",
              "        vertical-align: top;\n",
              "    }\n",
              "\n",
              "    .dataframe thead th {\n",
              "        text-align: right;\n",
              "    }\n",
              "</style>\n",
              "<table border=\"1\" class=\"dataframe\">\n",
              "  <thead>\n",
              "    <tr style=\"text-align: right;\">\n",
              "      <th></th>\n",
              "      <th>Product Description</th>\n",
              "      <th>ModelTranslate</th>\n",
              "      <th>HandTranslate</th>\n",
              "    </tr>\n",
              "    <tr>\n",
              "      <th>id</th>\n",
              "      <th></th>\n",
              "      <th></th>\n",
              "      <th></th>\n",
              "    </tr>\n",
              "  </thead>\n",
              "  <tbody>\n",
              "    <tr>\n",
              "      <th>0</th>\n",
              "      <td>Notebook Lenovo Ultrafino ideapad S145 i5-1035...</td>\n",
              "      <td>Noteovo Lenovo Ultrafino Idention C145 I5-1035...</td>\n",
              "      <td>Lenovo Ultra Slim notebook ideapad S145 i5-103...</td>\n",
              "    </tr>\n",
              "    <tr>\n",
              "      <th>1</th>\n",
              "      <td>Impressora multifuncional HP DeskJet Ink Advan...</td>\n",
              "      <td>HP Deskjet Ink Advantage 2774 Multifunction Pr...</td>\n",
              "      <td>HP DeskJet Ink Advantage 2774 All-in-One Print...</td>\n",
              "    </tr>\n",
              "  </tbody>\n",
              "</table>\n",
              "</div>"
            ],
            "text/plain": [
              "                                  Product Description  \\\n",
              "id                                                      \n",
              "0   Notebook Lenovo Ultrafino ideapad S145 i5-1035...   \n",
              "1   Impressora multifuncional HP DeskJet Ink Advan...   \n",
              "\n",
              "                                       ModelTranslate  \\\n",
              "id                                                      \n",
              "0   Noteovo Lenovo Ultrafino Idention C145 I5-1035...   \n",
              "1   HP Deskjet Ink Advantage 2774 Multifunction Pr...   \n",
              "\n",
              "                                        HandTranslate  \n",
              "id                                                     \n",
              "0   Lenovo Ultra Slim notebook ideapad S145 i5-103...  \n",
              "1   HP DeskJet Ink Advantage 2774 All-in-One Print...  "
            ]
          },
          "execution_count": 15,
          "metadata": {},
          "output_type": "execute_result"
        }
      ],
      "source": [
        "######### LOADS DATASET WITH TRANSLATED (PT x EN) DESCRIPTION ##########\n",
        "\n",
        "data_en = pd.read_csv('Google_Trans_TranslatedVers.csv', sep=';', index_col=0)\n",
        "print(data_en.shape)\n",
        "data_en.head(2)"
      ]
    },
    {
      "cell_type": "code",
      "execution_count": null,
      "id": "64fed11c-c287-4b0d-86f0-ce181c0fe046",
      "metadata": {
        "id": "64fed11c-c287-4b0d-86f0-ce181c0fe046",
        "outputId": "752fb0f0-fbcf-4970-c529-b178468519df"
      },
      "outputs": [
        {
          "name": "stdout",
          "output_type": "stream",
          "text": [
            "(1216, 2)\n"
          ]
        },
        {
          "data": {
            "text/html": [
              "<div>\n",
              "<style scoped>\n",
              "    .dataframe tbody tr th:only-of-type {\n",
              "        vertical-align: middle;\n",
              "    }\n",
              "\n",
              "    .dataframe tbody tr th {\n",
              "        vertical-align: top;\n",
              "    }\n",
              "\n",
              "    .dataframe thead th {\n",
              "        text-align: right;\n",
              "    }\n",
              "</style>\n",
              "<table border=\"1\" class=\"dataframe\">\n",
              "  <thead>\n",
              "    <tr style=\"text-align: right;\">\n",
              "      <th></th>\n",
              "      <th>produto</th>\n",
              "      <th>HandTranslate</th>\n",
              "    </tr>\n",
              "    <tr>\n",
              "      <th>id</th>\n",
              "      <th></th>\n",
              "      <th></th>\n",
              "    </tr>\n",
              "  </thead>\n",
              "  <tbody>\n",
              "    <tr>\n",
              "      <th>0</th>\n",
              "      <td>Notebook Lenovo Ultrafino ideapad S145 i5-1035...</td>\n",
              "      <td>Lenovo Ultra Slim notebook ideapad S145 i5-103...</td>\n",
              "    </tr>\n",
              "    <tr>\n",
              "      <th>1</th>\n",
              "      <td>Impressora multifuncional HP DeskJet Ink Advan...</td>\n",
              "      <td>HP DeskJet Ink Advantage 2774 All-in-One Print...</td>\n",
              "    </tr>\n",
              "  </tbody>\n",
              "</table>\n",
              "</div>"
            ],
            "text/plain": [
              "                                              produto  \\\n",
              "id                                                      \n",
              "0   Notebook Lenovo Ultrafino ideapad S145 i5-1035...   \n",
              "1   Impressora multifuncional HP DeskJet Ink Advan...   \n",
              "\n",
              "                                        HandTranslate  \n",
              "id                                                     \n",
              "0   Lenovo Ultra Slim notebook ideapad S145 i5-103...  \n",
              "1   HP DeskJet Ink Advantage 2774 All-in-One Print...  "
            ]
          },
          "execution_count": 16,
          "metadata": {},
          "output_type": "execute_result"
        }
      ],
      "source": [
        "data_final = pd.merge(data, data_en['HandTranslate'], left_index=True, right_index=True)\n",
        "#data_final.drop(['produto_y'], axis=1, inplace=True)\n",
        "#data_final.columns = ['produto', 'produto_en', 'language']\n",
        "print(data_final.shape)\n",
        "data_final.head(2)"
      ]
    },
    {
      "cell_type": "code",
      "execution_count": null,
      "id": "a8dc66a3-985f-4448-bbed-dd78b600f498",
      "metadata": {
        "id": "a8dc66a3-985f-4448-bbed-dd78b600f498",
        "outputId": "a60500f9-7988-4aff-b58a-6345667ae459"
      },
      "outputs": [
        {
          "data": {
            "text/plain": [
              "pt    0.734375\n",
              "en    0.234375\n",
              "es    0.009868\n",
              "gl    0.004934\n",
              "ca    0.003289\n",
              "bg    0.003289\n",
              "it    0.002467\n",
              "gu    0.001645\n",
              "da    0.000822\n",
              "ht    0.000822\n",
              "sv    0.000822\n",
              "la    0.000822\n",
              "eo    0.000822\n",
              "tl    0.000822\n",
              "co    0.000822\n",
              "Name: language, dtype: float64"
            ]
          },
          "execution_count": 16,
          "metadata": {},
          "output_type": "execute_result"
        }
      ],
      "source": [
        "data_final['language'].value_counts(normalize=True)"
      ]
    },
    {
      "cell_type": "code",
      "execution_count": null,
      "id": "51a011bd-7dc3-4806-a31a-b6721b7b877b",
      "metadata": {
        "id": "51a011bd-7dc3-4806-a31a-b6721b7b877b",
        "outputId": "1b1d0a87-fee4-4d88-93a6-0b7084d2c03a"
      },
      "outputs": [
        {
          "data": {
            "text/plain": [
              "<AxesSubplot:xlabel='language', ylabel='count'>"
            ]
          },
          "execution_count": 15,
          "metadata": {},
          "output_type": "execute_result"
        },
        {
          "data": {
            "image/png": "[encoded data removed]",
            "text/plain": [
              "<Figure size 432x288 with 1 Axes>"
            ]
          },
          "metadata": {
            "needs_background": "light"
          },
          "output_type": "display_data"
        }
      ],
      "source": [
        "sns.countplot(x='language', data=data_final, palette='rocket')"
      ]
    },
    {
      "cell_type": "markdown",
      "id": "5f423eef-fa4a-4a78-8852-183d0ffb983e",
      "metadata": {
        "id": "5f423eef-fa4a-4a78-8852-183d0ffb983e"
      },
      "source": [
        "## Text preprocessing and Lemmatization"
      ]
    },
    {
      "cell_type": "code",
      "execution_count": null,
      "id": "98478cf1-26df-4cce-a606-b4798f47ecce",
      "metadata": {
        "id": "98478cf1-26df-4cce-a606-b4798f47ecce",
        "outputId": "838e6272-c5b5-4630-9062-8ff504811860"
      },
      "outputs": [
        {
          "name": "stdout",
          "output_type": "stream",
          "text": [
            "179\n",
            "204\n"
          ]
        },
        {
          "name": "stderr",
          "output_type": "stream",
          "text": [
            "[nltk_data] Downloading package stopwords to\n",
            "[nltk_data]     C:\\Users\\chafu\\AppData\\Roaming\\nltk_data...\n",
            "[nltk_data]   Package stopwords is already up-to-date!\n"
          ]
        }
      ],
      "source": [
        "import nltk\n",
        "nltk.download('stopwords')\n",
        "from nltk.corpus import stopwords\n",
        "stopwords_en = stopwords.words(\"english\")\n",
        "stopwords_pt = stopwords.words(\"portuguese\")\n",
        "print(len(stopwords_en))\n",
        "print(len(stopwords_pt))"
      ]
    },
    {
      "cell_type": "code",
      "execution_count": null,
      "id": "fa1eb574-e01a-49e1-8f8c-a594f30ecdba",
      "metadata": {
        "id": "fa1eb574-e01a-49e1-8f8c-a594f30ecdba",
        "outputId": "e40bbaf7-3dc4-44dc-ff7a-818508d379e6"
      },
      "outputs": [
        {
          "name": "stdout",
          "output_type": "stream",
          "text": [
            "235\n",
            "260\n"
          ]
        }
      ],
      "source": [
        "import string\n",
        "stopwords_en += list(string.punctuation)\n",
        "stopwords_pt += list(string.punctuation)\n",
        "stopwords_en += [\".\", \"''\", '\"\"', '...', '``', '’', '“', '’', '”', '‘', '‘',\"'\", '©', '-', '–', '—', '_',\"/\", \"?\", \"!\", \";\", \",\", 'ii', 'iii']\n",
        "stopwords_pt += [\".\", \"''\", '\"\"', '...', '``', '’', '“', '’', '”', '‘', '‘',\"'\", '©', '-', '–', '—', '_',\"/\", \"?\", \"!\", \";\", \",\", 'ii', 'iii']\n",
        "#stopwords_pt = set(stopwords_pt)\n",
        "print(len(stopwords_en))\n",
        "print(len(stopwords_pt))"
      ]
    },
    {
      "cell_type": "code",
      "execution_count": null,
      "id": "d0298462-a43a-4286-919a-e79de42a7d41",
      "metadata": {
        "id": "d0298462-a43a-4286-919a-e79de42a7d41",
        "outputId": "9df11cf3-772c-4b05-e0a9-41f5d6d7f5e9"
      },
      "outputs": [
        {
          "name": "stdout",
          "output_type": "stream",
          "text": [
            "235\n",
            "260\n"
          ]
        }
      ],
      "source": [
        "englishST = pd.read_csv('englishST.txt')\n",
        "englishST = englishST.values\n",
        "portugueseST = pd.read_csv('portugueseST.txt')\n",
        "portugueseST = portugueseST.values\n",
        "print(len(stopwords_en))\n",
        "print(len(stopwords_pt))"
      ]
    },
    {
      "cell_type": "code",
      "execution_count": null,
      "id": "74d8f088-851d-494b-85ba-90ac1586a30e",
      "metadata": {
        "id": "74d8f088-851d-494b-85ba-90ac1586a30e",
        "outputId": "df62a23a-0226-43d1-f5a1-b6290f8fb709"
      },
      "outputs": [
        {
          "name": "stdout",
          "output_type": "stream",
          "text": [
            "805\n",
            "615\n"
          ]
        }
      ],
      "source": [
        "for w in englishST:\n",
        "    stopwords_en.append(w[0])\n",
        "print(len(stopwords_en))\n",
        "\n",
        "for w in portugueseST:\n",
        "    stopwords_pt.append(w[0])\n",
        "print(len(stopwords_pt))"
      ]
    },
    {
      "cell_type": "code",
      "execution_count": null,
      "id": "2fcbacad-7a79-44b9-8682-0c8ac3e0f68e",
      "metadata": {
        "id": "2fcbacad-7a79-44b9-8682-0c8ac3e0f68e",
        "outputId": "097d8d6f-b9b7-4d10-c2b2-52573cba1ba6"
      },
      "outputs": [
        {
          "name": "stdout",
          "output_type": "stream",
          "text": [
            "644\n",
            "499\n"
          ]
        }
      ],
      "source": [
        "stopwords_en = dict.fromkeys(stopwords_en)\n",
        "stopwords_en = list(stopwords_en.keys())\n",
        "print(len(stopwords_en))\n",
        "\n",
        "stopwords_pt = dict.fromkeys(stopwords_pt)\n",
        "stopwords_pt = list(stopwords_pt.keys())\n",
        "print(len(stopwords_pt))"
      ]
    },
    {
      "cell_type": "code",
      "execution_count": null,
      "id": "703c84d0-c547-4f8d-b8e6-c249c001899c",
      "metadata": {
        "id": "703c84d0-c547-4f8d-b8e6-c249c001899c"
      },
      "outputs": [],
      "source": [
        "import spacy\n",
        "#spacy.cli.download('en_core_web_lg')"
      ]
    },
    {
      "cell_type": "code",
      "execution_count": null,
      "id": "0af527cd-c756-42dc-8bb3-77f7ab077359",
      "metadata": {
        "id": "0af527cd-c756-42dc-8bb3-77f7ab077359",
        "outputId": "322b192a-e0db-425f-acb1-3469b9a087a4"
      },
      "outputs": [
        {
          "name": "stdout",
          "output_type": "stream",
          "text": [
            "✔ Download and installation successful\n",
            "You can now load the model via spacy.load('pt_core_news_lg')\n"
          ]
        }
      ],
      "source": [
        "spacy.cli.download('pt_core_news_lg')"
      ]
    },
    {
      "cell_type": "code",
      "execution_count": null,
      "id": "d3a533aa-d182-4459-b63a-592171c9de76",
      "metadata": {
        "id": "d3a533aa-d182-4459-b63a-592171c9de76"
      },
      "outputs": [],
      "source": [
        "spacy_en = spacy.load('en_core_web_lg')\n",
        "#spacy_pt = spacy.load('pt_core_news_lg')"
      ]
    },
    {
      "cell_type": "code",
      "execution_count": null,
      "id": "5262ce86-e95b-490b-9738-3717caad1281",
      "metadata": {
        "id": "5262ce86-e95b-490b-9738-3717caad1281"
      },
      "outputs": [],
      "source": [
        "import unicodedata\n",
        "def remover_acento(texto):\n",
        "    try:\n",
        "        texto = unicode(texto, 'utf-8')\n",
        "    except NameError:\n",
        "        pass\n",
        "    texto = unicodedata.normalize('NFD', texto)\\\n",
        "           .encode('ascii', 'ignore')\\\n",
        "           .decode(\"utf-8\")\n",
        "    return str(texto)"
      ]
    },
    {
      "cell_type": "code",
      "execution_count": null,
      "id": "f4daae87-7bac-4def-8760-852c57409887",
      "metadata": {
        "id": "f4daae87-7bac-4def-8760-852c57409887"
      },
      "outputs": [],
      "source": [
        "import re\n",
        "def remover_stopwords(texto, stopwords):\n",
        "    palavras = re.findall(r'\\b[A-zÀ-úü]+\\b', texto.lower())\n",
        "    sem_stopwords = [p for p in palavras if p not in stopwords]\n",
        "    return ' '.join(sem_stopwords)"
      ]
    },
    {
      "cell_type": "code",
      "execution_count": null,
      "id": "29e2063f-5168-4a7d-b027-bef72ec40227",
      "metadata": {
        "id": "29e2063f-5168-4a7d-b027-bef72ec40227"
      },
      "outputs": [],
      "source": [
        "def lemmatiza_en(texto):\n",
        "    texto = remover_stopwords(remover_acento(texto), stopwords_en)\n",
        "    nlp_texto = spacy_en(texto)\n",
        "    lem = [word.lemma_ for word in nlp_texto] # if word.lemma_ == \"VERB\" else word.lower_ \n",
        "    return ' '.join(lem)"
      ]
    },
    {
      "cell_type": "code",
      "execution_count": null,
      "id": "2dc39ec0-60c1-41a0-a58b-1a466ee0c1cd",
      "metadata": {
        "id": "2dc39ec0-60c1-41a0-a58b-1a466ee0c1cd"
      },
      "outputs": [],
      "source": [
        "def lemmatiza_pt(texto):\n",
        "    texto = remover_stopwords(remover_acento(texto), stopwords_pt)\n",
        "    nlp_texto = spacy_pt(texto)\n",
        "    lem = [word.lemma_ for word in nlp_texto] # if word.lemma_ == \"VERB\" else word.lower_ \n",
        "    return ' '.join(lem)"
      ]
    },
    {
      "cell_type": "code",
      "execution_count": null,
      "id": "5e0af648-1ec7-44b9-ad5d-0c072762b1e7",
      "metadata": {
        "id": "5e0af648-1ec7-44b9-ad5d-0c072762b1e7",
        "outputId": "747f1548-4d68-4e89-cdd5-d0b117f8a9b9"
      },
      "outputs": [
        {
          "name": "stdout",
          "output_type": "stream",
          "text": [
            "6.458982229232788\n"
          ]
        }
      ],
      "source": [
        "text = 'HandTranslate'\n",
        "s = time.time()\n",
        "data_final['text_lem_en'] = data_final[text].astype(str).apply(lemmatiza_en)\n",
        "e = time.time()\n",
        "print(e-s)"
      ]
    },
    {
      "cell_type": "code",
      "execution_count": null,
      "id": "77daf92a-8186-4567-a2de-bf81cf4e16fa",
      "metadata": {
        "id": "77daf92a-8186-4567-a2de-bf81cf4e16fa",
        "outputId": "63f9c44f-f77c-4ae8-de6f-58a79a438470"
      },
      "outputs": [
        {
          "name": "stdout",
          "output_type": "stream",
          "text": [
            "16.365604877471924\n"
          ]
        }
      ],
      "source": [
        "s = time.time()\n",
        "data_final['text_lem_pt'] = data_final[text].astype(str).apply(lemmatiza_pt)\n",
        "e = time.time()\n",
        "print(e-s)"
      ]
    },
    {
      "cell_type": "code",
      "execution_count": null,
      "id": "da04a840-b1ca-4847-ae1f-7440bc00f225",
      "metadata": {
        "id": "da04a840-b1ca-4847-ae1f-7440bc00f225",
        "outputId": "847431ac-ace2-49f9-cea2-d72a1f4b850c"
      },
      "outputs": [
        {
          "name": "stdout",
          "output_type": "stream",
          "text": [
            "17.56429934501648\n"
          ]
        }
      ],
      "source": [
        "text = 'produto_en'\n",
        "s = time.time()\n",
        "data_final['text_en_lem_en'] = data_final[text].astype(str).apply(lemmatiza_en)\n",
        "e = time.time()\n",
        "print(e-s)"
      ]
    },
    {
      "cell_type": "code",
      "execution_count": null,
      "id": "0e28eb55-2ba4-4041-8ab5-fe49fec215c2",
      "metadata": {
        "id": "0e28eb55-2ba4-4041-8ab5-fe49fec215c2",
        "outputId": "561354ff-a272-459c-d9aa-31e3734712cf"
      },
      "outputs": [
        {
          "data": {
            "text/html": [
              "<div>\n",
              "<style scoped>\n",
              "    .dataframe tbody tr th:only-of-type {\n",
              "        vertical-align: middle;\n",
              "    }\n",
              "\n",
              "    .dataframe tbody tr th {\n",
              "        vertical-align: top;\n",
              "    }\n",
              "\n",
              "    .dataframe thead th {\n",
              "        text-align: right;\n",
              "    }\n",
              "</style>\n",
              "<table border=\"1\" class=\"dataframe\">\n",
              "  <thead>\n",
              "    <tr style=\"text-align: right;\">\n",
              "      <th></th>\n",
              "      <th>produto</th>\n",
              "      <th>HandTranslate</th>\n",
              "      <th>text_lem_en</th>\n",
              "    </tr>\n",
              "    <tr>\n",
              "      <th>id</th>\n",
              "      <th></th>\n",
              "      <th></th>\n",
              "      <th></th>\n",
              "    </tr>\n",
              "  </thead>\n",
              "  <tbody>\n",
              "    <tr>\n",
              "      <th>0</th>\n",
              "      <td>Notebook Lenovo Ultrafino ideapad S145 i5-1035...</td>\n",
              "      <td>Lenovo Ultra Slim notebook ideapad S145 i5-103...</td>\n",
              "      <td>lenovo ultra slim notebook ideapad windows dol...</td>\n",
              "    </tr>\n",
              "    <tr>\n",
              "      <th>1</th>\n",
              "      <td>Impressora multifuncional HP DeskJet Ink Advan...</td>\n",
              "      <td>HP DeskJet Ink Advantage 2774 All-in-One Print...</td>\n",
              "      <td>hp deskjet ink advantage printer wi fi</td>\n",
              "    </tr>\n",
              "    <tr>\n",
              "      <th>2</th>\n",
              "      <td>Multifuncional Epson EcoTank L3150 - Tanque de...</td>\n",
              "      <td>Epson EcoTank L3150 All-in-One - Color Ink Tan...</td>\n",
              "      <td>epson ecotank color ink tank wi fi direct usb ...</td>\n",
              "    </tr>\n",
              "    <tr>\n",
              "      <th>3</th>\n",
              "      <td>Suporte para Notebook, OCTOO, Uptable, UP-BL, ...</td>\n",
              "      <td>Notebook Stand; OCTOO; Uptable; UP-BL; Black</td>\n",
              "      <td>notebook stand octoo uptable bl black</td>\n",
              "    </tr>\n",
              "    <tr>\n",
              "      <th>4</th>\n",
              "      <td>Apple iPad 8ª Geração 10.2\", Wi-Fi, 128GB Spac...</td>\n",
              "      <td>Apple iPad 8th Generation 10.2\"; Wi-Fi; 128GB ...</td>\n",
              "      <td>apple ipad generation wi fi space gray</td>\n",
              "    </tr>\n",
              "    <tr>\n",
              "      <th>...</th>\n",
              "      <td>...</td>\n",
              "      <td>...</td>\n",
              "      <td>...</td>\n",
              "    </tr>\n",
              "    <tr>\n",
              "      <th>1351</th>\n",
              "      <td>Carregador Usb-c 18w Fast Charger Apple (Branco)</td>\n",
              "      <td>18w Fast Charger Apple Usb-c Charger (White)</td>\n",
              "      <td>fast charger apple usb charger white</td>\n",
              "    </tr>\n",
              "    <tr>\n",
              "      <th>1352</th>\n",
              "      <td>Smartphone Samsung Galaxy A21s 32GB Tela 6.5\" ...</td>\n",
              "      <td>Smartphone Samsung Galaxy A21s 32GB Screen 6.5...</td>\n",
              "      <td>smartphone samsung galaxy screen camera global...</td>\n",
              "    </tr>\n",
              "    <tr>\n",
              "      <th>1353</th>\n",
              "      <td>Celular Apple iPhone 11 Pro 64gb / Tela 5.8'' ...</td>\n",
              "      <td>Apple iPhone 11 Pro 64gb / Screen 5.8'' / 12MP...</td>\n",
              "      <td>apple iphone pro screen ios</td>\n",
              "    </tr>\n",
              "    <tr>\n",
              "      <th>1354</th>\n",
              "      <td>Carregador Rápido Samsung sem Fio Pad II 2019 ...</td>\n",
              "      <td>Samsung Wireless Quick Charger Pad II 2019 Ori...</td>\n",
              "      <td>samsung wireless quick charger pad original black</td>\n",
              "    </tr>\n",
              "    <tr>\n",
              "      <th>1355</th>\n",
              "      <td>Smartwatch Amazfit GTS 2, Relógio Inteligente,...</td>\n",
              "      <td>Amazfit GTS 2 Smartwatch; Smart Watch; 1.65\" A...</td>\n",
              "      <td>amazfit gts smartwatch smart watch amoled disp...</td>\n",
              "    </tr>\n",
              "  </tbody>\n",
              "</table>\n",
              "<p>1216 rows × 3 columns</p>\n",
              "</div>"
            ],
            "text/plain": [
              "                                                produto  \\\n",
              "id                                                        \n",
              "0     Notebook Lenovo Ultrafino ideapad S145 i5-1035...   \n",
              "1     Impressora multifuncional HP DeskJet Ink Advan...   \n",
              "2     Multifuncional Epson EcoTank L3150 - Tanque de...   \n",
              "3     Suporte para Notebook, OCTOO, Uptable, UP-BL, ...   \n",
              "4     Apple iPad 8ª Geração 10.2\", Wi-Fi, 128GB Spac...   \n",
              "...                                                 ...   \n",
              "1351   Carregador Usb-c 18w Fast Charger Apple (Branco)   \n",
              "1352  Smartphone Samsung Galaxy A21s 32GB Tela 6.5\" ...   \n",
              "1353  Celular Apple iPhone 11 Pro 64gb / Tela 5.8'' ...   \n",
              "1354  Carregador Rápido Samsung sem Fio Pad II 2019 ...   \n",
              "1355  Smartwatch Amazfit GTS 2, Relógio Inteligente,...   \n",
              "\n",
              "                                          HandTranslate  \\\n",
              "id                                                        \n",
              "0     Lenovo Ultra Slim notebook ideapad S145 i5-103...   \n",
              "1     HP DeskJet Ink Advantage 2774 All-in-One Print...   \n",
              "2     Epson EcoTank L3150 All-in-One - Color Ink Tan...   \n",
              "3          Notebook Stand; OCTOO; Uptable; UP-BL; Black   \n",
              "4     Apple iPad 8th Generation 10.2\"; Wi-Fi; 128GB ...   \n",
              "...                                                 ...   \n",
              "1351       18w Fast Charger Apple Usb-c Charger (White)   \n",
              "1352  Smartphone Samsung Galaxy A21s 32GB Screen 6.5...   \n",
              "1353  Apple iPhone 11 Pro 64gb / Screen 5.8'' / 12MP...   \n",
              "1354  Samsung Wireless Quick Charger Pad II 2019 Ori...   \n",
              "1355  Amazfit GTS 2 Smartwatch; Smart Watch; 1.65\" A...   \n",
              "\n",
              "                                            text_lem_en  \n",
              "id                                                       \n",
              "0     lenovo ultra slim notebook ideapad windows dol...  \n",
              "1                hp deskjet ink advantage printer wi fi  \n",
              "2     epson ecotank color ink tank wi fi direct usb ...  \n",
              "3                 notebook stand octoo uptable bl black  \n",
              "4                apple ipad generation wi fi space gray  \n",
              "...                                                 ...  \n",
              "1351               fast charger apple usb charger white  \n",
              "1352  smartphone samsung galaxy screen camera global...  \n",
              "1353                        apple iphone pro screen ios  \n",
              "1354  samsung wireless quick charger pad original black  \n",
              "1355  amazfit gts smartwatch smart watch amoled disp...  \n",
              "\n",
              "[1216 rows x 3 columns]"
            ]
          },
          "execution_count": 30,
          "metadata": {},
          "output_type": "execute_result"
        }
      ],
      "source": [
        "data_final"
      ]
    },
    {
      "cell_type": "code",
      "execution_count": null,
      "id": "6c8186b0-4424-4efb-973a-a1fe8935904e",
      "metadata": {
        "id": "6c8186b0-4424-4efb-973a-a1fe8935904e"
      },
      "outputs": [],
      "source": [
        "data_final.to_csv('produtos_amazon_descricao_lemmatizada_en_en.csv')"
      ]
    },
    {
      "cell_type": "markdown",
      "id": "c2fb6295-a03b-403f-bf08-c48a7c7c51d4",
      "metadata": {
        "id": "c2fb6295-a03b-403f-bf08-c48a7c7c51d4"
      },
      "source": [
        "## Word Embedding (Word Vector)\n",
        "https://jalammar.github.io/illustrated-word2vec/"
      ]
    },
    {
      "cell_type": "code",
      "execution_count": null,
      "id": "56499cc2-708c-4e1c-9318-b6c566a5d5f6",
      "metadata": {
        "id": "56499cc2-708c-4e1c-9318-b6c566a5d5f6",
        "outputId": "5c38b445-e547-4377-aac1-20ff6dfa7027"
      },
      "outputs": [
        {
          "name": "stdout",
          "output_type": "stream",
          "text": [
            "6.090639591217041\n"
          ]
        }
      ],
      "source": [
        "st = time.time()\n",
        "#\n",
        "\n",
        "with spacy_en.disable_pipes():\n",
        "    #doc_vectors = np.array([nlp_pt(text).vector for text in reviews.review_lem])\n",
        "    #vec_pt_en = [spacy_en(text).vector for text in data_final.text_lem_en]\n",
        "    #vec_pt_pt = [spacy_pt(text).vector for text in data_final.text_lem_pt]\n",
        "    vec_en_en = [spacy_en(text).vector for text in data_final.text_lem_en]\n",
        "#\n",
        "ed = time.time()\n",
        "print(ed-st)"
      ]
    },
    {
      "cell_type": "code",
      "execution_count": null,
      "id": "0bc9a655-51bf-4fd9-b76d-a7d3280ecf02",
      "metadata": {
        "id": "0bc9a655-51bf-4fd9-b76d-a7d3280ecf02",
        "outputId": "8bfebdea-508c-4b8a-c3b3-ef3ad9fa883d"
      },
      "outputs": [
        {
          "name": "stdout",
          "output_type": "stream",
          "text": [
            "(1216, 300)\n"
          ]
        }
      ],
      "source": [
        "#print(np.shape(vec_pt_en))\n",
        "#print(np.shape(vec_pt_pt))\n",
        "print(np.shape(vec_en_en))"
      ]
    },
    {
      "cell_type": "code",
      "execution_count": null,
      "id": "1c866a60-a1bb-4006-b09c-6ba3877e4700",
      "metadata": {
        "id": "1c866a60-a1bb-4006-b09c-6ba3877e4700",
        "outputId": "5b5497c4-a63b-4564-cb1c-95f73c0835a8"
      },
      "outputs": [
        {
          "data": {
            "text/html": [
              "<div>\n",
              "<style scoped>\n",
              "    .dataframe tbody tr th:only-of-type {\n",
              "        vertical-align: middle;\n",
              "    }\n",
              "\n",
              "    .dataframe tbody tr th {\n",
              "        vertical-align: top;\n",
              "    }\n",
              "\n",
              "    .dataframe thead th {\n",
              "        text-align: right;\n",
              "    }\n",
              "</style>\n",
              "<table border=\"1\" class=\"dataframe\">\n",
              "  <thead>\n",
              "    <tr style=\"text-align: right;\">\n",
              "      <th></th>\n",
              "      <th>produto</th>\n",
              "      <th>HandTranslate</th>\n",
              "      <th>text_lem_en</th>\n",
              "      <th>vec_en_en</th>\n",
              "    </tr>\n",
              "    <tr>\n",
              "      <th>id</th>\n",
              "      <th></th>\n",
              "      <th></th>\n",
              "      <th></th>\n",
              "      <th></th>\n",
              "    </tr>\n",
              "  </thead>\n",
              "  <tbody>\n",
              "    <tr>\n",
              "      <th>0</th>\n",
              "      <td>Notebook Lenovo Ultrafino ideapad S145 i5-1035...</td>\n",
              "      <td>Lenovo Ultra Slim notebook ideapad S145 i5-103...</td>\n",
              "      <td>lenovo ultra slim notebook ideapad windows dol...</td>\n",
              "      <td>[-0.040196627, 0.037964586, 0.12528834, 0.1376...</td>\n",
              "    </tr>\n",
              "    <tr>\n",
              "      <th>1</th>\n",
              "      <td>Impressora multifuncional HP DeskJet Ink Advan...</td>\n",
              "      <td>HP DeskJet Ink Advantage 2774 All-in-One Print...</td>\n",
              "      <td>hp deskjet ink advantage printer wi fi</td>\n",
              "      <td>[-0.16277957, 0.3082428, 0.20211728, -0.341405...</td>\n",
              "    </tr>\n",
              "    <tr>\n",
              "      <th>2</th>\n",
              "      <td>Multifuncional Epson EcoTank L3150 - Tanque de...</td>\n",
              "      <td>Epson EcoTank L3150 All-in-One - Color Ink Tan...</td>\n",
              "      <td>epson ecotank color ink tank wi fi direct usb ...</td>\n",
              "      <td>[-0.0749131, 0.18274601, -0.023975002, -0.1869...</td>\n",
              "    </tr>\n",
              "    <tr>\n",
              "      <th>3</th>\n",
              "      <td>Suporte para Notebook, OCTOO, Uptable, UP-BL, ...</td>\n",
              "      <td>Notebook Stand; OCTOO; Uptable; UP-BL; Black</td>\n",
              "      <td>notebook stand octoo uptable bl black</td>\n",
              "      <td>[-0.15552501, -0.015179333, 0.10225833, 0.0317...</td>\n",
              "    </tr>\n",
              "    <tr>\n",
              "      <th>4</th>\n",
              "      <td>Apple iPad 8ª Geração 10.2\", Wi-Fi, 128GB Spac...</td>\n",
              "      <td>Apple iPad 8th Generation 10.2\"; Wi-Fi; 128GB ...</td>\n",
              "      <td>apple ipad generation wi fi space gray</td>\n",
              "      <td>[0.059818573, 0.11286, 0.04684043, -0.17929544...</td>\n",
              "    </tr>\n",
              "  </tbody>\n",
              "</table>\n",
              "</div>"
            ],
            "text/plain": [
              "                                              produto  \\\n",
              "id                                                      \n",
              "0   Notebook Lenovo Ultrafino ideapad S145 i5-1035...   \n",
              "1   Impressora multifuncional HP DeskJet Ink Advan...   \n",
              "2   Multifuncional Epson EcoTank L3150 - Tanque de...   \n",
              "3   Suporte para Notebook, OCTOO, Uptable, UP-BL, ...   \n",
              "4   Apple iPad 8ª Geração 10.2\", Wi-Fi, 128GB Spac...   \n",
              "\n",
              "                                        HandTranslate  \\\n",
              "id                                                      \n",
              "0   Lenovo Ultra Slim notebook ideapad S145 i5-103...   \n",
              "1   HP DeskJet Ink Advantage 2774 All-in-One Print...   \n",
              "2   Epson EcoTank L3150 All-in-One - Color Ink Tan...   \n",
              "3        Notebook Stand; OCTOO; Uptable; UP-BL; Black   \n",
              "4   Apple iPad 8th Generation 10.2\"; Wi-Fi; 128GB ...   \n",
              "\n",
              "                                          text_lem_en  \\\n",
              "id                                                      \n",
              "0   lenovo ultra slim notebook ideapad windows dol...   \n",
              "1              hp deskjet ink advantage printer wi fi   \n",
              "2   epson ecotank color ink tank wi fi direct usb ...   \n",
              "3               notebook stand octoo uptable bl black   \n",
              "4              apple ipad generation wi fi space gray   \n",
              "\n",
              "                                            vec_en_en  \n",
              "id                                                     \n",
              "0   [-0.040196627, 0.037964586, 0.12528834, 0.1376...  \n",
              "1   [-0.16277957, 0.3082428, 0.20211728, -0.341405...  \n",
              "2   [-0.0749131, 0.18274601, -0.023975002, -0.1869...  \n",
              "3   [-0.15552501, -0.015179333, 0.10225833, 0.0317...  \n",
              "4   [0.059818573, 0.11286, 0.04684043, -0.17929544...  "
            ]
          },
          "execution_count": 34,
          "metadata": {},
          "output_type": "execute_result"
        }
      ],
      "source": [
        "#data_final['vec_pt_en'] = vec_pt_en\n",
        "#data_final['vec_pt_pt'] = vec_pt_pt\n",
        "data_final['vec_en_en'] = vec_en_en\n",
        "data_final.head()"
      ]
    },
    {
      "cell_type": "code",
      "execution_count": null,
      "id": "c6c25560-171f-48a6-a61b-766ad1a16504",
      "metadata": {
        "id": "c6c25560-171f-48a6-a61b-766ad1a16504"
      },
      "outputs": [],
      "source": [
        "data_final.to_csv('produtos_amazon_descricao_lemmatizada_wordvec_en_en.csv')"
      ]
    }
  ],
  "metadata": {
    "kernelspec": {
      "display_name": "Python 3",
      "language": "python",
      "name": "python3"
    },
    "language_info": {
      "codemirror_mode": {
        "name": "ipython",
        "version": 3
      },
      "file_extension": ".py",
      "mimetype": "text/x-python",
      "name": "python",
      "nbconvert_exporter": "python",
      "pygments_lexer": "ipython3",
      "version": "3.8.8"
    },
    "colab": {
      "name": "NLP Amazon - word embedding.ipynb",
      "provenance": [],
      "collapsed_sections": []
    }
  },
  "nbformat": 4,
  "nbformat_minor": 5
}